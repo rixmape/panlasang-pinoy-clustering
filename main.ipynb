{
 "cells": [
  {
   "cell_type": "markdown",
   "metadata": {},
   "source": [
    "# Association Analysis of Filipino Cuisine Ingredients\n"
   ]
  },
  {
   "cell_type": "markdown",
   "metadata": {},
   "source": [
    "## Data loading and preview\n"
   ]
  },
  {
   "cell_type": "markdown",
   "metadata": {},
   "source": [
    "### Read JSON files\n"
   ]
  },
  {
   "cell_type": "code",
   "execution_count": 1,
   "metadata": {},
   "outputs": [
    {
     "data": {
      "text/plain": [
       "{'link': 'https://www.allrecipes.com/recipe/128699/famous-chicken-adobo/',\n",
       " 'name': 'Famous Chicken Adobo',\n",
       " 'ingredients': ['2 tablespoons vegetable oil',\n",
       "  '1 (3 pound) chicken, cut into pieces',\n",
       "  '1 large onion, quartered and sliced',\n",
       "  '2 tablespoons minced garlic',\n",
       "  ' 2/3  cup low sodium soy sauce',\n",
       "  ' 1/3  cup white vinegar',\n",
       "  '1 tablespoon garlic powder',\n",
       "  '2 teaspoons black pepper',\n",
       "  '1  bay leaf'],\n",
       " 'instructions': ['Step 1: Heat vegetable oil in a large skillet over medium-high heat. Cook chicken pieces until golden brown, 2 to 3 minutes per side. Transfer chicken to a plate and set aside.',\n",
       "  'Step 2: Add onion and garlic to the skillet; cook until softened and brown, about 6 minutes.',\n",
       "  'Step 3: Pour in soy sauce and vinegar and season with garlic powder, black pepper, and bay leaf.',\n",
       "  'Step 4: Return chicken to pan, increase heat to high, and bring to a boil. Reduce heat to medium-low, cover, and simmer until chicken is tender and cooked through, 35 to 40 minutes.']}"
      ]
     },
     "execution_count": 42,
     "metadata": {},
     "output_type": "execute_result"
    }
   ],
   "source": [
    "import json\n",
    "import os\n",
    "\n",
    "\n",
    "def load_recipes(path=\"data/recipes\"):\n",
    "    \"\"\"Combines all recipe data into a single list.\"\"\"\n",
    "    files = [file for file in os.listdir(path)]\n",
    "\n",
    "    recipes = []\n",
    "    for file in files:\n",
    "        file_path = os.path.join(path, file)\n",
    "        with open(file_path, encoding=\"utf-8\") as f:\n",
    "            recipe_data = json.load(f)\n",
    "            recipes.extend(recipe_data)\n",
    "\n",
    "    return recipes\n",
    "\n",
    "\n",
    "recipes = load_recipes()\n",
    "recipes[0]"
   ]
  },
  {
   "cell_type": "markdown",
   "metadata": {},
   "source": [
    "### Convert JSON to DataFrame\n"
   ]
  },
  {
   "cell_type": "code",
   "execution_count": 2,
   "metadata": {},
   "outputs": [
    {
     "data": {
      "text/html": [
       "<div>\n",
       "<style scoped>\n",
       "    .dataframe tbody tr th:only-of-type {\n",
       "        vertical-align: middle;\n",
       "    }\n",
       "\n",
       "    .dataframe tbody tr th {\n",
       "        vertical-align: top;\n",
       "    }\n",
       "\n",
       "    .dataframe thead th {\n",
       "        text-align: right;\n",
       "    }\n",
       "</style>\n",
       "<table border=\"1\" class=\"dataframe\">\n",
       "  <thead>\n",
       "    <tr style=\"text-align: right;\">\n",
       "      <th></th>\n",
       "      <th>link</th>\n",
       "      <th>name</th>\n",
       "      <th>ingredients</th>\n",
       "      <th>instructions</th>\n",
       "    </tr>\n",
       "  </thead>\n",
       "  <tbody>\n",
       "    <tr>\n",
       "      <th>0</th>\n",
       "      <td>https://www.allrecipes.com/recipe/128699/famou...</td>\n",
       "      <td>Famous Chicken Adobo</td>\n",
       "      <td>[2 tablespoons vegetable oil, 1 (3 pound) chic...</td>\n",
       "      <td>[Step 1: Heat vegetable oil in a large skillet...</td>\n",
       "    </tr>\n",
       "    <tr>\n",
       "      <th>1</th>\n",
       "      <td>https://www.allrecipes.com/recipe/212994/pinak...</td>\n",
       "      <td>Pinakbet</td>\n",
       "      <td>[3 tablespoons olive oil, 1  onion, chopped, 2...</td>\n",
       "      <td>[Step 1: Heat oil in a large pot over medium h...</td>\n",
       "    </tr>\n",
       "    <tr>\n",
       "      <th>2</th>\n",
       "      <td>https://www.allrecipes.com/recipe/204958/pork-...</td>\n",
       "      <td>Pork Sinigang</td>\n",
       "      <td>[1 tablespoon vegetable oil, 1 small onion, ch...</td>\n",
       "      <td>[Step 1: Heat vegetable oil in a skillet over ...</td>\n",
       "    </tr>\n",
       "    <tr>\n",
       "      <th>3</th>\n",
       "      <td>https://www.allrecipes.com/recipe/270708/lumpi...</td>\n",
       "      <td>Lumpia in the Air Fryer</td>\n",
       "      <td>[1 pound Italian hot sausage links,  1/2 cup f...</td>\n",
       "      <td>[Step 1: Remove casing from sausage and cook i...</td>\n",
       "    </tr>\n",
       "    <tr>\n",
       "      <th>4</th>\n",
       "      <td>https://www.allrecipes.com/recipe/212911/filip...</td>\n",
       "      <td>Filipino Beef Steak</td>\n",
       "      <td>[4 pounds New York strip steak, sliced thin, 1...</td>\n",
       "      <td>[Step 1: Place sliced beef in a large bowl. Wh...</td>\n",
       "    </tr>\n",
       "  </tbody>\n",
       "</table>\n",
       "</div>"
      ],
      "text/plain": [
       "                                                link                     name  \\\n",
       "0  https://www.allrecipes.com/recipe/128699/famou...     Famous Chicken Adobo   \n",
       "1  https://www.allrecipes.com/recipe/212994/pinak...                 Pinakbet   \n",
       "2  https://www.allrecipes.com/recipe/204958/pork-...            Pork Sinigang   \n",
       "3  https://www.allrecipes.com/recipe/270708/lumpi...  Lumpia in the Air Fryer   \n",
       "4  https://www.allrecipes.com/recipe/212911/filip...      Filipino Beef Steak   \n",
       "\n",
       "                                         ingredients  \\\n",
       "0  [2 tablespoons vegetable oil, 1 (3 pound) chic...   \n",
       "1  [3 tablespoons olive oil, 1  onion, chopped, 2...   \n",
       "2  [1 tablespoon vegetable oil, 1 small onion, ch...   \n",
       "3  [1 pound Italian hot sausage links,  1/2 cup f...   \n",
       "4  [4 pounds New York strip steak, sliced thin, 1...   \n",
       "\n",
       "                                        instructions  \n",
       "0  [Step 1: Heat vegetable oil in a large skillet...  \n",
       "1  [Step 1: Heat oil in a large pot over medium h...  \n",
       "2  [Step 1: Heat vegetable oil in a skillet over ...  \n",
       "3  [Step 1: Remove casing from sausage and cook i...  \n",
       "4  [Step 1: Place sliced beef in a large bowl. Wh...  "
      ]
     },
     "execution_count": 43,
     "metadata": {},
     "output_type": "execute_result"
    }
   ],
   "source": [
    "import pandas as pd\n",
    "\n",
    "\n",
    "recipe_df = pd.DataFrame(recipes)\n",
    "recipe_df.head()"
   ]
  },
  {
   "cell_type": "code",
   "execution_count": 3,
   "metadata": {},
   "outputs": [
    {
     "name": "stdout",
     "output_type": "stream",
     "text": [
      "<class 'pandas.core.frame.DataFrame'>\n",
      "RangeIndex: 4244 entries, 0 to 4243\n",
      "Data columns (total 4 columns):\n",
      " #   Column        Non-Null Count  Dtype \n",
      "---  ------        --------------  ----- \n",
      " 0   link          4244 non-null   object\n",
      " 1   name          3898 non-null   object\n",
      " 2   ingredients   3896 non-null   object\n",
      " 3   instructions  3872 non-null   object\n",
      "dtypes: object(4)\n",
      "memory usage: 132.8+ KB\n"
     ]
    }
   ],
   "source": [
    "recipe_df.info()"
   ]
  },
  {
   "cell_type": "markdown",
   "metadata": {},
   "source": [
    "### Display some statistics\n"
   ]
  },
  {
   "cell_type": "code",
   "execution_count": 4,
   "metadata": {},
   "outputs": [
    {
     "data": {
      "image/png": "[encoded data removed]",
      "text/plain": [
       "<Figure size 768x288 with 1 Axes>"
      ]
     },
     "metadata": {
      "image/png": {
       "height": 278,
       "width": 758
      }
     },
     "output_type": "display_data"
    },
    {
     "data": {
      "image/png": "[encoded data removed]",
      "text/plain": [
       "<Figure size 768x672 with 1 Axes>"
      ]
     },
     "metadata": {
      "image/png": {
       "height": 662,
       "width": 757
      }
     },
     "output_type": "display_data"
    }
   ],
   "source": [
    "%matplotlib inline\n",
    "\n",
    "import matplotlib.pyplot as plt\n",
    "import seaborn as sns\n",
    "\n",
    "\n",
    "def plot_ingredient_count_distribution(ingredient_series, figsize=(8, 3)):\n",
    "    \"\"\"Plots the distribution of the number of ingredients in recipes.\"\"\"\n",
    "    counts = ingredient_series.dropna().apply(len)\n",
    "    plt.figure(figsize=figsize)\n",
    "    sns.histplot(counts, kde=True, binwidth=1)\n",
    "    plt.title(f\"Number of ingredients in {len(counts)} recipes\")\n",
    "    plt.xlabel(\"Number of ingredients\")\n",
    "    plt.ylabel(\"Number of recipes\")\n",
    "    plt.tight_layout()\n",
    "    plt.show()\n",
    "\n",
    "\n",
    "def plot_common_ingredients(\n",
    "    ingredient_series, n=30, most_common=True, figsize=(8, 7)\n",
    "):\n",
    "    \"\"\"Plots the most or least common ingredients.\"\"\"\n",
    "    all_ingredients = ingredient_series.dropna().explode()\n",
    "    ingredient_counts = all_ingredients.value_counts()\n",
    "\n",
    "    if most_common:\n",
    "        top_n_ingredients = ingredient_counts.head(n)\n",
    "    else:\n",
    "        top_n_ingredients = ingredient_counts.tail(n)\n",
    "\n",
    "    ylabels = [\n",
    "        f\"{i[:20]:>20}{'...' if len(i) > 20 else ''}\"\n",
    "        for i in top_n_ingredients.index\n",
    "    ]\n",
    "    plt.figure(figsize=figsize)\n",
    "    sns.barplot(x=top_n_ingredients.values, y=ylabels)\n",
    "    indicator = \"Most\" if most_common else \"Least\"\n",
    "    plt.title(f\"Top {n} {indicator} Common Ingredients\")\n",
    "    plt.xlabel(\"Number of Recipes\")\n",
    "    plt.ylabel(\"Ingredient\")\n",
    "    plt.tight_layout()\n",
    "    plt.show()\n",
    "\n",
    "\n",
    "plot_ingredient_count_distribution(recipe_df.ingredients)\n",
    "plot_common_ingredients(recipe_df.ingredients, n=30, most_common=True)"
   ]
  },
  {
   "cell_type": "markdown",
   "metadata": {},
   "source": [
    "## Preprocessing\n"
   ]
  },
  {
   "cell_type": "markdown",
   "metadata": {},
   "source": [
    "### Step 0. Remove recipes with no ingredients\n"
   ]
  },
  {
   "cell_type": "code",
   "execution_count": 5,
   "metadata": {},
   "outputs": [
    {
     "name": "stdout",
     "output_type": "stream",
     "text": [
      "Dropped 348 rows.\n"
     ]
    }
   ],
   "source": [
    "def drop_empty_ingredients(recipe_df, column=\"ingredients\"):\n",
    "    \"\"\"Drops rows with empty ingredients.\"\"\"\n",
    "    new_df = recipe_df.dropna(subset=[column])\n",
    "    print(f\"Dropped {recipe_df.shape[0] - new_df.shape[0]} rows.\")\n",
    "    return new_df\n",
    "\n",
    "\n",
    "recipe_df = drop_empty_ingredients(recipe_df)"
   ]
  },
  {
   "cell_type": "code",
   "execution_count": 6,
   "metadata": {},
   "outputs": [],
   "source": [
    "def save_ingredients(ingredient_series, path):\n",
    "    \"\"\"Saves the ingredients to a TXT file.\"\"\"\n",
    "    os.makedirs(os.path.dirname(path), exist_ok=True)\n",
    "\n",
    "    all_ingredients = ingredient_series.dropna().explode()\n",
    "    data = sorted(all_ingredients.unique().astype(str))\n",
    "\n",
    "    with open(path, \"w\", encoding=\"utf-8\") as file:\n",
    "        for ingredient in data:\n",
    "            file.write(f\"{ingredient.strip()}\\n\")\n",
    "\n",
    "\n",
    "save_ingredients(\n",
    "    recipe_df.ingredients,\n",
    "    path=\"data/preprocess_output/0_raw.txt\",\n",
    ")"
   ]
  },
  {
   "cell_type": "markdown",
   "metadata": {},
   "source": [
    "### Step 1. Clean ingredient format\n"
   ]
  },
  {
   "cell_type": "code",
   "execution_count": 7,
   "metadata": {},
   "outputs": [
    {
     "name": "stderr",
     "output_type": "stream",
     "text": [
      "\r",
      "  0%|          | 0/3896 [00:00<?, ?it/s]"
     ]
    },
    {
     "name": "stderr",
     "output_type": "stream",
     "text": [
      "\r",
      "100%|██████████| 3896/3896 [00:00<00:00, 58295.58it/s]"
     ]
    },
    {
     "name": "stderr",
     "output_type": "stream",
     "text": [
      "\n"
     ]
    }
   ],
   "source": [
    "import re\n",
    "\n",
    "from tqdm import tqdm\n",
    "\n",
    "tqdm.pandas()\n",
    "\n",
    "\n",
    "def remove_parentheses(ingredient):\n",
    "    \"\"\"Removes parentheses and content from ingredient strings.\"\"\"\n",
    "    return re.sub(r\" ?\\([^)]+\\)\", \"\", ingredient)\n",
    "\n",
    "\n",
    "def select_first_option(ingredient):\n",
    "    \"\"\"Selects the first option in a string with multiple options.\"\"\"\n",
    "    return ingredient.split(\" or \")[0]\n",
    "\n",
    "\n",
    "def clean_ingredient(ingredient):\n",
    "    \"\"\"Cleans an ingredient string.\"\"\"\n",
    "    ingredient = remove_parentheses(ingredient)\n",
    "    ingredient = select_first_option(ingredient)\n",
    "    return ingredient.lower().strip()\n",
    "\n",
    "\n",
    "recipe_df[\"cleaned\"] = recipe_df.ingredients.progress_apply(\n",
    "    lambda x: [cleaned for i in x if (cleaned := clean_ingredient(i))]\n",
    ")"
   ]
  },
  {
   "cell_type": "code",
   "execution_count": 8,
   "metadata": {},
   "outputs": [],
   "source": [
    "save_ingredients(\n",
    "    recipe_df.cleaned,\n",
    "    path=\"data/preprocess_output/1_cleaned.txt\",\n",
    ")"
   ]
  },
  {
   "cell_type": "markdown",
   "metadata": {},
   "source": [
    "### Step 2. Lemmatize words and remove non-ingredient words\n"
   ]
  },
  {
   "cell_type": "code",
   "execution_count": 9,
   "metadata": {},
   "outputs": [
    {
     "name": "stderr",
     "output_type": "stream",
     "text": [
      "\r",
      "  0%|          | 0/3896 [00:00<?, ?it/s]"
     ]
    },
    {
     "name": "stderr",
     "output_type": "stream",
     "text": [
      "\r",
      "  0%|          | 4/3896 [00:00<02:11, 29.71it/s]"
     ]
    },
    {
     "name": "stderr",
     "output_type": "stream",
     "text": [
      "\r",
      "  0%|          | 7/3896 [00:00<02:13, 29.16it/s]"
     ]
    },
    {
     "name": "stderr",
     "output_type": "stream",
     "text": [
      "\r",
      "  0%|          | 11/3896 [00:00<02:02, 31.76it/s]"
     ]
    },
    {
     "name": "stderr",
     "output_type": "stream",
     "text": [
      "\r",
      "  0%|          | 15/3896 [00:00<02:13, 29.11it/s]"
     ]
    },
    {
     "name": "stderr",
     "output_type": "stream",
     "text": [
      "\r",
      "  0%|          | 18/3896 [00:00<02:26, 26.54it/s]"
     ]
    },
    {
     "name": "stderr",
     "output_type": "stream",
     "text": [
      "\r",
      "  1%|          | 21/3896 [00:00<02:34, 25.07it/s]"
     ]
    },
    {
     "name": "stderr",
     "output_type": "stream",
     "text": [
      "\r",
      "  1%|          | 25/3896 [00:00<02:21, 27.38it/s]"
     ]
    },
    {
     "name": "stderr",
     "output_type": "stream",
     "text": [
      "\r",
      "  1%|          | 29/3896 [00:01<02:17, 28.06it/s]"
     ]
    },
    {
     "name": "stderr",
     "output_type": "stream",
     "text": [
      "\r",
      "  1%|          | 32/3896 [00:01<02:30, 25.65it/s]"
     ]
    },
    {
     "name": "stderr",
     "output_type": "stream",
     "text": [
      "\r",
      "  1%|          | 35/3896 [00:01<02:34, 25.05it/s]"
     ]
    },
    {
     "name": "stderr",
     "output_type": "stream",
     "text": [
      "\r",
      "  1%|          | 38/3896 [00:01<02:35, 24.81it/s]"
     ]
    },
    {
     "name": "stderr",
     "output_type": "stream",
     "text": [
      "\r",
      "  1%|          | 41/3896 [00:01<02:29, 25.84it/s]"
     ]
    },
    {
     "name": "stderr",
     "output_type": "stream",
     "text": [
      "\r",
      "  1%|          | 44/3896 [00:01<02:27, 26.12it/s]"
     ]
    },
    {
     "name": "stderr",
     "output_type": "stream",
     "text": [
      "\r",
      "  1%|          | 47/3896 [00:01<02:32, 25.29it/s]"
     ]
    },
    {
     "name": "stderr",
     "output_type": "stream",
     "text": [
      "\r",
      "  1%|▏         | 51/3896 [00:01<02:20, 27.30it/s]"
     ]
    },
    {
     "name": "stderr",
     "output_type": "stream",
     "text": [
      "\r",
      "  1%|▏         | 54/3896 [00:02<02:17, 27.88it/s]"
     ]
    },
    {
     "name": "stderr",
     "output_type": "stream",
     "text": [
      "\r",
      "  1%|▏         | 58/3896 [00:02<02:11, 29.16it/s]"
     ]
    },
    {
     "name": "stderr",
     "output_type": "stream",
     "text": [
      "\r",
      "  2%|▏         | 61/3896 [00:02<02:23, 26.79it/s]"
     ]
    },
    {
     "name": "stderr",
     "output_type": "stream",
     "text": [
      "\r",
      "  2%|▏         | 64/3896 [00:02<02:25, 26.37it/s]"
     ]
    },
    {
     "name": "stderr",
     "output_type": "stream",
     "text": [
      "\r",
      "  2%|▏         | 67/3896 [00:02<02:25, 26.34it/s]"
     ]
    },
    {
     "name": "stderr",
     "output_type": "stream",
     "text": [
      "\r",
      "  2%|▏         | 70/3896 [00:02<02:44, 23.27it/s]"
     ]
    },
    {
     "name": "stderr",
     "output_type": "stream",
     "text": [
      "\r",
      "  2%|▏         | 73/3896 [00:02<02:42, 23.59it/s]"
     ]
    },
    {
     "name": "stderr",
     "output_type": "stream",
     "text": [
      "\r",
      "  2%|▏         | 76/3896 [00:02<02:32, 25.02it/s]"
     ]
    },
    {
     "name": "stderr",
     "output_type": "stream",
     "text": [
      "\r",
      "  2%|▏         | 80/3896 [00:02<02:13, 28.49it/s]"
     ]
    },
    {
     "name": "stderr",
     "output_type": "stream",
     "text": [
      "\r",
      "  2%|▏         | 84/3896 [00:03<02:11, 28.91it/s]"
     ]
    },
    {
     "name": "stderr",
     "output_type": "stream",
     "text": [
      "\r",
      "  2%|▏         | 87/3896 [00:03<02:11, 29.05it/s]"
     ]
    },
    {
     "name": "stderr",
     "output_type": "stream",
     "text": [
      "\r",
      "  2%|▏         | 91/3896 [00:03<02:08, 29.64it/s]"
     ]
    },
    {
     "name": "stderr",
     "output_type": "stream",
     "text": [
      "\r",
      "  2%|▏         | 94/3896 [00:03<02:20, 27.00it/s]"
     ]
    },
    {
     "name": "stderr",
     "output_type": "stream",
     "text": [
      "\r",
      "  3%|▎         | 98/3896 [00:03<02:12, 28.74it/s]"
     ]
    },
    {
     "name": "stderr",
     "output_type": "stream",
     "text": [
      "\r",
      "  3%|▎         | 101/3896 [00:03<02:32, 24.85it/s]"
     ]
    },
    {
     "name": "stderr",
     "output_type": "stream",
     "text": [
      "\r",
      "  3%|▎         | 104/3896 [00:03<02:37, 24.05it/s]"
     ]
    },
    {
     "name": "stderr",
     "output_type": "stream",
     "text": [
      "\r",
      "  3%|▎         | 107/3896 [00:04<02:30, 25.22it/s]"
     ]
    },
    {
     "name": "stderr",
     "output_type": "stream",
     "text": [
      "\r",
      "  3%|▎         | 110/3896 [00:04<02:29, 25.38it/s]"
     ]
    },
    {
     "name": "stderr",
     "output_type": "stream",
     "text": [
      "\r",
      "  3%|▎         | 113/3896 [00:04<02:23, 26.33it/s]"
     ]
    },
    {
     "name": "stderr",
     "output_type": "stream",
     "text": [
      "\r",
      "  3%|▎         | 116/3896 [00:04<02:27, 25.63it/s]"
     ]
    },
    {
     "name": "stderr",
     "output_type": "stream",
     "text": [
      "\r",
      "  3%|▎         | 120/3896 [00:04<02:21, 26.69it/s]"
     ]
    },
    {
     "name": "stderr",
     "output_type": "stream",
     "text": [
      "\r",
      "  3%|▎         | 123/3896 [00:04<02:22, 26.49it/s]"
     ]
    },
    {
     "name": "stderr",
     "output_type": "stream",
     "text": [
      "\r",
      "  3%|▎         | 127/3896 [00:04<02:17, 27.47it/s]"
     ]
    },
    {
     "name": "stderr",
     "output_type": "stream",
     "text": [
      "\r",
      "  3%|▎         | 130/3896 [00:04<02:27, 25.59it/s]"
     ]
    },
    {
     "name": "stderr",
     "output_type": "stream",
     "text": [
      "\r",
      "  3%|▎         | 133/3896 [00:05<02:35, 24.21it/s]"
     ]
    },
    {
     "name": "stderr",
     "output_type": "stream",
     "text": [
      "\r",
      "  3%|▎         | 136/3896 [00:05<02:29, 25.21it/s]"
     ]
    },
    {
     "name": "stderr",
     "output_type": "stream",
     "text": [
      "\r",
      "  4%|▎         | 139/3896 [00:05<02:31, 24.84it/s]"
     ]
    },
    {
     "name": "stderr",
     "output_type": "stream",
     "text": [
      "\r",
      "  4%|▎         | 142/3896 [00:05<02:28, 25.26it/s]"
     ]
    },
    {
     "name": "stderr",
     "output_type": "stream",
     "text": [
      "\r",
      "  4%|▍         | 147/3896 [00:05<02:09, 28.85it/s]"
     ]
    },
    {
     "name": "stderr",
     "output_type": "stream",
     "text": [
      "\r",
      "  4%|▍         | 151/3896 [00:05<02:18, 27.11it/s]"
     ]
    },
    {
     "name": "stderr",
     "output_type": "stream",
     "text": [
      "\r",
      "  4%|▍         | 154/3896 [00:05<02:15, 27.55it/s]"
     ]
    },
    {
     "name": "stderr",
     "output_type": "stream",
     "text": [
      "\r",
      "  4%|▍         | 158/3896 [00:05<02:06, 29.59it/s]"
     ]
    },
    {
     "name": "stderr",
     "output_type": "stream",
     "text": [
      "\r",
      "  4%|▍         | 162/3896 [00:06<02:00, 30.87it/s]"
     ]
    },
    {
     "name": "stderr",
     "output_type": "stream",
     "text": [
      "\r",
      "  4%|▍         | 166/3896 [00:06<02:05, 29.64it/s]"
     ]
    },
    {
     "name": "stderr",
     "output_type": "stream",
     "text": [
      "\r",
      "  4%|▍         | 169/3896 [00:06<02:06, 29.39it/s]"
     ]
    },
    {
     "name": "stderr",
     "output_type": "stream",
     "text": [
      "\r",
      "  4%|▍         | 172/3896 [00:06<02:10, 28.50it/s]"
     ]
    },
    {
     "name": "stderr",
     "output_type": "stream",
     "text": [
      "\r",
      "  4%|▍         | 175/3896 [00:06<02:09, 28.78it/s]"
     ]
    },
    {
     "name": "stderr",
     "output_type": "stream",
     "text": [
      "\r",
      "  5%|▍         | 178/3896 [00:06<02:09, 28.70it/s]"
     ]
    },
    {
     "name": "stderr",
     "output_type": "stream",
     "text": [
      "\r",
      "  5%|▍         | 181/3896 [00:06<02:25, 25.61it/s]"
     ]
    },
    {
     "name": "stderr",
     "output_type": "stream",
     "text": [
      "\r",
      "  5%|▍         | 184/3896 [00:06<02:20, 26.49it/s]"
     ]
    },
    {
     "name": "stderr",
     "output_type": "stream",
     "text": [
      "\r",
      "  5%|▍         | 188/3896 [00:06<02:11, 28.24it/s]"
     ]
    },
    {
     "name": "stderr",
     "output_type": "stream",
     "text": [
      "\r",
      "  5%|▍         | 192/3896 [00:07<02:18, 26.71it/s]"
     ]
    },
    {
     "name": "stderr",
     "output_type": "stream",
     "text": [
      "\r",
      "  5%|▌         | 195/3896 [00:07<02:15, 27.24it/s]"
     ]
    },
    {
     "name": "stderr",
     "output_type": "stream",
     "text": [
      "\r",
      "  5%|▌         | 198/3896 [00:07<02:13, 27.80it/s]"
     ]
    },
    {
     "name": "stderr",
     "output_type": "stream",
     "text": [
      "\r",
      "  5%|▌         | 203/3896 [00:07<01:50, 33.42it/s]"
     ]
    },
    {
     "name": "stderr",
     "output_type": "stream",
     "text": [
      "\r",
      "  5%|▌         | 207/3896 [00:07<01:46, 34.69it/s]"
     ]
    },
    {
     "name": "stderr",
     "output_type": "stream",
     "text": [
      "\r",
      "  5%|▌         | 213/3896 [00:07<01:31, 40.14it/s]"
     ]
    },
    {
     "name": "stderr",
     "output_type": "stream",
     "text": [
      "\r",
      "  6%|▌         | 218/3896 [00:07<01:52, 32.70it/s]"
     ]
    },
    {
     "name": "stderr",
     "output_type": "stream",
     "text": [
      "\r",
      "  6%|▌         | 222/3896 [00:08<02:00, 30.42it/s]"
     ]
    },
    {
     "name": "stderr",
     "output_type": "stream",
     "text": [
      "\r",
      "  6%|▌         | 226/3896 [00:08<02:13, 27.42it/s]"
     ]
    },
    {
     "name": "stderr",
     "output_type": "stream",
     "text": [
      "\r",
      "  6%|▌         | 230/3896 [00:08<02:05, 29.18it/s]"
     ]
    },
    {
     "name": "stderr",
     "output_type": "stream",
     "text": [
      "\r",
      "  6%|▌         | 236/3896 [00:08<01:42, 35.75it/s]"
     ]
    },
    {
     "name": "stderr",
     "output_type": "stream",
     "text": [
      "\r",
      "  6%|▌         | 240/3896 [00:08<01:52, 32.58it/s]"
     ]
    },
    {
     "name": "stderr",
     "output_type": "stream",
     "text": [
      "\r",
      "  6%|▋         | 244/3896 [00:08<01:47, 33.91it/s]"
     ]
    },
    {
     "name": "stderr",
     "output_type": "stream",
     "text": [
      "\r",
      "  6%|▋         | 248/3896 [00:08<01:55, 31.53it/s]"
     ]
    },
    {
     "name": "stderr",
     "output_type": "stream",
     "text": [
      "\r",
      "  6%|▋         | 252/3896 [00:09<02:08, 28.32it/s]"
     ]
    },
    {
     "name": "stderr",
     "output_type": "stream",
     "text": [
      "\r",
      "  7%|▋         | 256/3896 [00:09<02:01, 29.91it/s]"
     ]
    },
    {
     "name": "stderr",
     "output_type": "stream",
     "text": [
      "\r",
      "  7%|▋         | 260/3896 [00:09<02:10, 27.95it/s]"
     ]
    },
    {
     "name": "stderr",
     "output_type": "stream",
     "text": [
      "\r",
      "  7%|▋         | 263/3896 [00:09<02:17, 26.46it/s]"
     ]
    },
    {
     "name": "stderr",
     "output_type": "stream",
     "text": [
      "\r",
      "  7%|▋         | 268/3896 [00:09<01:55, 31.44it/s]"
     ]
    },
    {
     "name": "stderr",
     "output_type": "stream",
     "text": [
      "\r",
      "  7%|▋         | 273/3896 [00:09<01:44, 34.64it/s]"
     ]
    },
    {
     "name": "stderr",
     "output_type": "stream",
     "text": [
      "\r",
      "  7%|▋         | 277/3896 [00:09<01:50, 32.85it/s]"
     ]
    },
    {
     "name": "stderr",
     "output_type": "stream",
     "text": [
      "\r",
      "  7%|▋         | 281/3896 [00:09<01:48, 33.39it/s]"
     ]
    },
    {
     "name": "stderr",
     "output_type": "stream",
     "text": [
      "\r",
      "  7%|▋         | 285/3896 [00:10<01:44, 34.52it/s]"
     ]
    },
    {
     "name": "stderr",
     "output_type": "stream",
     "text": [
      "\r",
      "  7%|▋         | 289/3896 [00:10<01:52, 32.07it/s]"
     ]
    },
    {
     "name": "stderr",
     "output_type": "stream",
     "text": [
      "\r",
      "  8%|▊         | 294/3896 [00:10<01:43, 34.68it/s]"
     ]
    },
    {
     "name": "stderr",
     "output_type": "stream",
     "text": [
      "\r",
      "  8%|▊         | 299/3896 [00:10<01:38, 36.43it/s]"
     ]
    },
    {
     "name": "stderr",
     "output_type": "stream",
     "text": [
      "\r",
      "  8%|▊         | 303/3896 [00:10<01:37, 36.91it/s]"
     ]
    },
    {
     "name": "stderr",
     "output_type": "stream",
     "text": [
      "\r",
      "  8%|▊         | 307/3896 [00:10<01:36, 37.11it/s]"
     ]
    },
    {
     "name": "stderr",
     "output_type": "stream",
     "text": [
      "\r",
      "  8%|▊         | 311/3896 [00:10<01:46, 33.67it/s]"
     ]
    },
    {
     "name": "stderr",
     "output_type": "stream",
     "text": [
      "\r",
      "  8%|▊         | 315/3896 [00:10<01:53, 31.59it/s]"
     ]
    },
    {
     "name": "stderr",
     "output_type": "stream",
     "text": [
      "\r",
      "  8%|▊         | 319/3896 [00:11<01:52, 31.75it/s]"
     ]
    },
    {
     "name": "stderr",
     "output_type": "stream",
     "text": [
      "\r",
      "  8%|▊         | 323/3896 [00:11<01:54, 31.09it/s]"
     ]
    },
    {
     "name": "stderr",
     "output_type": "stream",
     "text": [
      "\r",
      "  8%|▊         | 327/3896 [00:11<01:53, 31.56it/s]"
     ]
    },
    {
     "name": "stderr",
     "output_type": "stream",
     "text": [
      "\r",
      "  8%|▊         | 331/3896 [00:11<02:05, 28.40it/s]"
     ]
    },
    {
     "name": "stderr",
     "output_type": "stream",
     "text": [
      "\r",
      "  9%|▊         | 334/3896 [00:11<02:08, 27.83it/s]"
     ]
    },
    {
     "name": "stderr",
     "output_type": "stream",
     "text": [
      "\r",
      "  9%|▊         | 339/3896 [00:11<01:51, 32.00it/s]"
     ]
    },
    {
     "name": "stderr",
     "output_type": "stream",
     "text": [
      "\r",
      "  9%|▉         | 343/3896 [00:11<01:45, 33.68it/s]"
     ]
    },
    {
     "name": "stderr",
     "output_type": "stream",
     "text": [
      "\r",
      "  9%|▉         | 347/3896 [00:11<01:40, 35.28it/s]"
     ]
    },
    {
     "name": "stderr",
     "output_type": "stream",
     "text": [
      "\r",
      "  9%|▉         | 351/3896 [00:12<01:43, 34.41it/s]"
     ]
    },
    {
     "name": "stderr",
     "output_type": "stream",
     "text": [
      "\r",
      "  9%|▉         | 356/3896 [00:12<01:41, 34.87it/s]"
     ]
    },
    {
     "name": "stderr",
     "output_type": "stream",
     "text": [
      "\r",
      "  9%|▉         | 360/3896 [00:12<01:46, 33.19it/s]"
     ]
    },
    {
     "name": "stderr",
     "output_type": "stream",
     "text": [
      "\r",
      "  9%|▉         | 364/3896 [00:12<01:48, 32.55it/s]"
     ]
    },
    {
     "name": "stderr",
     "output_type": "stream",
     "text": [
      "\r",
      "  9%|▉         | 368/3896 [00:12<01:51, 31.62it/s]"
     ]
    },
    {
     "name": "stderr",
     "output_type": "stream",
     "text": [
      "\r",
      " 10%|▉         | 372/3896 [00:12<01:45, 33.38it/s]"
     ]
    },
    {
     "name": "stderr",
     "output_type": "stream",
     "text": [
      "\r",
      " 10%|▉         | 376/3896 [00:12<01:44, 33.82it/s]"
     ]
    },
    {
     "name": "stderr",
     "output_type": "stream",
     "text": [
      "\r",
      " 10%|▉         | 380/3896 [00:12<01:51, 31.58it/s]"
     ]
    },
    {
     "name": "stderr",
     "output_type": "stream",
     "text": [
      "\r",
      " 10%|▉         | 384/3896 [00:13<01:50, 31.67it/s]"
     ]
    },
    {
     "name": "stderr",
     "output_type": "stream",
     "text": [
      "\r",
      " 10%|▉         | 388/3896 [00:13<01:44, 33.63it/s]"
     ]
    },
    {
     "name": "stderr",
     "output_type": "stream",
     "text": [
      "\r",
      " 10%|█         | 392/3896 [00:13<01:52, 31.12it/s]"
     ]
    },
    {
     "name": "stderr",
     "output_type": "stream",
     "text": [
      "\r",
      " 10%|█         | 396/3896 [00:13<02:10, 26.89it/s]"
     ]
    },
    {
     "name": "stderr",
     "output_type": "stream",
     "text": [
      "\r",
      " 10%|█         | 399/3896 [00:13<02:18, 25.22it/s]"
     ]
    },
    {
     "name": "stderr",
     "output_type": "stream",
     "text": [
      "\r",
      " 10%|█         | 402/3896 [00:13<02:16, 25.59it/s]"
     ]
    },
    {
     "name": "stderr",
     "output_type": "stream",
     "text": [
      "\r",
      " 10%|█         | 405/3896 [00:13<02:19, 25.07it/s]"
     ]
    },
    {
     "name": "stderr",
     "output_type": "stream",
     "text": [
      "\r",
      " 10%|█         | 408/3896 [00:14<02:19, 25.09it/s]"
     ]
    },
    {
     "name": "stderr",
     "output_type": "stream",
     "text": [
      "\r",
      " 11%|█         | 411/3896 [00:14<02:18, 25.23it/s]"
     ]
    },
    {
     "name": "stderr",
     "output_type": "stream",
     "text": [
      "\r",
      " 11%|█         | 416/3896 [00:14<01:51, 31.12it/s]"
     ]
    },
    {
     "name": "stderr",
     "output_type": "stream",
     "text": [
      "\r",
      " 11%|█         | 420/3896 [00:14<01:44, 33.11it/s]"
     ]
    },
    {
     "name": "stderr",
     "output_type": "stream",
     "text": [
      "\r",
      " 11%|█         | 425/3896 [00:14<01:35, 36.51it/s]"
     ]
    },
    {
     "name": "stderr",
     "output_type": "stream",
     "text": [
      "\r",
      " 11%|█         | 429/3896 [00:14<01:47, 32.35it/s]"
     ]
    },
    {
     "name": "stderr",
     "output_type": "stream",
     "text": [
      "\r",
      " 11%|█         | 433/3896 [00:14<02:00, 28.66it/s]"
     ]
    },
    {
     "name": "stderr",
     "output_type": "stream",
     "text": [
      "\r",
      " 11%|█         | 437/3896 [00:14<01:56, 29.70it/s]"
     ]
    },
    {
     "name": "stderr",
     "output_type": "stream",
     "text": [
      "\r",
      " 11%|█▏        | 441/3896 [00:15<01:55, 29.92it/s]"
     ]
    },
    {
     "name": "stderr",
     "output_type": "stream",
     "text": [
      "\r",
      " 11%|█▏        | 445/3896 [00:15<01:50, 31.23it/s]"
     ]
    },
    {
     "name": "stderr",
     "output_type": "stream",
     "text": [
      "\r",
      " 12%|█▏        | 450/3896 [00:15<01:43, 33.42it/s]"
     ]
    },
    {
     "name": "stderr",
     "output_type": "stream",
     "text": [
      "\r",
      " 12%|█▏        | 454/3896 [00:15<01:42, 33.67it/s]"
     ]
    },
    {
     "name": "stderr",
     "output_type": "stream",
     "text": [
      "\r",
      " 12%|█▏        | 458/3896 [00:15<01:45, 32.54it/s]"
     ]
    },
    {
     "name": "stderr",
     "output_type": "stream",
     "text": [
      "\r",
      " 12%|█▏        | 462/3896 [00:15<01:41, 33.79it/s]"
     ]
    },
    {
     "name": "stderr",
     "output_type": "stream",
     "text": [
      "\r",
      " 12%|█▏        | 467/3896 [00:15<01:38, 34.90it/s]"
     ]
    },
    {
     "name": "stderr",
     "output_type": "stream",
     "text": [
      "\r",
      " 12%|█▏        | 471/3896 [00:15<01:43, 33.18it/s]"
     ]
    },
    {
     "name": "stderr",
     "output_type": "stream",
     "text": [
      "\r",
      " 12%|█▏        | 475/3896 [00:16<01:42, 33.50it/s]"
     ]
    },
    {
     "name": "stderr",
     "output_type": "stream",
     "text": [
      "\r",
      " 12%|█▏        | 479/3896 [00:16<01:47, 31.88it/s]"
     ]
    },
    {
     "name": "stderr",
     "output_type": "stream",
     "text": [
      "\r",
      " 12%|█▏        | 484/3896 [00:16<01:38, 34.71it/s]"
     ]
    },
    {
     "name": "stderr",
     "output_type": "stream",
     "text": [
      "\r",
      " 13%|█▎        | 488/3896 [00:16<01:38, 34.71it/s]"
     ]
    },
    {
     "name": "stderr",
     "output_type": "stream",
     "text": [
      "\r",
      " 13%|█▎        | 494/3896 [00:16<01:30, 37.78it/s]"
     ]
    },
    {
     "name": "stderr",
     "output_type": "stream",
     "text": [
      "\r",
      " 13%|█▎        | 499/3896 [00:16<01:28, 38.29it/s]"
     ]
    },
    {
     "name": "stderr",
     "output_type": "stream",
     "text": [
      "\r",
      " 13%|█▎        | 503/3896 [00:16<01:40, 33.86it/s]"
     ]
    },
    {
     "name": "stderr",
     "output_type": "stream",
     "text": [
      "\r",
      " 13%|█▎        | 507/3896 [00:16<01:39, 34.15it/s]"
     ]
    },
    {
     "name": "stderr",
     "output_type": "stream",
     "text": [
      "\r",
      " 13%|█▎        | 511/3896 [00:17<02:06, 26.66it/s]"
     ]
    },
    {
     "name": "stderr",
     "output_type": "stream",
     "text": [
      "\r",
      " 13%|█▎        | 514/3896 [00:17<02:13, 25.43it/s]"
     ]
    },
    {
     "name": "stderr",
     "output_type": "stream",
     "text": [
      "\r",
      " 13%|█▎        | 518/3896 [00:17<02:02, 27.61it/s]"
     ]
    },
    {
     "name": "stderr",
     "output_type": "stream",
     "text": [
      "\r",
      " 13%|█▎        | 521/3896 [00:17<02:04, 27.05it/s]"
     ]
    },
    {
     "name": "stderr",
     "output_type": "stream",
     "text": [
      "\r",
      " 13%|█▎        | 525/3896 [00:17<01:53, 29.73it/s]"
     ]
    },
    {
     "name": "stderr",
     "output_type": "stream",
     "text": [
      "\r",
      " 14%|█▎        | 529/3896 [00:17<01:53, 29.62it/s]"
     ]
    },
    {
     "name": "stderr",
     "output_type": "stream",
     "text": [
      "\r",
      " 14%|█▎        | 533/3896 [00:17<01:52, 29.92it/s]"
     ]
    },
    {
     "name": "stderr",
     "output_type": "stream",
     "text": [
      "\r",
      " 14%|█▍        | 537/3896 [00:18<01:50, 30.40it/s]"
     ]
    },
    {
     "name": "stderr",
     "output_type": "stream",
     "text": [
      "\r",
      " 14%|█▍        | 541/3896 [00:18<01:51, 30.17it/s]"
     ]
    },
    {
     "name": "stderr",
     "output_type": "stream",
     "text": [
      "\r",
      " 14%|█▍        | 545/3896 [00:18<01:46, 31.44it/s]"
     ]
    },
    {
     "name": "stderr",
     "output_type": "stream",
     "text": [
      "\r",
      " 14%|█▍        | 549/3896 [00:18<01:56, 28.71it/s]"
     ]
    },
    {
     "name": "stderr",
     "output_type": "stream",
     "text": [
      "\r",
      " 14%|█▍        | 552/3896 [00:18<01:56, 28.59it/s]"
     ]
    },
    {
     "name": "stderr",
     "output_type": "stream",
     "text": [
      "\r",
      " 14%|█▍        | 556/3896 [00:18<01:52, 29.57it/s]"
     ]
    },
    {
     "name": "stderr",
     "output_type": "stream",
     "text": [
      "\r",
      " 14%|█▍        | 559/3896 [00:18<01:54, 29.16it/s]"
     ]
    },
    {
     "name": "stderr",
     "output_type": "stream",
     "text": [
      "\r",
      " 14%|█▍        | 564/3896 [00:18<01:42, 32.43it/s]"
     ]
    },
    {
     "name": "stderr",
     "output_type": "stream",
     "text": [
      "\r",
      " 15%|█▍        | 568/3896 [00:19<01:40, 33.20it/s]"
     ]
    },
    {
     "name": "stderr",
     "output_type": "stream",
     "text": [
      "\r",
      " 15%|█▍        | 572/3896 [00:19<01:40, 33.04it/s]"
     ]
    },
    {
     "name": "stderr",
     "output_type": "stream",
     "text": [
      "\r",
      " 15%|█▍        | 576/3896 [00:19<01:36, 34.23it/s]"
     ]
    },
    {
     "name": "stderr",
     "output_type": "stream",
     "text": [
      "\r",
      " 15%|█▍        | 580/3896 [00:19<01:34, 35.24it/s]"
     ]
    },
    {
     "name": "stderr",
     "output_type": "stream",
     "text": [
      "\r",
      " 15%|█▍        | 584/3896 [00:19<01:41, 32.64it/s]"
     ]
    },
    {
     "name": "stderr",
     "output_type": "stream",
     "text": [
      "\r",
      " 15%|█▌        | 588/3896 [00:19<01:50, 29.99it/s]"
     ]
    },
    {
     "name": "stderr",
     "output_type": "stream",
     "text": [
      "\r",
      " 15%|█▌        | 592/3896 [00:19<01:45, 31.38it/s]"
     ]
    },
    {
     "name": "stderr",
     "output_type": "stream",
     "text": [
      "\r",
      " 15%|█▌        | 596/3896 [00:19<01:46, 30.93it/s]"
     ]
    },
    {
     "name": "stderr",
     "output_type": "stream",
     "text": [
      "\r",
      " 15%|█▌        | 601/3896 [00:20<01:40, 32.90it/s]"
     ]
    },
    {
     "name": "stderr",
     "output_type": "stream",
     "text": [
      "\r",
      " 16%|█▌        | 605/3896 [00:20<01:40, 32.69it/s]"
     ]
    },
    {
     "name": "stderr",
     "output_type": "stream",
     "text": [
      "\r",
      " 16%|█▌        | 609/3896 [00:20<01:51, 29.59it/s]"
     ]
    },
    {
     "name": "stderr",
     "output_type": "stream",
     "text": [
      "\r",
      " 16%|█▌        | 614/3896 [00:20<01:46, 30.86it/s]"
     ]
    },
    {
     "name": "stderr",
     "output_type": "stream",
     "text": [
      "\r",
      " 16%|█▌        | 619/3896 [00:20<01:36, 33.93it/s]"
     ]
    },
    {
     "name": "stderr",
     "output_type": "stream",
     "text": [
      "\r",
      " 16%|█▌        | 623/3896 [00:20<01:38, 33.21it/s]"
     ]
    },
    {
     "name": "stderr",
     "output_type": "stream",
     "text": [
      "\r",
      " 16%|█▌        | 628/3896 [00:20<01:29, 36.37it/s]"
     ]
    },
    {
     "name": "stderr",
     "output_type": "stream",
     "text": [
      "\r",
      " 16%|█▋        | 634/3896 [00:20<01:22, 39.43it/s]"
     ]
    },
    {
     "name": "stderr",
     "output_type": "stream",
     "text": [
      "\r",
      " 16%|█▋        | 638/3896 [00:21<01:23, 38.86it/s]"
     ]
    },
    {
     "name": "stderr",
     "output_type": "stream",
     "text": [
      "\r",
      " 16%|█▋        | 642/3896 [00:21<01:30, 36.00it/s]"
     ]
    },
    {
     "name": "stderr",
     "output_type": "stream",
     "text": [
      "\r",
      " 17%|█▋        | 646/3896 [00:21<01:31, 35.59it/s]"
     ]
    },
    {
     "name": "stderr",
     "output_type": "stream",
     "text": [
      "\r",
      " 17%|█▋        | 650/3896 [00:21<01:34, 34.34it/s]"
     ]
    },
    {
     "name": "stderr",
     "output_type": "stream",
     "text": [
      "\r",
      " 17%|█▋        | 655/3896 [00:21<01:28, 36.69it/s]"
     ]
    },
    {
     "name": "stderr",
     "output_type": "stream",
     "text": [
      "\r",
      " 17%|█▋        | 659/3896 [00:21<01:36, 33.54it/s]"
     ]
    },
    {
     "name": "stderr",
     "output_type": "stream",
     "text": [
      "\r",
      " 17%|█▋        | 663/3896 [00:21<01:42, 31.65it/s]"
     ]
    },
    {
     "name": "stderr",
     "output_type": "stream",
     "text": [
      "\r",
      " 17%|█▋        | 667/3896 [00:21<01:42, 31.62it/s]"
     ]
    },
    {
     "name": "stderr",
     "output_type": "stream",
     "text": [
      "\r",
      " 17%|█▋        | 671/3896 [00:22<01:48, 29.62it/s]"
     ]
    },
    {
     "name": "stderr",
     "output_type": "stream",
     "text": [
      "\r",
      " 17%|█▋        | 675/3896 [00:22<01:58, 27.07it/s]"
     ]
    },
    {
     "name": "stderr",
     "output_type": "stream",
     "text": [
      "\r",
      " 17%|█▋        | 679/3896 [00:22<01:53, 28.27it/s]"
     ]
    },
    {
     "name": "stderr",
     "output_type": "stream",
     "text": [
      "\r",
      " 18%|█▊        | 682/3896 [00:22<01:58, 27.07it/s]"
     ]
    },
    {
     "name": "stderr",
     "output_type": "stream",
     "text": [
      "\r",
      " 18%|█▊        | 685/3896 [00:22<02:05, 25.56it/s]"
     ]
    },
    {
     "name": "stderr",
     "output_type": "stream",
     "text": [
      "\r",
      " 18%|█▊        | 689/3896 [00:22<02:00, 26.63it/s]"
     ]
    },
    {
     "name": "stderr",
     "output_type": "stream",
     "text": [
      "\r",
      " 18%|█▊        | 694/3896 [00:22<01:48, 29.64it/s]"
     ]
    },
    {
     "name": "stderr",
     "output_type": "stream",
     "text": [
      "\r",
      " 18%|█▊        | 699/3896 [00:23<01:37, 32.64it/s]"
     ]
    },
    {
     "name": "stderr",
     "output_type": "stream",
     "text": [
      "\r",
      " 18%|█▊        | 703/3896 [00:23<01:40, 31.73it/s]"
     ]
    },
    {
     "name": "stderr",
     "output_type": "stream",
     "text": [
      "\r",
      " 18%|█▊        | 708/3896 [00:23<01:32, 34.58it/s]"
     ]
    },
    {
     "name": "stderr",
     "output_type": "stream",
     "text": [
      "\r",
      " 18%|█▊        | 712/3896 [00:23<01:34, 33.65it/s]"
     ]
    },
    {
     "name": "stderr",
     "output_type": "stream",
     "text": [
      "\r",
      " 18%|█▊        | 717/3896 [00:23<01:27, 36.43it/s]"
     ]
    },
    {
     "name": "stderr",
     "output_type": "stream",
     "text": [
      "\r",
      " 19%|█▊        | 721/3896 [00:23<01:32, 34.39it/s]"
     ]
    },
    {
     "name": "stderr",
     "output_type": "stream",
     "text": [
      "\r",
      " 19%|█▊        | 725/3896 [00:23<01:39, 31.89it/s]"
     ]
    },
    {
     "name": "stderr",
     "output_type": "stream",
     "text": [
      "\r",
      " 19%|█▊        | 729/3896 [00:24<01:39, 31.93it/s]"
     ]
    },
    {
     "name": "stderr",
     "output_type": "stream",
     "text": [
      "\r",
      " 19%|█▉        | 733/3896 [00:24<01:33, 33.66it/s]"
     ]
    },
    {
     "name": "stderr",
     "output_type": "stream",
     "text": [
      "\r",
      " 19%|█▉        | 737/3896 [00:24<01:39, 31.63it/s]"
     ]
    },
    {
     "name": "stderr",
     "output_type": "stream",
     "text": [
      "\r",
      " 19%|█▉        | 741/3896 [00:24<01:42, 30.75it/s]"
     ]
    },
    {
     "name": "stderr",
     "output_type": "stream",
     "text": [
      "\r",
      " 19%|█▉        | 745/3896 [00:24<01:43, 30.37it/s]"
     ]
    },
    {
     "name": "stderr",
     "output_type": "stream",
     "text": [
      "\r",
      " 19%|█▉        | 749/3896 [00:24<01:37, 32.28it/s]"
     ]
    },
    {
     "name": "stderr",
     "output_type": "stream",
     "text": [
      "\r",
      " 19%|█▉        | 753/3896 [00:24<01:37, 32.10it/s]"
     ]
    },
    {
     "name": "stderr",
     "output_type": "stream",
     "text": [
      "\r",
      " 19%|█▉        | 757/3896 [00:24<01:43, 30.38it/s]"
     ]
    },
    {
     "name": "stderr",
     "output_type": "stream",
     "text": [
      "\r",
      " 20%|█▉        | 761/3896 [00:25<01:36, 32.45it/s]"
     ]
    },
    {
     "name": "stderr",
     "output_type": "stream",
     "text": [
      "\r",
      " 20%|█▉        | 765/3896 [00:25<01:32, 33.93it/s]"
     ]
    },
    {
     "name": "stderr",
     "output_type": "stream",
     "text": [
      "\r",
      " 20%|█▉        | 769/3896 [00:25<01:41, 30.82it/s]"
     ]
    },
    {
     "name": "stderr",
     "output_type": "stream",
     "text": [
      "\r",
      " 20%|█▉        | 773/3896 [00:25<01:40, 30.96it/s]"
     ]
    },
    {
     "name": "stderr",
     "output_type": "stream",
     "text": [
      "\r",
      " 20%|█▉        | 777/3896 [00:25<01:37, 31.93it/s]"
     ]
    },
    {
     "name": "stderr",
     "output_type": "stream",
     "text": [
      "\r",
      " 20%|██        | 781/3896 [00:25<02:02, 25.50it/s]"
     ]
    },
    {
     "name": "stderr",
     "output_type": "stream",
     "text": [
      "\r",
      " 20%|██        | 784/3896 [00:25<02:03, 25.19it/s]"
     ]
    },
    {
     "name": "stderr",
     "output_type": "stream",
     "text": [
      "\r",
      " 20%|██        | 787/3896 [00:25<01:58, 26.20it/s]"
     ]
    },
    {
     "name": "stderr",
     "output_type": "stream",
     "text": [
      "\r",
      " 20%|██        | 790/3896 [00:26<01:57, 26.47it/s]"
     ]
    },
    {
     "name": "stderr",
     "output_type": "stream",
     "text": [
      "\r",
      " 20%|██        | 794/3896 [00:26<01:56, 26.62it/s]"
     ]
    },
    {
     "name": "stderr",
     "output_type": "stream",
     "text": [
      "\r",
      " 20%|██        | 797/3896 [00:26<02:04, 24.85it/s]"
     ]
    },
    {
     "name": "stderr",
     "output_type": "stream",
     "text": [
      "\r",
      " 21%|██        | 800/3896 [00:26<02:01, 25.53it/s]"
     ]
    },
    {
     "name": "stderr",
     "output_type": "stream",
     "text": [
      "\r",
      " 21%|██        | 804/3896 [00:26<01:52, 27.38it/s]"
     ]
    },
    {
     "name": "stderr",
     "output_type": "stream",
     "text": [
      "\r",
      " 21%|██        | 807/3896 [00:26<01:52, 27.49it/s]"
     ]
    },
    {
     "name": "stderr",
     "output_type": "stream",
     "text": [
      "\r",
      " 21%|██        | 811/3896 [00:26<01:46, 28.88it/s]"
     ]
    },
    {
     "name": "stderr",
     "output_type": "stream",
     "text": [
      "\r",
      " 21%|██        | 814/3896 [00:26<01:49, 28.05it/s]"
     ]
    },
    {
     "name": "stderr",
     "output_type": "stream",
     "text": [
      "\r",
      " 21%|██        | 817/3896 [00:27<01:49, 28.24it/s]"
     ]
    },
    {
     "name": "stderr",
     "output_type": "stream",
     "text": [
      "\r",
      " 21%|██        | 820/3896 [00:27<01:51, 27.63it/s]"
     ]
    },
    {
     "name": "stderr",
     "output_type": "stream",
     "text": [
      "\r",
      " 21%|██        | 824/3896 [00:27<01:45, 29.23it/s]"
     ]
    },
    {
     "name": "stderr",
     "output_type": "stream",
     "text": [
      "\r",
      " 21%|██        | 827/3896 [00:27<01:48, 28.39it/s]"
     ]
    },
    {
     "name": "stderr",
     "output_type": "stream",
     "text": [
      "\r",
      " 21%|██▏       | 830/3896 [00:27<01:46, 28.69it/s]"
     ]
    },
    {
     "name": "stderr",
     "output_type": "stream",
     "text": [
      "\r",
      " 21%|██▏       | 833/3896 [00:27<01:50, 27.80it/s]"
     ]
    },
    {
     "name": "stderr",
     "output_type": "stream",
     "text": [
      "\r",
      " 21%|██▏       | 836/3896 [00:27<01:49, 27.98it/s]"
     ]
    },
    {
     "name": "stderr",
     "output_type": "stream",
     "text": [
      "\r",
      " 22%|██▏       | 839/3896 [00:27<01:56, 26.27it/s]"
     ]
    },
    {
     "name": "stderr",
     "output_type": "stream",
     "text": [
      "\r",
      " 22%|██▏       | 842/3896 [00:28<02:01, 25.14it/s]"
     ]
    },
    {
     "name": "stderr",
     "output_type": "stream",
     "text": [
      "\r",
      " 22%|██▏       | 845/3896 [00:28<02:00, 25.34it/s]"
     ]
    },
    {
     "name": "stderr",
     "output_type": "stream",
     "text": [
      "\r",
      " 22%|██▏       | 849/3896 [00:28<01:46, 28.69it/s]"
     ]
    },
    {
     "name": "stderr",
     "output_type": "stream",
     "text": [
      "\r",
      " 22%|██▏       | 853/3896 [00:28<01:35, 31.74it/s]"
     ]
    },
    {
     "name": "stderr",
     "output_type": "stream",
     "text": [
      "\r",
      " 22%|██▏       | 857/3896 [00:28<01:51, 27.35it/s]"
     ]
    },
    {
     "name": "stderr",
     "output_type": "stream",
     "text": [
      "\r",
      " 22%|██▏       | 860/3896 [00:28<01:52, 27.00it/s]"
     ]
    },
    {
     "name": "stderr",
     "output_type": "stream",
     "text": [
      "\r",
      " 22%|██▏       | 863/3896 [00:28<01:49, 27.58it/s]"
     ]
    },
    {
     "name": "stderr",
     "output_type": "stream",
     "text": [
      "\r",
      " 22%|██▏       | 866/3896 [00:28<01:50, 27.31it/s]"
     ]
    },
    {
     "name": "stderr",
     "output_type": "stream",
     "text": [
      "\r",
      " 22%|██▏       | 870/3896 [00:28<01:45, 28.64it/s]"
     ]
    },
    {
     "name": "stderr",
     "output_type": "stream",
     "text": [
      "\r",
      " 22%|██▏       | 874/3896 [00:29<01:39, 30.42it/s]"
     ]
    },
    {
     "name": "stderr",
     "output_type": "stream",
     "text": [
      "\r",
      " 23%|██▎       | 878/3896 [00:29<01:45, 28.53it/s]"
     ]
    },
    {
     "name": "stderr",
     "output_type": "stream",
     "text": [
      "\r",
      " 23%|██▎       | 881/3896 [00:29<01:45, 28.64it/s]"
     ]
    },
    {
     "name": "stderr",
     "output_type": "stream",
     "text": [
      "\r",
      " 23%|██▎       | 884/3896 [00:29<01:49, 27.61it/s]"
     ]
    },
    {
     "name": "stderr",
     "output_type": "stream",
     "text": [
      "\r",
      " 23%|██▎       | 887/3896 [00:29<01:53, 26.60it/s]"
     ]
    },
    {
     "name": "stderr",
     "output_type": "stream",
     "text": [
      "\r",
      " 23%|██▎       | 891/3896 [00:29<01:42, 29.25it/s]"
     ]
    },
    {
     "name": "stderr",
     "output_type": "stream",
     "text": [
      "\r",
      " 23%|██▎       | 894/3896 [00:29<01:45, 28.41it/s]"
     ]
    },
    {
     "name": "stderr",
     "output_type": "stream",
     "text": [
      "\r",
      " 23%|██▎       | 897/3896 [00:29<01:44, 28.58it/s]"
     ]
    },
    {
     "name": "stderr",
     "output_type": "stream",
     "text": [
      "\r",
      " 23%|██▎       | 900/3896 [00:30<01:55, 25.89it/s]"
     ]
    },
    {
     "name": "stderr",
     "output_type": "stream",
     "text": [
      "\r",
      " 23%|██▎       | 904/3896 [00:30<01:42, 29.10it/s]"
     ]
    },
    {
     "name": "stderr",
     "output_type": "stream",
     "text": [
      "\r",
      " 23%|██▎       | 907/3896 [00:30<01:42, 29.17it/s]"
     ]
    },
    {
     "name": "stderr",
     "output_type": "stream",
     "text": [
      "\r",
      " 23%|██▎       | 911/3896 [00:30<01:43, 28.96it/s]"
     ]
    },
    {
     "name": "stderr",
     "output_type": "stream",
     "text": [
      "\r",
      " 23%|██▎       | 914/3896 [00:30<01:45, 28.24it/s]"
     ]
    },
    {
     "name": "stderr",
     "output_type": "stream",
     "text": [
      "\r",
      " 24%|██▎       | 917/3896 [00:30<01:49, 27.15it/s]"
     ]
    },
    {
     "name": "stderr",
     "output_type": "stream",
     "text": [
      "\r",
      " 24%|██▎       | 920/3896 [00:30<01:51, 26.72it/s]"
     ]
    },
    {
     "name": "stderr",
     "output_type": "stream",
     "text": [
      "\r",
      " 24%|██▎       | 923/3896 [00:30<01:48, 27.45it/s]"
     ]
    },
    {
     "name": "stderr",
     "output_type": "stream",
     "text": [
      "\r",
      " 24%|██▍       | 926/3896 [00:31<01:54, 26.02it/s]"
     ]
    },
    {
     "name": "stderr",
     "output_type": "stream",
     "text": [
      "\r",
      " 24%|██▍       | 929/3896 [00:31<01:49, 27.03it/s]"
     ]
    },
    {
     "name": "stderr",
     "output_type": "stream",
     "text": [
      "\r",
      " 24%|██▍       | 932/3896 [00:31<01:46, 27.83it/s]"
     ]
    },
    {
     "name": "stderr",
     "output_type": "stream",
     "text": [
      "\r",
      " 24%|██▍       | 935/3896 [00:31<01:44, 28.41it/s]"
     ]
    },
    {
     "name": "stderr",
     "output_type": "stream",
     "text": [
      "\r",
      " 24%|██▍       | 938/3896 [00:31<01:42, 28.73it/s]"
     ]
    },
    {
     "name": "stderr",
     "output_type": "stream",
     "text": [
      "\r",
      " 24%|██▍       | 942/3896 [00:31<01:40, 29.40it/s]"
     ]
    },
    {
     "name": "stderr",
     "output_type": "stream",
     "text": [
      "\r",
      " 24%|██▍       | 945/3896 [00:31<01:39, 29.51it/s]"
     ]
    },
    {
     "name": "stderr",
     "output_type": "stream",
     "text": [
      "\r",
      " 24%|██▍       | 948/3896 [00:31<01:45, 27.91it/s]"
     ]
    },
    {
     "name": "stderr",
     "output_type": "stream",
     "text": [
      "\r",
      " 24%|██▍       | 951/3896 [00:31<01:43, 28.46it/s]"
     ]
    },
    {
     "name": "stderr",
     "output_type": "stream",
     "text": [
      "\r",
      " 24%|██▍       | 954/3896 [00:31<01:48, 27.09it/s]"
     ]
    },
    {
     "name": "stderr",
     "output_type": "stream",
     "text": [
      "\r",
      " 25%|██▍       | 958/3896 [00:32<01:44, 28.23it/s]"
     ]
    },
    {
     "name": "stderr",
     "output_type": "stream",
     "text": [
      "\r",
      " 25%|██▍       | 962/3896 [00:32<01:41, 28.81it/s]"
     ]
    },
    {
     "name": "stderr",
     "output_type": "stream",
     "text": [
      "\r",
      " 25%|██▍       | 966/3896 [00:32<01:44, 27.96it/s]"
     ]
    },
    {
     "name": "stderr",
     "output_type": "stream",
     "text": [
      "\r",
      " 25%|██▍       | 969/3896 [00:32<02:00, 24.21it/s]"
     ]
    },
    {
     "name": "stderr",
     "output_type": "stream",
     "text": [
      "\r",
      " 25%|██▍       | 972/3896 [00:32<02:01, 24.08it/s]"
     ]
    },
    {
     "name": "stderr",
     "output_type": "stream",
     "text": [
      "\r",
      " 25%|██▌       | 975/3896 [00:32<02:07, 22.98it/s]"
     ]
    },
    {
     "name": "stderr",
     "output_type": "stream",
     "text": [
      "\r",
      " 25%|██▌       | 978/3896 [00:32<02:01, 23.97it/s]"
     ]
    },
    {
     "name": "stderr",
     "output_type": "stream",
     "text": [
      "\r",
      " 25%|██▌       | 982/3896 [00:33<01:53, 25.69it/s]"
     ]
    },
    {
     "name": "stderr",
     "output_type": "stream",
     "text": [
      "\r",
      " 25%|██▌       | 985/3896 [00:33<01:54, 25.33it/s]"
     ]
    },
    {
     "name": "stderr",
     "output_type": "stream",
     "text": [
      "\r",
      " 25%|██▌       | 988/3896 [00:33<01:50, 26.20it/s]"
     ]
    },
    {
     "name": "stderr",
     "output_type": "stream",
     "text": [
      "\r",
      " 25%|██▌       | 991/3896 [00:33<01:57, 24.77it/s]"
     ]
    },
    {
     "name": "stderr",
     "output_type": "stream",
     "text": [
      "\r",
      " 26%|██▌       | 994/3896 [00:33<01:55, 25.13it/s]"
     ]
    },
    {
     "name": "stderr",
     "output_type": "stream",
     "text": [
      "\r",
      " 26%|██▌       | 998/3896 [00:33<01:44, 27.84it/s]"
     ]
    },
    {
     "name": "stderr",
     "output_type": "stream",
     "text": [
      "\r",
      " 26%|██▌       | 1002/3896 [00:33<01:42, 28.11it/s]"
     ]
    },
    {
     "name": "stderr",
     "output_type": "stream",
     "text": [
      "\r",
      " 26%|██▌       | 1005/3896 [00:33<01:41, 28.45it/s]"
     ]
    },
    {
     "name": "stderr",
     "output_type": "stream",
     "text": [
      "\r",
      " 26%|██▌       | 1009/3896 [00:34<01:38, 29.43it/s]"
     ]
    },
    {
     "name": "stderr",
     "output_type": "stream",
     "text": [
      "\r",
      " 26%|██▌       | 1013/3896 [00:34<01:35, 30.07it/s]"
     ]
    },
    {
     "name": "stderr",
     "output_type": "stream",
     "text": [
      "\r",
      " 26%|██▌       | 1017/3896 [00:34<01:36, 29.82it/s]"
     ]
    },
    {
     "name": "stderr",
     "output_type": "stream",
     "text": [
      "\r",
      " 26%|██▌       | 1021/3896 [00:34<01:34, 30.26it/s]"
     ]
    },
    {
     "name": "stderr",
     "output_type": "stream",
     "text": [
      "\r",
      " 26%|██▋       | 1025/3896 [00:34<01:28, 32.56it/s]"
     ]
    },
    {
     "name": "stderr",
     "output_type": "stream",
     "text": [
      "\r",
      " 26%|██▋       | 1029/3896 [00:34<01:39, 28.80it/s]"
     ]
    },
    {
     "name": "stderr",
     "output_type": "stream",
     "text": [
      "\r",
      " 27%|██▋       | 1033/3896 [00:34<01:38, 29.03it/s]"
     ]
    },
    {
     "name": "stderr",
     "output_type": "stream",
     "text": [
      "\r",
      " 27%|██▋       | 1036/3896 [00:34<01:44, 27.30it/s]"
     ]
    },
    {
     "name": "stderr",
     "output_type": "stream",
     "text": [
      "\r",
      " 27%|██▋       | 1039/3896 [00:35<01:49, 26.13it/s]"
     ]
    },
    {
     "name": "stderr",
     "output_type": "stream",
     "text": [
      "\r",
      " 27%|██▋       | 1042/3896 [00:35<01:51, 25.60it/s]"
     ]
    },
    {
     "name": "stderr",
     "output_type": "stream",
     "text": [
      "\r",
      " 27%|██▋       | 1045/3896 [00:35<01:53, 25.17it/s]"
     ]
    },
    {
     "name": "stderr",
     "output_type": "stream",
     "text": [
      "\r",
      " 27%|██▋       | 1048/3896 [00:35<01:52, 25.42it/s]"
     ]
    },
    {
     "name": "stderr",
     "output_type": "stream",
     "text": [
      "\r",
      " 27%|██▋       | 1051/3896 [00:35<01:53, 25.05it/s]"
     ]
    },
    {
     "name": "stderr",
     "output_type": "stream",
     "text": [
      "\r",
      " 27%|██▋       | 1055/3896 [00:35<01:45, 26.92it/s]"
     ]
    },
    {
     "name": "stderr",
     "output_type": "stream",
     "text": [
      "\r",
      " 27%|██▋       | 1058/3896 [00:35<01:46, 26.75it/s]"
     ]
    },
    {
     "name": "stderr",
     "output_type": "stream",
     "text": [
      "\r",
      " 27%|██▋       | 1061/3896 [00:35<01:44, 27.17it/s]"
     ]
    },
    {
     "name": "stderr",
     "output_type": "stream",
     "text": [
      "\r",
      " 27%|██▋       | 1065/3896 [00:36<01:39, 28.53it/s]"
     ]
    },
    {
     "name": "stderr",
     "output_type": "stream",
     "text": [
      "\r",
      " 27%|██▋       | 1069/3896 [00:36<01:33, 30.37it/s]"
     ]
    },
    {
     "name": "stderr",
     "output_type": "stream",
     "text": [
      "\r",
      " 28%|██▊       | 1073/3896 [00:36<01:31, 30.86it/s]"
     ]
    },
    {
     "name": "stderr",
     "output_type": "stream",
     "text": [
      "\r",
      " 28%|██▊       | 1077/3896 [00:36<01:32, 30.44it/s]"
     ]
    },
    {
     "name": "stderr",
     "output_type": "stream",
     "text": [
      "\r",
      " 28%|██▊       | 1081/3896 [00:36<01:40, 28.05it/s]"
     ]
    },
    {
     "name": "stderr",
     "output_type": "stream",
     "text": [
      "\r",
      " 28%|██▊       | 1085/3896 [00:36<01:38, 28.43it/s]"
     ]
    },
    {
     "name": "stderr",
     "output_type": "stream",
     "text": [
      "\r",
      " 28%|██▊       | 1089/3896 [00:36<01:33, 30.13it/s]"
     ]
    },
    {
     "name": "stderr",
     "output_type": "stream",
     "text": [
      "\r",
      " 28%|██▊       | 1093/3896 [00:37<01:33, 30.11it/s]"
     ]
    },
    {
     "name": "stderr",
     "output_type": "stream",
     "text": [
      "\r",
      " 28%|██▊       | 1097/3896 [00:37<01:34, 29.74it/s]"
     ]
    },
    {
     "name": "stderr",
     "output_type": "stream",
     "text": [
      "\r",
      " 28%|██▊       | 1102/3896 [00:37<01:25, 32.56it/s]"
     ]
    },
    {
     "name": "stderr",
     "output_type": "stream",
     "text": [
      "\r",
      " 28%|██▊       | 1106/3896 [00:37<01:29, 31.08it/s]"
     ]
    },
    {
     "name": "stderr",
     "output_type": "stream",
     "text": [
      "\r",
      " 28%|██▊       | 1110/3896 [00:37<01:38, 28.29it/s]"
     ]
    },
    {
     "name": "stderr",
     "output_type": "stream",
     "text": [
      "\r",
      " 29%|██▊       | 1114/3896 [00:37<01:34, 29.33it/s]"
     ]
    },
    {
     "name": "stderr",
     "output_type": "stream",
     "text": [
      "\r",
      " 29%|██▊       | 1117/3896 [00:37<01:39, 28.03it/s]"
     ]
    },
    {
     "name": "stderr",
     "output_type": "stream",
     "text": [
      "\r",
      " 29%|██▉       | 1121/3896 [00:37<01:35, 29.06it/s]"
     ]
    },
    {
     "name": "stderr",
     "output_type": "stream",
     "text": [
      "\r",
      " 29%|██▉       | 1125/3896 [00:38<01:32, 30.08it/s]"
     ]
    },
    {
     "name": "stderr",
     "output_type": "stream",
     "text": [
      "\r",
      " 29%|██▉       | 1129/3896 [00:38<01:31, 30.39it/s]"
     ]
    },
    {
     "name": "stderr",
     "output_type": "stream",
     "text": [
      "\r",
      " 29%|██▉       | 1133/3896 [00:38<01:29, 30.79it/s]"
     ]
    },
    {
     "name": "stderr",
     "output_type": "stream",
     "text": [
      "\r",
      " 29%|██▉       | 1137/3896 [00:38<01:30, 30.54it/s]"
     ]
    },
    {
     "name": "stderr",
     "output_type": "stream",
     "text": [
      "\r",
      " 29%|██▉       | 1141/3896 [00:38<01:39, 27.55it/s]"
     ]
    },
    {
     "name": "stderr",
     "output_type": "stream",
     "text": [
      "\r",
      " 29%|██▉       | 1144/3896 [00:38<01:39, 27.65it/s]"
     ]
    },
    {
     "name": "stderr",
     "output_type": "stream",
     "text": [
      "\r",
      " 29%|██▉       | 1147/3896 [00:38<01:43, 26.60it/s]"
     ]
    },
    {
     "name": "stderr",
     "output_type": "stream",
     "text": [
      "\r",
      " 30%|██▉       | 1151/3896 [00:38<01:34, 29.15it/s]"
     ]
    },
    {
     "name": "stderr",
     "output_type": "stream",
     "text": [
      "\r",
      " 30%|██▉       | 1154/3896 [00:39<01:40, 27.17it/s]"
     ]
    },
    {
     "name": "stderr",
     "output_type": "stream",
     "text": [
      "\r",
      " 30%|██▉       | 1157/3896 [00:39<01:48, 25.28it/s]"
     ]
    },
    {
     "name": "stderr",
     "output_type": "stream",
     "text": [
      "\r",
      " 30%|██▉       | 1160/3896 [00:39<01:53, 24.20it/s]"
     ]
    },
    {
     "name": "stderr",
     "output_type": "stream",
     "text": [
      "\r",
      " 30%|██▉       | 1164/3896 [00:39<01:42, 26.57it/s]"
     ]
    },
    {
     "name": "stderr",
     "output_type": "stream",
     "text": [
      "\r",
      " 30%|██▉       | 1167/3896 [00:39<01:39, 27.40it/s]"
     ]
    },
    {
     "name": "stderr",
     "output_type": "stream",
     "text": [
      "\r",
      " 30%|███       | 1170/3896 [00:39<01:41, 26.96it/s]"
     ]
    },
    {
     "name": "stderr",
     "output_type": "stream",
     "text": [
      "\r",
      " 30%|███       | 1174/3896 [00:39<01:33, 29.15it/s]"
     ]
    },
    {
     "name": "stderr",
     "output_type": "stream",
     "text": [
      "\r",
      " 30%|███       | 1178/3896 [00:39<01:26, 31.32it/s]"
     ]
    },
    {
     "name": "stderr",
     "output_type": "stream",
     "text": [
      "\r",
      " 30%|███       | 1182/3896 [00:40<01:27, 31.14it/s]"
     ]
    },
    {
     "name": "stderr",
     "output_type": "stream",
     "text": [
      "\r",
      " 30%|███       | 1187/3896 [00:40<01:21, 33.30it/s]"
     ]
    },
    {
     "name": "stderr",
     "output_type": "stream",
     "text": [
      "\r",
      " 31%|███       | 1191/3896 [00:40<01:23, 32.40it/s]"
     ]
    },
    {
     "name": "stderr",
     "output_type": "stream",
     "text": [
      "\r",
      " 31%|███       | 1196/3896 [00:40<01:17, 34.71it/s]"
     ]
    },
    {
     "name": "stderr",
     "output_type": "stream",
     "text": [
      "\r",
      " 31%|███       | 1201/3896 [00:40<01:18, 34.41it/s]"
     ]
    },
    {
     "name": "stderr",
     "output_type": "stream",
     "text": [
      "\r",
      " 31%|███       | 1205/3896 [00:40<01:25, 31.43it/s]"
     ]
    },
    {
     "name": "stderr",
     "output_type": "stream",
     "text": [
      "\r",
      " 31%|███       | 1209/3896 [00:40<01:30, 29.61it/s]"
     ]
    },
    {
     "name": "stderr",
     "output_type": "stream",
     "text": [
      "\r",
      " 31%|███       | 1213/3896 [00:41<01:30, 29.66it/s]"
     ]
    },
    {
     "name": "stderr",
     "output_type": "stream",
     "text": [
      "\r",
      " 31%|███       | 1217/3896 [00:41<01:29, 30.03it/s]"
     ]
    },
    {
     "name": "stderr",
     "output_type": "stream",
     "text": [
      "\r",
      " 31%|███▏      | 1221/3896 [00:41<01:34, 28.25it/s]"
     ]
    },
    {
     "name": "stderr",
     "output_type": "stream",
     "text": [
      "\r",
      " 31%|███▏      | 1225/3896 [00:41<01:33, 28.45it/s]"
     ]
    },
    {
     "name": "stderr",
     "output_type": "stream",
     "text": [
      "\r",
      " 32%|███▏      | 1228/3896 [00:41<01:34, 28.32it/s]"
     ]
    },
    {
     "name": "stderr",
     "output_type": "stream",
     "text": [
      "\r",
      " 32%|███▏      | 1231/3896 [00:41<01:33, 28.43it/s]"
     ]
    },
    {
     "name": "stderr",
     "output_type": "stream",
     "text": [
      "\r",
      " 32%|███▏      | 1234/3896 [00:41<01:32, 28.67it/s]"
     ]
    },
    {
     "name": "stderr",
     "output_type": "stream",
     "text": [
      "\r",
      " 32%|███▏      | 1238/3896 [00:41<01:30, 29.49it/s]"
     ]
    },
    {
     "name": "stderr",
     "output_type": "stream",
     "text": [
      "\r",
      " 32%|███▏      | 1241/3896 [00:42<01:40, 26.49it/s]"
     ]
    },
    {
     "name": "stderr",
     "output_type": "stream",
     "text": [
      "\r",
      " 32%|███▏      | 1245/3896 [00:42<01:42, 25.93it/s]"
     ]
    },
    {
     "name": "stderr",
     "output_type": "stream",
     "text": [
      "\r",
      " 32%|███▏      | 1249/3896 [00:42<01:40, 26.26it/s]"
     ]
    },
    {
     "name": "stderr",
     "output_type": "stream",
     "text": [
      "\r",
      " 32%|███▏      | 1252/3896 [00:42<01:40, 26.24it/s]"
     ]
    },
    {
     "name": "stderr",
     "output_type": "stream",
     "text": [
      "\r",
      " 32%|███▏      | 1255/3896 [00:42<01:38, 26.92it/s]"
     ]
    },
    {
     "name": "stderr",
     "output_type": "stream",
     "text": [
      "\r",
      " 32%|███▏      | 1258/3896 [00:42<01:38, 26.75it/s]"
     ]
    },
    {
     "name": "stderr",
     "output_type": "stream",
     "text": [
      "\r",
      " 32%|███▏      | 1261/3896 [00:42<01:42, 25.78it/s]"
     ]
    },
    {
     "name": "stderr",
     "output_type": "stream",
     "text": [
      "\r",
      " 32%|███▏      | 1264/3896 [00:42<01:38, 26.60it/s]"
     ]
    },
    {
     "name": "stderr",
     "output_type": "stream",
     "text": [
      "\r",
      " 33%|███▎      | 1267/3896 [00:43<01:42, 25.60it/s]"
     ]
    },
    {
     "name": "stderr",
     "output_type": "stream",
     "text": [
      "\r",
      " 33%|███▎      | 1271/3896 [00:43<01:32, 28.24it/s]"
     ]
    },
    {
     "name": "stderr",
     "output_type": "stream",
     "text": [
      "\r",
      " 33%|███▎      | 1275/3896 [00:43<01:33, 27.91it/s]"
     ]
    },
    {
     "name": "stderr",
     "output_type": "stream",
     "text": [
      "\r",
      " 33%|███▎      | 1278/3896 [00:43<01:37, 26.92it/s]"
     ]
    },
    {
     "name": "stderr",
     "output_type": "stream",
     "text": [
      "\r",
      " 33%|███▎      | 1281/3896 [00:43<01:40, 25.94it/s]"
     ]
    },
    {
     "name": "stderr",
     "output_type": "stream",
     "text": [
      "\r",
      " 33%|███▎      | 1284/3896 [00:43<01:38, 26.57it/s]"
     ]
    },
    {
     "name": "stderr",
     "output_type": "stream",
     "text": [
      "\r",
      " 33%|███▎      | 1287/3896 [00:43<01:41, 25.77it/s]"
     ]
    },
    {
     "name": "stderr",
     "output_type": "stream",
     "text": [
      "\r",
      " 33%|███▎      | 1291/3896 [00:43<01:33, 27.75it/s]"
     ]
    },
    {
     "name": "stderr",
     "output_type": "stream",
     "text": [
      "\r",
      " 33%|███▎      | 1294/3896 [00:44<01:53, 22.83it/s]"
     ]
    },
    {
     "name": "stderr",
     "output_type": "stream",
     "text": [
      "\r",
      " 33%|███▎      | 1298/3896 [00:44<01:45, 24.54it/s]"
     ]
    },
    {
     "name": "stderr",
     "output_type": "stream",
     "text": [
      "\r",
      " 33%|███▎      | 1301/3896 [00:44<02:08, 20.24it/s]"
     ]
    },
    {
     "name": "stderr",
     "output_type": "stream",
     "text": [
      "\r",
      " 33%|███▎      | 1304/3896 [00:44<02:00, 21.55it/s]"
     ]
    },
    {
     "name": "stderr",
     "output_type": "stream",
     "text": [
      "\r",
      " 34%|███▎      | 1307/3896 [00:44<01:58, 21.90it/s]"
     ]
    },
    {
     "name": "stderr",
     "output_type": "stream",
     "text": [
      "\r",
      " 34%|███▎      | 1310/3896 [00:44<01:48, 23.73it/s]"
     ]
    },
    {
     "name": "stderr",
     "output_type": "stream",
     "text": [
      "\r",
      " 34%|███▎      | 1313/3896 [00:44<01:42, 25.26it/s]"
     ]
    },
    {
     "name": "stderr",
     "output_type": "stream",
     "text": [
      "\r",
      " 34%|███▍      | 1316/3896 [00:45<01:37, 26.47it/s]"
     ]
    },
    {
     "name": "stderr",
     "output_type": "stream",
     "text": [
      "\r",
      " 34%|███▍      | 1320/3896 [00:45<01:25, 30.11it/s]"
     ]
    },
    {
     "name": "stderr",
     "output_type": "stream",
     "text": [
      "\r",
      " 34%|███▍      | 1324/3896 [00:45<01:23, 30.96it/s]"
     ]
    },
    {
     "name": "stderr",
     "output_type": "stream",
     "text": [
      "\r",
      " 34%|███▍      | 1329/3896 [00:45<01:13, 34.69it/s]"
     ]
    },
    {
     "name": "stderr",
     "output_type": "stream",
     "text": [
      "\r",
      " 34%|███▍      | 1333/3896 [00:45<01:15, 34.06it/s]"
     ]
    },
    {
     "name": "stderr",
     "output_type": "stream",
     "text": [
      "\r",
      " 34%|███▍      | 1337/3896 [00:45<01:13, 34.67it/s]"
     ]
    },
    {
     "name": "stderr",
     "output_type": "stream",
     "text": [
      "\r",
      " 34%|███▍      | 1341/3896 [00:45<01:24, 30.38it/s]"
     ]
    },
    {
     "name": "stderr",
     "output_type": "stream",
     "text": [
      "\r",
      " 35%|███▍      | 1345/3896 [00:45<01:36, 26.37it/s]"
     ]
    },
    {
     "name": "stderr",
     "output_type": "stream",
     "text": [
      "\r",
      " 35%|███▍      | 1348/3896 [00:46<01:38, 25.88it/s]"
     ]
    },
    {
     "name": "stderr",
     "output_type": "stream",
     "text": [
      "\r",
      " 35%|███▍      | 1351/3896 [00:46<01:40, 25.22it/s]"
     ]
    },
    {
     "name": "stderr",
     "output_type": "stream",
     "text": [
      "\r",
      " 35%|███▍      | 1354/3896 [00:46<01:44, 24.30it/s]"
     ]
    },
    {
     "name": "stderr",
     "output_type": "stream",
     "text": [
      "\r",
      " 35%|███▍      | 1357/3896 [00:46<01:39, 25.39it/s]"
     ]
    },
    {
     "name": "stderr",
     "output_type": "stream",
     "text": [
      "\r",
      " 35%|███▍      | 1361/3896 [00:46<01:34, 26.75it/s]"
     ]
    },
    {
     "name": "stderr",
     "output_type": "stream",
     "text": [
      "\r",
      " 35%|███▌      | 1364/3896 [00:46<01:40, 25.10it/s]"
     ]
    },
    {
     "name": "stderr",
     "output_type": "stream",
     "text": [
      "\r",
      " 35%|███▌      | 1368/3896 [00:46<01:35, 26.37it/s]"
     ]
    },
    {
     "name": "stderr",
     "output_type": "stream",
     "text": [
      "\r",
      " 35%|███▌      | 1371/3896 [00:47<01:33, 27.01it/s]"
     ]
    },
    {
     "name": "stderr",
     "output_type": "stream",
     "text": [
      "\r",
      " 35%|███▌      | 1374/3896 [00:47<01:34, 26.73it/s]"
     ]
    },
    {
     "name": "stderr",
     "output_type": "stream",
     "text": [
      "\r",
      " 35%|███▌      | 1377/3896 [00:47<01:32, 27.17it/s]"
     ]
    },
    {
     "name": "stderr",
     "output_type": "stream",
     "text": [
      "\r",
      " 35%|███▌      | 1380/3896 [00:47<01:38, 25.50it/s]"
     ]
    },
    {
     "name": "stderr",
     "output_type": "stream",
     "text": [
      "\r",
      " 35%|███▌      | 1383/3896 [00:47<01:42, 24.54it/s]"
     ]
    },
    {
     "name": "stderr",
     "output_type": "stream",
     "text": [
      "\r",
      " 36%|███▌      | 1386/3896 [00:47<01:41, 24.84it/s]"
     ]
    },
    {
     "name": "stderr",
     "output_type": "stream",
     "text": [
      "\r",
      " 36%|███▌      | 1390/3896 [00:47<01:42, 24.56it/s]"
     ]
    },
    {
     "name": "stderr",
     "output_type": "stream",
     "text": [
      "\r",
      " 36%|███▌      | 1393/3896 [00:47<01:40, 24.90it/s]"
     ]
    },
    {
     "name": "stderr",
     "output_type": "stream",
     "text": [
      "\r",
      " 36%|███▌      | 1396/3896 [00:48<01:44, 24.00it/s]"
     ]
    },
    {
     "name": "stderr",
     "output_type": "stream",
     "text": [
      "\r",
      " 36%|███▌      | 1399/3896 [00:48<01:38, 25.24it/s]"
     ]
    },
    {
     "name": "stderr",
     "output_type": "stream",
     "text": [
      "\r",
      " 36%|███▌      | 1402/3896 [00:48<01:40, 24.90it/s]"
     ]
    },
    {
     "name": "stderr",
     "output_type": "stream",
     "text": [
      "\r",
      " 36%|███▌      | 1405/3896 [00:48<01:40, 24.68it/s]"
     ]
    },
    {
     "name": "stderr",
     "output_type": "stream",
     "text": [
      "\r",
      " 36%|███▌      | 1409/3896 [00:48<01:32, 26.98it/s]"
     ]
    },
    {
     "name": "stderr",
     "output_type": "stream",
     "text": [
      "\r",
      " 36%|███▌      | 1412/3896 [00:48<01:30, 27.38it/s]"
     ]
    },
    {
     "name": "stderr",
     "output_type": "stream",
     "text": [
      "\r",
      " 36%|███▋      | 1415/3896 [00:48<01:32, 26.94it/s]"
     ]
    },
    {
     "name": "stderr",
     "output_type": "stream",
     "text": [
      "\r",
      " 36%|███▋      | 1418/3896 [00:48<01:30, 27.24it/s]"
     ]
    },
    {
     "name": "stderr",
     "output_type": "stream",
     "text": [
      "\r",
      " 36%|███▋      | 1421/3896 [00:48<01:34, 26.18it/s]"
     ]
    },
    {
     "name": "stderr",
     "output_type": "stream",
     "text": [
      "\r",
      " 37%|███▋      | 1424/3896 [00:49<01:36, 25.49it/s]"
     ]
    },
    {
     "name": "stderr",
     "output_type": "stream",
     "text": [
      "\r",
      " 37%|███▋      | 1427/3896 [00:49<01:38, 25.15it/s]"
     ]
    },
    {
     "name": "stderr",
     "output_type": "stream",
     "text": [
      "\r",
      " 37%|███▋      | 1430/3896 [00:49<01:35, 25.86it/s]"
     ]
    },
    {
     "name": "stderr",
     "output_type": "stream",
     "text": [
      "\r",
      " 37%|███▋      | 1434/3896 [00:49<01:30, 27.06it/s]"
     ]
    },
    {
     "name": "stderr",
     "output_type": "stream",
     "text": [
      "\r",
      " 37%|███▋      | 1437/3896 [00:49<01:32, 26.64it/s]"
     ]
    },
    {
     "name": "stderr",
     "output_type": "stream",
     "text": [
      "\r",
      " 37%|███▋      | 1441/3896 [00:49<01:28, 27.59it/s]"
     ]
    },
    {
     "name": "stderr",
     "output_type": "stream",
     "text": [
      "\r",
      " 37%|███▋      | 1446/3896 [00:49<01:20, 30.35it/s]"
     ]
    },
    {
     "name": "stderr",
     "output_type": "stream",
     "text": [
      "\r",
      " 37%|███▋      | 1450/3896 [00:50<01:29, 27.37it/s]"
     ]
    },
    {
     "name": "stderr",
     "output_type": "stream",
     "text": [
      "\r",
      " 37%|███▋      | 1454/3896 [00:50<01:21, 30.00it/s]"
     ]
    },
    {
     "name": "stderr",
     "output_type": "stream",
     "text": [
      "\r",
      " 37%|███▋      | 1458/3896 [00:50<01:19, 30.79it/s]"
     ]
    },
    {
     "name": "stderr",
     "output_type": "stream",
     "text": [
      "\r",
      " 38%|███▊      | 1462/3896 [00:50<01:28, 27.64it/s]"
     ]
    },
    {
     "name": "stderr",
     "output_type": "stream",
     "text": [
      "\r",
      " 38%|███▊      | 1465/3896 [00:50<01:27, 27.70it/s]"
     ]
    },
    {
     "name": "stderr",
     "output_type": "stream",
     "text": [
      "\r",
      " 38%|███▊      | 1468/3896 [00:50<01:26, 27.97it/s]"
     ]
    },
    {
     "name": "stderr",
     "output_type": "stream",
     "text": [
      "\r",
      " 38%|███▊      | 1471/3896 [00:50<01:33, 26.01it/s]"
     ]
    },
    {
     "name": "stderr",
     "output_type": "stream",
     "text": [
      "\r",
      " 38%|███▊      | 1475/3896 [00:50<01:24, 28.53it/s]"
     ]
    },
    {
     "name": "stderr",
     "output_type": "stream",
     "text": [
      "\r",
      " 38%|███▊      | 1478/3896 [00:50<01:24, 28.76it/s]"
     ]
    },
    {
     "name": "stderr",
     "output_type": "stream",
     "text": [
      "\r",
      " 38%|███▊      | 1482/3896 [00:51<01:18, 30.59it/s]"
     ]
    },
    {
     "name": "stderr",
     "output_type": "stream",
     "text": [
      "\r",
      " 38%|███▊      | 1486/3896 [00:51<01:23, 29.03it/s]"
     ]
    },
    {
     "name": "stderr",
     "output_type": "stream",
     "text": [
      "\r",
      " 38%|███▊      | 1490/3896 [00:51<01:19, 30.31it/s]"
     ]
    },
    {
     "name": "stderr",
     "output_type": "stream",
     "text": [
      "\r",
      " 38%|███▊      | 1494/3896 [00:51<01:15, 31.69it/s]"
     ]
    },
    {
     "name": "stderr",
     "output_type": "stream",
     "text": [
      "\r",
      " 38%|███▊      | 1498/3896 [00:51<01:19, 30.21it/s]"
     ]
    },
    {
     "name": "stderr",
     "output_type": "stream",
     "text": [
      "\r",
      " 39%|███▊      | 1502/3896 [00:51<01:21, 29.53it/s]"
     ]
    },
    {
     "name": "stderr",
     "output_type": "stream",
     "text": [
      "\r",
      " 39%|███▊      | 1506/3896 [00:51<01:18, 30.35it/s]"
     ]
    },
    {
     "name": "stderr",
     "output_type": "stream",
     "text": [
      "\r",
      " 39%|███▉      | 1510/3896 [00:52<01:30, 26.24it/s]"
     ]
    },
    {
     "name": "stderr",
     "output_type": "stream",
     "text": [
      "\r",
      " 39%|███▉      | 1513/3896 [00:52<01:33, 25.58it/s]"
     ]
    },
    {
     "name": "stderr",
     "output_type": "stream",
     "text": [
      "\r",
      " 39%|███▉      | 1516/3896 [00:52<01:44, 22.72it/s]"
     ]
    },
    {
     "name": "stderr",
     "output_type": "stream",
     "text": [
      "\r",
      " 39%|███▉      | 1519/3896 [00:52<01:54, 20.80it/s]"
     ]
    },
    {
     "name": "stderr",
     "output_type": "stream",
     "text": [
      "\r",
      " 39%|███▉      | 1523/3896 [00:52<01:42, 23.07it/s]"
     ]
    },
    {
     "name": "stderr",
     "output_type": "stream",
     "text": [
      "\r",
      " 39%|███▉      | 1526/3896 [00:52<01:52, 21.06it/s]"
     ]
    },
    {
     "name": "stderr",
     "output_type": "stream",
     "text": [
      "\r",
      " 39%|███▉      | 1529/3896 [00:53<01:47, 22.00it/s]"
     ]
    },
    {
     "name": "stderr",
     "output_type": "stream",
     "text": [
      "\r",
      " 39%|███▉      | 1532/3896 [00:53<01:44, 22.70it/s]"
     ]
    },
    {
     "name": "stderr",
     "output_type": "stream",
     "text": [
      "\r",
      " 39%|███▉      | 1535/3896 [00:53<01:39, 23.72it/s]"
     ]
    },
    {
     "name": "stderr",
     "output_type": "stream",
     "text": [
      "\r",
      " 40%|███▉      | 1539/3896 [00:53<01:41, 23.31it/s]"
     ]
    },
    {
     "name": "stderr",
     "output_type": "stream",
     "text": [
      "\r",
      " 40%|███▉      | 1542/3896 [00:53<01:39, 23.73it/s]"
     ]
    },
    {
     "name": "stderr",
     "output_type": "stream",
     "text": [
      "\r",
      " 40%|███▉      | 1546/3896 [00:53<01:31, 25.67it/s]"
     ]
    },
    {
     "name": "stderr",
     "output_type": "stream",
     "text": [
      "\r",
      " 40%|███▉      | 1549/3896 [00:53<01:28, 26.42it/s]"
     ]
    },
    {
     "name": "stderr",
     "output_type": "stream",
     "text": [
      "\r",
      " 40%|███▉      | 1552/3896 [00:53<01:25, 27.30it/s]"
     ]
    },
    {
     "name": "stderr",
     "output_type": "stream",
     "text": [
      "\r",
      " 40%|███▉      | 1555/3896 [00:54<01:30, 25.95it/s]"
     ]
    },
    {
     "name": "stderr",
     "output_type": "stream",
     "text": [
      "\r",
      " 40%|████      | 1559/3896 [00:54<01:25, 27.35it/s]"
     ]
    },
    {
     "name": "stderr",
     "output_type": "stream",
     "text": [
      "\r",
      " 40%|████      | 1562/3896 [00:54<01:24, 27.50it/s]"
     ]
    },
    {
     "name": "stderr",
     "output_type": "stream",
     "text": [
      "\r",
      " 40%|████      | 1565/3896 [00:54<01:35, 24.32it/s]"
     ]
    },
    {
     "name": "stderr",
     "output_type": "stream",
     "text": [
      "\r",
      " 40%|████      | 1568/3896 [00:54<01:36, 24.20it/s]"
     ]
    },
    {
     "name": "stderr",
     "output_type": "stream",
     "text": [
      "\r",
      " 40%|████      | 1571/3896 [00:54<01:35, 24.42it/s]"
     ]
    },
    {
     "name": "stderr",
     "output_type": "stream",
     "text": [
      "\r",
      " 40%|████      | 1574/3896 [00:54<01:40, 23.03it/s]"
     ]
    },
    {
     "name": "stderr",
     "output_type": "stream",
     "text": [
      "\r",
      " 41%|████      | 1578/3896 [00:54<01:31, 25.31it/s]"
     ]
    },
    {
     "name": "stderr",
     "output_type": "stream",
     "text": [
      "\r",
      " 41%|████      | 1581/3896 [00:55<01:38, 23.57it/s]"
     ]
    },
    {
     "name": "stderr",
     "output_type": "stream",
     "text": [
      "\r",
      " 41%|████      | 1584/3896 [00:55<01:36, 23.94it/s]"
     ]
    },
    {
     "name": "stderr",
     "output_type": "stream",
     "text": [
      "\r",
      " 41%|████      | 1587/3896 [00:55<01:35, 24.24it/s]"
     ]
    },
    {
     "name": "stderr",
     "output_type": "stream",
     "text": [
      "\r",
      " 41%|████      | 1590/3896 [00:55<01:34, 24.38it/s]"
     ]
    },
    {
     "name": "stderr",
     "output_type": "stream",
     "text": [
      "\r",
      " 41%|████      | 1594/3896 [00:55<01:27, 26.39it/s]"
     ]
    },
    {
     "name": "stderr",
     "output_type": "stream",
     "text": [
      "\r",
      " 41%|████      | 1598/3896 [00:55<01:24, 27.09it/s]"
     ]
    },
    {
     "name": "stderr",
     "output_type": "stream",
     "text": [
      "\r",
      " 41%|████      | 1601/3896 [00:55<01:22, 27.80it/s]"
     ]
    },
    {
     "name": "stderr",
     "output_type": "stream",
     "text": [
      "\r",
      " 41%|████      | 1604/3896 [00:55<01:22, 27.63it/s]"
     ]
    },
    {
     "name": "stderr",
     "output_type": "stream",
     "text": [
      "\r",
      " 41%|████      | 1607/3896 [00:56<01:20, 28.26it/s]"
     ]
    },
    {
     "name": "stderr",
     "output_type": "stream",
     "text": [
      "\r",
      " 41%|████▏     | 1612/3896 [00:56<01:10, 32.46it/s]"
     ]
    },
    {
     "name": "stderr",
     "output_type": "stream",
     "text": [
      "\r",
      " 41%|████▏     | 1616/3896 [00:56<01:10, 32.48it/s]"
     ]
    },
    {
     "name": "stderr",
     "output_type": "stream",
     "text": [
      "\r",
      " 42%|████▏     | 1620/3896 [00:56<01:17, 29.23it/s]"
     ]
    },
    {
     "name": "stderr",
     "output_type": "stream",
     "text": [
      "\r",
      " 42%|████▏     | 1623/3896 [00:56<01:21, 28.02it/s]"
     ]
    },
    {
     "name": "stderr",
     "output_type": "stream",
     "text": [
      "\r",
      " 42%|████▏     | 1627/3896 [00:56<01:13, 30.99it/s]"
     ]
    },
    {
     "name": "stderr",
     "output_type": "stream",
     "text": [
      "\r",
      " 42%|████▏     | 1631/3896 [00:56<01:15, 30.19it/s]"
     ]
    },
    {
     "name": "stderr",
     "output_type": "stream",
     "text": [
      "\r",
      " 42%|████▏     | 1635/3896 [00:56<01:16, 29.60it/s]"
     ]
    },
    {
     "name": "stderr",
     "output_type": "stream",
     "text": [
      "\r",
      " 42%|████▏     | 1639/3896 [00:57<01:15, 29.90it/s]"
     ]
    },
    {
     "name": "stderr",
     "output_type": "stream",
     "text": [
      "\r",
      " 42%|████▏     | 1643/3896 [00:57<01:13, 30.85it/s]"
     ]
    },
    {
     "name": "stderr",
     "output_type": "stream",
     "text": [
      "\r",
      " 42%|████▏     | 1647/3896 [00:57<01:18, 28.79it/s]"
     ]
    },
    {
     "name": "stderr",
     "output_type": "stream",
     "text": [
      "\r",
      " 42%|████▏     | 1650/3896 [00:57<01:19, 28.38it/s]"
     ]
    },
    {
     "name": "stderr",
     "output_type": "stream",
     "text": [
      "\r",
      " 42%|████▏     | 1653/3896 [00:57<01:23, 26.79it/s]"
     ]
    },
    {
     "name": "stderr",
     "output_type": "stream",
     "text": [
      "\r",
      " 43%|████▎     | 1656/3896 [00:57<01:27, 25.65it/s]"
     ]
    },
    {
     "name": "stderr",
     "output_type": "stream",
     "text": [
      "\r",
      " 43%|████▎     | 1659/3896 [00:57<01:27, 25.48it/s]"
     ]
    },
    {
     "name": "stderr",
     "output_type": "stream",
     "text": [
      "\r",
      " 43%|████▎     | 1662/3896 [00:57<01:25, 26.05it/s]"
     ]
    },
    {
     "name": "stderr",
     "output_type": "stream",
     "text": [
      "\r",
      " 43%|████▎     | 1665/3896 [00:58<01:22, 27.06it/s]"
     ]
    },
    {
     "name": "stderr",
     "output_type": "stream",
     "text": [
      "\r",
      " 43%|████▎     | 1669/3896 [00:58<01:14, 29.76it/s]"
     ]
    },
    {
     "name": "stderr",
     "output_type": "stream",
     "text": [
      "\r",
      " 43%|████▎     | 1675/3896 [00:58<01:01, 36.07it/s]"
     ]
    },
    {
     "name": "stderr",
     "output_type": "stream",
     "text": [
      "\r",
      " 43%|████▎     | 1679/3896 [00:58<01:01, 36.15it/s]"
     ]
    },
    {
     "name": "stderr",
     "output_type": "stream",
     "text": [
      "\r",
      " 43%|████▎     | 1683/3896 [00:58<01:02, 35.25it/s]"
     ]
    },
    {
     "name": "stderr",
     "output_type": "stream",
     "text": [
      "\r",
      " 43%|████▎     | 1687/3896 [00:58<01:13, 30.04it/s]"
     ]
    },
    {
     "name": "stderr",
     "output_type": "stream",
     "text": [
      "\r",
      " 43%|████▎     | 1691/3896 [00:58<01:12, 30.22it/s]"
     ]
    },
    {
     "name": "stderr",
     "output_type": "stream",
     "text": [
      "\r",
      " 44%|████▎     | 1695/3896 [00:58<01:14, 29.74it/s]"
     ]
    },
    {
     "name": "stderr",
     "output_type": "stream",
     "text": [
      "\r",
      " 44%|████▎     | 1699/3896 [00:59<01:10, 31.00it/s]"
     ]
    },
    {
     "name": "stderr",
     "output_type": "stream",
     "text": [
      "\r",
      " 44%|████▎     | 1703/3896 [00:59<01:15, 28.91it/s]"
     ]
    },
    {
     "name": "stderr",
     "output_type": "stream",
     "text": [
      "\r",
      " 44%|████▍     | 1707/3896 [00:59<01:09, 31.53it/s]"
     ]
    },
    {
     "name": "stderr",
     "output_type": "stream",
     "text": [
      "\r",
      " 44%|████▍     | 1712/3896 [00:59<01:04, 33.61it/s]"
     ]
    },
    {
     "name": "stderr",
     "output_type": "stream",
     "text": [
      "\r",
      " 44%|████▍     | 1716/3896 [00:59<01:08, 31.79it/s]"
     ]
    },
    {
     "name": "stderr",
     "output_type": "stream",
     "text": [
      "\r",
      " 44%|████▍     | 1720/3896 [00:59<01:08, 31.67it/s]"
     ]
    },
    {
     "name": "stderr",
     "output_type": "stream",
     "text": [
      "\r",
      " 44%|████▍     | 1724/3896 [00:59<01:10, 30.70it/s]"
     ]
    },
    {
     "name": "stderr",
     "output_type": "stream",
     "text": [
      "\r",
      " 44%|████▍     | 1728/3896 [01:00<01:15, 28.71it/s]"
     ]
    },
    {
     "name": "stderr",
     "output_type": "stream",
     "text": [
      "\r",
      " 44%|████▍     | 1731/3896 [01:00<01:21, 26.54it/s]"
     ]
    },
    {
     "name": "stderr",
     "output_type": "stream",
     "text": [
      "\r",
      " 45%|████▍     | 1734/3896 [01:00<01:22, 26.13it/s]"
     ]
    },
    {
     "name": "stderr",
     "output_type": "stream",
     "text": [
      "\r",
      " 45%|████▍     | 1737/3896 [01:00<01:19, 27.04it/s]"
     ]
    },
    {
     "name": "stderr",
     "output_type": "stream",
     "text": [
      "\r",
      " 45%|████▍     | 1741/3896 [01:00<01:16, 28.21it/s]"
     ]
    },
    {
     "name": "stderr",
     "output_type": "stream",
     "text": [
      "\r",
      " 45%|████▍     | 1745/3896 [01:00<01:13, 29.13it/s]"
     ]
    },
    {
     "name": "stderr",
     "output_type": "stream",
     "text": [
      "\r",
      " 45%|████▍     | 1749/3896 [01:00<01:12, 29.63it/s]"
     ]
    },
    {
     "name": "stderr",
     "output_type": "stream",
     "text": [
      "\r",
      " 45%|████▍     | 1752/3896 [01:00<01:14, 28.79it/s]"
     ]
    },
    {
     "name": "stderr",
     "output_type": "stream",
     "text": [
      "\r",
      " 45%|████▌     | 1756/3896 [01:01<01:11, 29.76it/s]"
     ]
    },
    {
     "name": "stderr",
     "output_type": "stream",
     "text": [
      "\r",
      " 45%|████▌     | 1759/3896 [01:01<01:12, 29.67it/s]"
     ]
    },
    {
     "name": "stderr",
     "output_type": "stream",
     "text": [
      "\r",
      " 45%|████▌     | 1762/3896 [01:01<01:13, 29.09it/s]"
     ]
    },
    {
     "name": "stderr",
     "output_type": "stream",
     "text": [
      "\r",
      " 45%|████▌     | 1765/3896 [01:01<01:12, 29.34it/s]"
     ]
    },
    {
     "name": "stderr",
     "output_type": "stream",
     "text": [
      "\r",
      " 45%|████▌     | 1769/3896 [01:01<01:07, 31.41it/s]"
     ]
    },
    {
     "name": "stderr",
     "output_type": "stream",
     "text": [
      "\r",
      " 46%|████▌     | 1773/3896 [01:01<01:11, 29.61it/s]"
     ]
    },
    {
     "name": "stderr",
     "output_type": "stream",
     "text": [
      "\r",
      " 46%|████▌     | 1776/3896 [01:01<01:14, 28.40it/s]"
     ]
    },
    {
     "name": "stderr",
     "output_type": "stream",
     "text": [
      "\r",
      " 46%|████▌     | 1780/3896 [01:01<01:10, 29.90it/s]"
     ]
    },
    {
     "name": "stderr",
     "output_type": "stream",
     "text": [
      "\r",
      " 46%|████▌     | 1784/3896 [01:01<01:08, 30.93it/s]"
     ]
    },
    {
     "name": "stderr",
     "output_type": "stream",
     "text": [
      "\r",
      " 46%|████▌     | 1788/3896 [01:02<01:08, 30.84it/s]"
     ]
    },
    {
     "name": "stderr",
     "output_type": "stream",
     "text": [
      "\r",
      " 46%|████▌     | 1792/3896 [01:02<01:04, 32.69it/s]"
     ]
    },
    {
     "name": "stderr",
     "output_type": "stream",
     "text": [
      "\r",
      " 46%|████▌     | 1797/3896 [01:02<01:00, 34.56it/s]"
     ]
    },
    {
     "name": "stderr",
     "output_type": "stream",
     "text": [
      "\r",
      " 46%|████▌     | 1801/3896 [01:02<01:04, 32.61it/s]"
     ]
    },
    {
     "name": "stderr",
     "output_type": "stream",
     "text": [
      "\r",
      " 46%|████▋     | 1805/3896 [01:02<01:02, 33.63it/s]"
     ]
    },
    {
     "name": "stderr",
     "output_type": "stream",
     "text": [
      "\r",
      " 46%|████▋     | 1809/3896 [01:02<00:59, 35.18it/s]"
     ]
    },
    {
     "name": "stderr",
     "output_type": "stream",
     "text": [
      "\r",
      " 47%|████▋     | 1813/3896 [01:02<01:04, 32.12it/s]"
     ]
    },
    {
     "name": "stderr",
     "output_type": "stream",
     "text": [
      "\r",
      " 47%|████▋     | 1817/3896 [01:02<01:07, 30.82it/s]"
     ]
    },
    {
     "name": "stderr",
     "output_type": "stream",
     "text": [
      "\r",
      " 47%|████▋     | 1821/3896 [01:03<01:13, 28.29it/s]"
     ]
    },
    {
     "name": "stderr",
     "output_type": "stream",
     "text": [
      "\r",
      " 47%|████▋     | 1825/3896 [01:03<01:12, 28.40it/s]"
     ]
    },
    {
     "name": "stderr",
     "output_type": "stream",
     "text": [
      "\r",
      " 47%|████▋     | 1828/3896 [01:03<01:13, 28.24it/s]"
     ]
    },
    {
     "name": "stderr",
     "output_type": "stream",
     "text": [
      "\r",
      " 47%|████▋     | 1832/3896 [01:03<01:08, 29.96it/s]"
     ]
    },
    {
     "name": "stderr",
     "output_type": "stream",
     "text": [
      "\r",
      " 47%|████▋     | 1836/3896 [01:03<01:07, 30.62it/s]"
     ]
    },
    {
     "name": "stderr",
     "output_type": "stream",
     "text": [
      "\r",
      " 47%|████▋     | 1840/3896 [01:03<01:08, 30.15it/s]"
     ]
    },
    {
     "name": "stderr",
     "output_type": "stream",
     "text": [
      "\r",
      " 47%|████▋     | 1844/3896 [01:03<01:16, 26.65it/s]"
     ]
    },
    {
     "name": "stderr",
     "output_type": "stream",
     "text": [
      "\r",
      " 47%|████▋     | 1847/3896 [01:04<01:19, 25.88it/s]"
     ]
    },
    {
     "name": "stderr",
     "output_type": "stream",
     "text": [
      "\r",
      " 48%|████▊     | 1851/3896 [01:04<01:12, 28.21it/s]"
     ]
    },
    {
     "name": "stderr",
     "output_type": "stream",
     "text": [
      "\r",
      " 48%|████▊     | 1854/3896 [01:04<01:13, 27.76it/s]"
     ]
    },
    {
     "name": "stderr",
     "output_type": "stream",
     "text": [
      "\r",
      " 48%|████▊     | 1858/3896 [01:04<01:09, 29.25it/s]"
     ]
    },
    {
     "name": "stderr",
     "output_type": "stream",
     "text": [
      "\r",
      " 48%|████▊     | 1862/3896 [01:04<01:08, 29.49it/s]"
     ]
    },
    {
     "name": "stderr",
     "output_type": "stream",
     "text": [
      "\r",
      " 48%|████▊     | 1866/3896 [01:04<01:07, 29.95it/s]"
     ]
    },
    {
     "name": "stderr",
     "output_type": "stream",
     "text": [
      "\r",
      " 48%|████▊     | 1870/3896 [01:04<01:12, 27.83it/s]"
     ]
    },
    {
     "name": "stderr",
     "output_type": "stream",
     "text": [
      "\r",
      " 48%|████▊     | 1874/3896 [01:04<01:06, 30.37it/s]"
     ]
    },
    {
     "name": "stderr",
     "output_type": "stream",
     "text": [
      "\r",
      " 48%|████▊     | 1878/3896 [01:05<01:02, 32.43it/s]"
     ]
    },
    {
     "name": "stderr",
     "output_type": "stream",
     "text": [
      "\r",
      " 48%|████▊     | 1882/3896 [01:05<01:01, 32.78it/s]"
     ]
    },
    {
     "name": "stderr",
     "output_type": "stream",
     "text": [
      "\r",
      " 48%|████▊     | 1887/3896 [01:05<00:58, 34.57it/s]"
     ]
    },
    {
     "name": "stderr",
     "output_type": "stream",
     "text": [
      "\r",
      " 49%|████▊     | 1891/3896 [01:05<00:58, 34.46it/s]"
     ]
    },
    {
     "name": "stderr",
     "output_type": "stream",
     "text": [
      "\r",
      " 49%|████▊     | 1895/3896 [01:05<01:00, 32.94it/s]"
     ]
    },
    {
     "name": "stderr",
     "output_type": "stream",
     "text": [
      "\r",
      " 49%|████▊     | 1899/3896 [01:05<00:58, 34.31it/s]"
     ]
    },
    {
     "name": "stderr",
     "output_type": "stream",
     "text": [
      "\r",
      " 49%|████▉     | 1903/3896 [01:05<00:56, 35.30it/s]"
     ]
    },
    {
     "name": "stderr",
     "output_type": "stream",
     "text": [
      "\r",
      " 49%|████▉     | 1907/3896 [01:05<01:04, 30.77it/s]"
     ]
    },
    {
     "name": "stderr",
     "output_type": "stream",
     "text": [
      "\r",
      " 49%|████▉     | 1911/3896 [01:06<01:05, 30.16it/s]"
     ]
    },
    {
     "name": "stderr",
     "output_type": "stream",
     "text": [
      "\r",
      " 49%|████▉     | 1915/3896 [01:06<01:04, 30.64it/s]"
     ]
    },
    {
     "name": "stderr",
     "output_type": "stream",
     "text": [
      "\r",
      " 49%|████▉     | 1919/3896 [01:06<01:08, 28.66it/s]"
     ]
    },
    {
     "name": "stderr",
     "output_type": "stream",
     "text": [
      "\r",
      " 49%|████▉     | 1923/3896 [01:06<01:04, 30.58it/s]"
     ]
    },
    {
     "name": "stderr",
     "output_type": "stream",
     "text": [
      "\r",
      " 49%|████▉     | 1927/3896 [01:06<01:00, 32.43it/s]"
     ]
    },
    {
     "name": "stderr",
     "output_type": "stream",
     "text": [
      "\r",
      " 50%|████▉     | 1931/3896 [01:06<01:00, 32.49it/s]"
     ]
    },
    {
     "name": "stderr",
     "output_type": "stream",
     "text": [
      "\r",
      " 50%|████▉     | 1935/3896 [01:06<00:59, 32.98it/s]"
     ]
    },
    {
     "name": "stderr",
     "output_type": "stream",
     "text": [
      "\r",
      " 50%|████▉     | 1940/3896 [01:06<00:55, 35.06it/s]"
     ]
    },
    {
     "name": "stderr",
     "output_type": "stream",
     "text": [
      "\r",
      " 50%|████▉     | 1944/3896 [01:07<00:54, 35.75it/s]"
     ]
    },
    {
     "name": "stderr",
     "output_type": "stream",
     "text": [
      "\r",
      " 50%|█████     | 1948/3896 [01:07<00:59, 32.86it/s]"
     ]
    },
    {
     "name": "stderr",
     "output_type": "stream",
     "text": [
      "\r",
      " 50%|█████     | 1953/3896 [01:07<00:55, 34.83it/s]"
     ]
    },
    {
     "name": "stderr",
     "output_type": "stream",
     "text": [
      "\r",
      " 50%|█████     | 1957/3896 [01:07<00:56, 34.62it/s]"
     ]
    },
    {
     "name": "stderr",
     "output_type": "stream",
     "text": [
      "\r",
      " 50%|█████     | 1961/3896 [01:07<00:54, 35.29it/s]"
     ]
    },
    {
     "name": "stderr",
     "output_type": "stream",
     "text": [
      "\r",
      " 50%|█████     | 1965/3896 [01:07<00:54, 35.57it/s]"
     ]
    },
    {
     "name": "stderr",
     "output_type": "stream",
     "text": [
      "\r",
      " 51%|█████     | 1969/3896 [01:07<00:52, 36.76it/s]"
     ]
    },
    {
     "name": "stderr",
     "output_type": "stream",
     "text": [
      "\r",
      " 51%|█████     | 1973/3896 [01:07<00:55, 34.61it/s]"
     ]
    },
    {
     "name": "stderr",
     "output_type": "stream",
     "text": [
      "\r",
      " 51%|█████     | 1977/3896 [01:07<00:53, 35.84it/s]"
     ]
    },
    {
     "name": "stderr",
     "output_type": "stream",
     "text": [
      "\r",
      " 51%|█████     | 1982/3896 [01:08<00:52, 36.77it/s]"
     ]
    },
    {
     "name": "stderr",
     "output_type": "stream",
     "text": [
      "\r",
      " 51%|█████     | 1986/3896 [01:08<00:52, 36.10it/s]"
     ]
    },
    {
     "name": "stderr",
     "output_type": "stream",
     "text": [
      "\r",
      " 51%|█████     | 1990/3896 [01:08<00:54, 35.05it/s]"
     ]
    },
    {
     "name": "stderr",
     "output_type": "stream",
     "text": [
      "\r",
      " 51%|█████     | 1994/3896 [01:08<00:52, 36.34it/s]"
     ]
    },
    {
     "name": "stderr",
     "output_type": "stream",
     "text": [
      "\r",
      " 51%|█████▏    | 1998/3896 [01:08<00:55, 34.38it/s]"
     ]
    },
    {
     "name": "stderr",
     "output_type": "stream",
     "text": [
      "\r",
      " 51%|█████▏    | 2002/3896 [01:08<00:52, 35.84it/s]"
     ]
    },
    {
     "name": "stderr",
     "output_type": "stream",
     "text": [
      "\r",
      " 51%|█████▏    | 2006/3896 [01:08<00:55, 33.83it/s]"
     ]
    },
    {
     "name": "stderr",
     "output_type": "stream",
     "text": [
      "\r",
      " 52%|█████▏    | 2010/3896 [01:08<00:55, 34.24it/s]"
     ]
    },
    {
     "name": "stderr",
     "output_type": "stream",
     "text": [
      "\r",
      " 52%|█████▏    | 2014/3896 [01:09<00:55, 33.77it/s]"
     ]
    },
    {
     "name": "stderr",
     "output_type": "stream",
     "text": [
      "\r",
      " 52%|█████▏    | 2018/3896 [01:09<00:54, 34.36it/s]"
     ]
    },
    {
     "name": "stderr",
     "output_type": "stream",
     "text": [
      "\r",
      " 52%|█████▏    | 2022/3896 [01:09<00:55, 33.67it/s]"
     ]
    },
    {
     "name": "stderr",
     "output_type": "stream",
     "text": [
      "\r",
      " 52%|█████▏    | 2026/3896 [01:09<00:56, 32.94it/s]"
     ]
    },
    {
     "name": "stderr",
     "output_type": "stream",
     "text": [
      "\r",
      " 52%|█████▏    | 2030/3896 [01:09<01:05, 28.51it/s]"
     ]
    },
    {
     "name": "stderr",
     "output_type": "stream",
     "text": [
      "\r",
      " 52%|█████▏    | 2033/3896 [01:09<01:06, 27.96it/s]"
     ]
    },
    {
     "name": "stderr",
     "output_type": "stream",
     "text": [
      "\r",
      " 52%|█████▏    | 2037/3896 [01:09<01:03, 29.14it/s]"
     ]
    },
    {
     "name": "stderr",
     "output_type": "stream",
     "text": [
      "\r",
      " 52%|█████▏    | 2043/3896 [01:09<00:51, 35.71it/s]"
     ]
    },
    {
     "name": "stderr",
     "output_type": "stream",
     "text": [
      "\r",
      " 53%|█████▎    | 2047/3896 [01:10<00:50, 36.34it/s]"
     ]
    },
    {
     "name": "stderr",
     "output_type": "stream",
     "text": [
      "\r",
      " 53%|█████▎    | 2052/3896 [01:10<00:47, 38.93it/s]"
     ]
    },
    {
     "name": "stderr",
     "output_type": "stream",
     "text": [
      "\r",
      " 53%|█████▎    | 2056/3896 [01:10<00:51, 35.86it/s]"
     ]
    },
    {
     "name": "stderr",
     "output_type": "stream",
     "text": [
      "\r",
      " 53%|█████▎    | 2060/3896 [01:10<00:50, 36.53it/s]"
     ]
    },
    {
     "name": "stderr",
     "output_type": "stream",
     "text": [
      "\r",
      " 53%|█████▎    | 2064/3896 [01:10<00:50, 36.08it/s]"
     ]
    },
    {
     "name": "stderr",
     "output_type": "stream",
     "text": [
      "\r",
      " 53%|█████▎    | 2068/3896 [01:10<00:55, 32.69it/s]"
     ]
    },
    {
     "name": "stderr",
     "output_type": "stream",
     "text": [
      "\r",
      " 53%|█████▎    | 2072/3896 [01:10<00:54, 33.74it/s]"
     ]
    },
    {
     "name": "stderr",
     "output_type": "stream",
     "text": [
      "\r",
      " 53%|█████▎    | 2077/3896 [01:10<00:52, 34.80it/s]"
     ]
    },
    {
     "name": "stderr",
     "output_type": "stream",
     "text": [
      "\r",
      " 53%|█████▎    | 2081/3896 [01:11<00:53, 33.69it/s]"
     ]
    },
    {
     "name": "stderr",
     "output_type": "stream",
     "text": [
      "\r",
      " 54%|█████▎    | 2085/3896 [01:11<00:56, 32.31it/s]"
     ]
    },
    {
     "name": "stderr",
     "output_type": "stream",
     "text": [
      "\r",
      " 54%|█████▎    | 2090/3896 [01:11<00:53, 33.55it/s]"
     ]
    },
    {
     "name": "stderr",
     "output_type": "stream",
     "text": [
      "\r",
      " 54%|█████▎    | 2094/3896 [01:11<00:54, 33.09it/s]"
     ]
    },
    {
     "name": "stderr",
     "output_type": "stream",
     "text": [
      "\r",
      " 54%|█████▍    | 2098/3896 [01:11<00:53, 33.59it/s]"
     ]
    },
    {
     "name": "stderr",
     "output_type": "stream",
     "text": [
      "\r",
      " 54%|█████▍    | 2103/3896 [01:11<00:50, 35.44it/s]"
     ]
    },
    {
     "name": "stderr",
     "output_type": "stream",
     "text": [
      "\r",
      " 54%|█████▍    | 2107/3896 [01:11<00:51, 34.85it/s]"
     ]
    },
    {
     "name": "stderr",
     "output_type": "stream",
     "text": [
      "\r",
      " 54%|█████▍    | 2112/3896 [01:11<00:48, 36.43it/s]"
     ]
    },
    {
     "name": "stderr",
     "output_type": "stream",
     "text": [
      "\r",
      " 54%|█████▍    | 2117/3896 [01:12<00:46, 38.18it/s]"
     ]
    },
    {
     "name": "stderr",
     "output_type": "stream",
     "text": [
      "\r",
      " 54%|█████▍    | 2121/3896 [01:12<00:48, 36.47it/s]"
     ]
    },
    {
     "name": "stderr",
     "output_type": "stream",
     "text": [
      "\r",
      " 55%|█████▍    | 2126/3896 [01:12<00:45, 39.11it/s]"
     ]
    },
    {
     "name": "stderr",
     "output_type": "stream",
     "text": [
      "\r",
      " 55%|█████▍    | 2131/3896 [01:12<00:44, 39.33it/s]"
     ]
    },
    {
     "name": "stderr",
     "output_type": "stream",
     "text": [
      "\r",
      " 55%|█████▍    | 2136/3896 [01:12<00:44, 39.73it/s]"
     ]
    },
    {
     "name": "stderr",
     "output_type": "stream",
     "text": [
      "\r",
      " 55%|█████▍    | 2140/3896 [01:12<00:46, 37.78it/s]"
     ]
    },
    {
     "name": "stderr",
     "output_type": "stream",
     "text": [
      "\r",
      " 55%|█████▌    | 2144/3896 [01:12<00:47, 36.77it/s]"
     ]
    },
    {
     "name": "stderr",
     "output_type": "stream",
     "text": [
      "\r",
      " 55%|█████▌    | 2148/3896 [01:12<00:46, 37.24it/s]"
     ]
    },
    {
     "name": "stderr",
     "output_type": "stream",
     "text": [
      "\r",
      " 55%|█████▌    | 2153/3896 [01:12<00:45, 38.38it/s]"
     ]
    },
    {
     "name": "stderr",
     "output_type": "stream",
     "text": [
      "\r",
      " 55%|█████▌    | 2157/3896 [01:13<00:48, 36.13it/s]"
     ]
    },
    {
     "name": "stderr",
     "output_type": "stream",
     "text": [
      "\r",
      " 55%|█████▌    | 2162/3896 [01:13<00:46, 37.08it/s]"
     ]
    },
    {
     "name": "stderr",
     "output_type": "stream",
     "text": [
      "\r",
      " 56%|█████▌    | 2166/3896 [01:13<00:48, 35.85it/s]"
     ]
    },
    {
     "name": "stderr",
     "output_type": "stream",
     "text": [
      "\r",
      " 56%|█████▌    | 2171/3896 [01:13<00:44, 38.90it/s]"
     ]
    },
    {
     "name": "stderr",
     "output_type": "stream",
     "text": [
      "\r",
      " 56%|█████▌    | 2175/3896 [01:13<00:46, 36.92it/s]"
     ]
    },
    {
     "name": "stderr",
     "output_type": "stream",
     "text": [
      "\r",
      " 56%|█████▌    | 2181/3896 [01:13<00:42, 40.37it/s]"
     ]
    },
    {
     "name": "stderr",
     "output_type": "stream",
     "text": [
      "\r",
      " 56%|█████▌    | 2186/3896 [01:13<00:46, 36.52it/s]"
     ]
    },
    {
     "name": "stderr",
     "output_type": "stream",
     "text": [
      "\r",
      " 56%|█████▌    | 2190/3896 [01:13<00:46, 36.95it/s]"
     ]
    },
    {
     "name": "stderr",
     "output_type": "stream",
     "text": [
      "\r",
      " 56%|█████▋    | 2194/3896 [01:14<00:45, 37.63it/s]"
     ]
    },
    {
     "name": "stderr",
     "output_type": "stream",
     "text": [
      "\r",
      " 56%|█████▋    | 2198/3896 [01:14<00:47, 35.74it/s]"
     ]
    },
    {
     "name": "stderr",
     "output_type": "stream",
     "text": [
      "\r",
      " 57%|█████▋    | 2202/3896 [01:14<00:47, 35.45it/s]"
     ]
    },
    {
     "name": "stderr",
     "output_type": "stream",
     "text": [
      "\r",
      " 57%|█████▋    | 2206/3896 [01:14<00:48, 35.20it/s]"
     ]
    },
    {
     "name": "stderr",
     "output_type": "stream",
     "text": [
      "\r",
      " 57%|█████▋    | 2210/3896 [01:14<00:50, 33.43it/s]"
     ]
    },
    {
     "name": "stderr",
     "output_type": "stream",
     "text": [
      "\r",
      " 57%|█████▋    | 2215/3896 [01:14<00:45, 37.32it/s]"
     ]
    },
    {
     "name": "stderr",
     "output_type": "stream",
     "text": [
      "\r",
      " 57%|█████▋    | 2219/3896 [01:14<00:45, 36.79it/s]"
     ]
    },
    {
     "name": "stderr",
     "output_type": "stream",
     "text": [
      "\r",
      " 57%|█████▋    | 2224/3896 [01:14<00:42, 39.67it/s]"
     ]
    },
    {
     "name": "stderr",
     "output_type": "stream",
     "text": [
      "\r",
      " 57%|█████▋    | 2229/3896 [01:15<00:40, 40.73it/s]"
     ]
    },
    {
     "name": "stderr",
     "output_type": "stream",
     "text": [
      "\r",
      " 57%|█████▋    | 2234/3896 [01:15<00:40, 41.46it/s]"
     ]
    },
    {
     "name": "stderr",
     "output_type": "stream",
     "text": [
      "\r",
      " 57%|█████▋    | 2239/3896 [01:15<00:41, 40.32it/s]"
     ]
    },
    {
     "name": "stderr",
     "output_type": "stream",
     "text": [
      "\r",
      " 58%|█████▊    | 2244/3896 [01:15<00:40, 40.96it/s]"
     ]
    },
    {
     "name": "stderr",
     "output_type": "stream",
     "text": [
      "\r",
      " 58%|█████▊    | 2249/3896 [01:15<00:38, 42.75it/s]"
     ]
    },
    {
     "name": "stderr",
     "output_type": "stream",
     "text": [
      "\r",
      " 58%|█████▊    | 2254/3896 [01:15<00:39, 41.56it/s]"
     ]
    },
    {
     "name": "stderr",
     "output_type": "stream",
     "text": [
      "\r",
      " 58%|█████▊    | 2259/3896 [01:15<00:38, 42.07it/s]"
     ]
    },
    {
     "name": "stderr",
     "output_type": "stream",
     "text": [
      "\r",
      " 58%|█████▊    | 2264/3896 [01:15<00:40, 40.32it/s]"
     ]
    },
    {
     "name": "stderr",
     "output_type": "stream",
     "text": [
      "\r",
      " 58%|█████▊    | 2269/3896 [01:16<00:45, 35.93it/s]"
     ]
    },
    {
     "name": "stderr",
     "output_type": "stream",
     "text": [
      "\r",
      " 58%|█████▊    | 2273/3896 [01:16<00:44, 36.47it/s]"
     ]
    },
    {
     "name": "stderr",
     "output_type": "stream",
     "text": [
      "\r",
      " 58%|█████▊    | 2278/3896 [01:16<00:41, 39.32it/s]"
     ]
    },
    {
     "name": "stderr",
     "output_type": "stream",
     "text": [
      "\r",
      " 59%|█████▊    | 2283/3896 [01:16<00:41, 38.48it/s]"
     ]
    },
    {
     "name": "stderr",
     "output_type": "stream",
     "text": [
      "\r",
      " 59%|█████▊    | 2288/3896 [01:16<00:39, 40.47it/s]"
     ]
    },
    {
     "name": "stderr",
     "output_type": "stream",
     "text": [
      "\r",
      " 59%|█████▉    | 2293/3896 [01:16<00:41, 38.35it/s]"
     ]
    },
    {
     "name": "stderr",
     "output_type": "stream",
     "text": [
      "\r",
      " 59%|█████▉    | 2297/3896 [01:16<00:42, 37.46it/s]"
     ]
    },
    {
     "name": "stderr",
     "output_type": "stream",
     "text": [
      "\r",
      " 59%|█████▉    | 2301/3896 [01:16<00:42, 37.82it/s]"
     ]
    },
    {
     "name": "stderr",
     "output_type": "stream",
     "text": [
      "\r",
      " 59%|█████▉    | 2306/3896 [01:17<00:41, 37.93it/s]"
     ]
    },
    {
     "name": "stderr",
     "output_type": "stream",
     "text": [
      "\r",
      " 59%|█████▉    | 2310/3896 [01:17<00:44, 35.54it/s]"
     ]
    },
    {
     "name": "stderr",
     "output_type": "stream",
     "text": [
      "\r",
      " 59%|█████▉    | 2314/3896 [01:17<00:45, 34.41it/s]"
     ]
    },
    {
     "name": "stderr",
     "output_type": "stream",
     "text": [
      "\r",
      " 59%|█████▉    | 2318/3896 [01:17<00:44, 35.24it/s]"
     ]
    },
    {
     "name": "stderr",
     "output_type": "stream",
     "text": [
      "\r",
      " 60%|█████▉    | 2322/3896 [01:17<00:46, 33.51it/s]"
     ]
    },
    {
     "name": "stderr",
     "output_type": "stream",
     "text": [
      "\r",
      " 60%|█████▉    | 2326/3896 [01:17<00:47, 33.35it/s]"
     ]
    },
    {
     "name": "stderr",
     "output_type": "stream",
     "text": [
      "\r",
      " 60%|█████▉    | 2330/3896 [01:17<00:46, 33.86it/s]"
     ]
    },
    {
     "name": "stderr",
     "output_type": "stream",
     "text": [
      "\r",
      " 60%|█████▉    | 2335/3896 [01:17<00:45, 34.63it/s]"
     ]
    },
    {
     "name": "stderr",
     "output_type": "stream",
     "text": [
      "\r",
      " 60%|██████    | 2340/3896 [01:17<00:42, 37.02it/s]"
     ]
    },
    {
     "name": "stderr",
     "output_type": "stream",
     "text": [
      "\r",
      " 60%|██████    | 2344/3896 [01:18<00:44, 35.21it/s]"
     ]
    },
    {
     "name": "stderr",
     "output_type": "stream",
     "text": [
      "\r",
      " 60%|██████    | 2349/3896 [01:18<00:40, 38.12it/s]"
     ]
    },
    {
     "name": "stderr",
     "output_type": "stream",
     "text": [
      "\r",
      " 60%|██████    | 2355/3896 [01:18<00:35, 43.23it/s]"
     ]
    },
    {
     "name": "stderr",
     "output_type": "stream",
     "text": [
      "\r",
      " 61%|██████    | 2360/3896 [01:18<00:37, 41.08it/s]"
     ]
    },
    {
     "name": "stderr",
     "output_type": "stream",
     "text": [
      "\r",
      " 61%|██████    | 2365/3896 [01:18<00:35, 42.83it/s]"
     ]
    },
    {
     "name": "stderr",
     "output_type": "stream",
     "text": [
      "\r",
      " 61%|██████    | 2370/3896 [01:18<00:37, 40.72it/s]"
     ]
    },
    {
     "name": "stderr",
     "output_type": "stream",
     "text": [
      "\r",
      " 61%|██████    | 2375/3896 [01:18<00:36, 41.92it/s]"
     ]
    },
    {
     "name": "stderr",
     "output_type": "stream",
     "text": [
      "\r",
      " 61%|██████    | 2380/3896 [01:18<00:39, 38.34it/s]"
     ]
    },
    {
     "name": "stderr",
     "output_type": "stream",
     "text": [
      "\r",
      " 61%|██████    | 2385/3896 [01:19<00:37, 40.21it/s]"
     ]
    },
    {
     "name": "stderr",
     "output_type": "stream",
     "text": [
      "\r",
      " 61%|██████▏   | 2390/3896 [01:19<00:36, 41.09it/s]"
     ]
    },
    {
     "name": "stderr",
     "output_type": "stream",
     "text": [
      "\r",
      " 61%|██████▏   | 2395/3896 [01:19<00:36, 40.60it/s]"
     ]
    },
    {
     "name": "stderr",
     "output_type": "stream",
     "text": [
      "\r",
      " 62%|██████▏   | 2402/3896 [01:19<00:33, 44.56it/s]"
     ]
    },
    {
     "name": "stderr",
     "output_type": "stream",
     "text": [
      "\r",
      " 62%|██████▏   | 2408/3896 [01:19<00:31, 47.96it/s]"
     ]
    },
    {
     "name": "stderr",
     "output_type": "stream",
     "text": [
      "\r",
      " 62%|██████▏   | 2413/3896 [01:19<00:31, 46.90it/s]"
     ]
    },
    {
     "name": "stderr",
     "output_type": "stream",
     "text": [
      "\r",
      " 62%|██████▏   | 2418/3896 [01:19<00:33, 44.56it/s]"
     ]
    },
    {
     "name": "stderr",
     "output_type": "stream",
     "text": [
      "\r",
      " 62%|██████▏   | 2423/3896 [01:19<00:33, 43.79it/s]"
     ]
    },
    {
     "name": "stderr",
     "output_type": "stream",
     "text": [
      "\r",
      " 62%|██████▏   | 2428/3896 [01:20<00:36, 40.49it/s]"
     ]
    },
    {
     "name": "stderr",
     "output_type": "stream",
     "text": [
      "\r",
      " 62%|██████▏   | 2433/3896 [01:20<00:36, 40.18it/s]"
     ]
    },
    {
     "name": "stderr",
     "output_type": "stream",
     "text": [
      "\r",
      " 63%|██████▎   | 2438/3896 [01:20<00:39, 37.32it/s]"
     ]
    },
    {
     "name": "stderr",
     "output_type": "stream",
     "text": [
      "\r",
      " 63%|██████▎   | 2442/3896 [01:20<00:39, 36.72it/s]"
     ]
    },
    {
     "name": "stderr",
     "output_type": "stream",
     "text": [
      "\r",
      " 63%|██████▎   | 2447/3896 [01:20<00:38, 37.72it/s]"
     ]
    },
    {
     "name": "stderr",
     "output_type": "stream",
     "text": [
      "\r",
      " 63%|██████▎   | 2452/3896 [01:20<00:37, 38.14it/s]"
     ]
    },
    {
     "name": "stderr",
     "output_type": "stream",
     "text": [
      "\r",
      " 63%|██████▎   | 2456/3896 [01:20<00:37, 37.98it/s]"
     ]
    },
    {
     "name": "stderr",
     "output_type": "stream",
     "text": [
      "\r",
      " 63%|██████▎   | 2460/3896 [01:20<00:41, 34.45it/s]"
     ]
    },
    {
     "name": "stderr",
     "output_type": "stream",
     "text": [
      "\r",
      " 63%|██████▎   | 2465/3896 [01:21<00:39, 36.01it/s]"
     ]
    },
    {
     "name": "stderr",
     "output_type": "stream",
     "text": [
      "\r",
      " 63%|██████▎   | 2471/3896 [01:21<00:34, 41.60it/s]"
     ]
    },
    {
     "name": "stderr",
     "output_type": "stream",
     "text": [
      "\r",
      " 64%|██████▎   | 2476/3896 [01:21<00:34, 40.72it/s]"
     ]
    },
    {
     "name": "stderr",
     "output_type": "stream",
     "text": [
      "\r",
      " 64%|██████▎   | 2482/3896 [01:21<00:32, 43.39it/s]"
     ]
    },
    {
     "name": "stderr",
     "output_type": "stream",
     "text": [
      "\r",
      " 64%|██████▍   | 2488/3896 [01:21<00:30, 45.66it/s]"
     ]
    },
    {
     "name": "stderr",
     "output_type": "stream",
     "text": [
      "\r",
      " 64%|██████▍   | 2493/3896 [01:21<00:30, 45.57it/s]"
     ]
    },
    {
     "name": "stderr",
     "output_type": "stream",
     "text": [
      "\r",
      " 64%|██████▍   | 2498/3896 [01:21<00:33, 42.36it/s]"
     ]
    },
    {
     "name": "stderr",
     "output_type": "stream",
     "text": [
      "\r",
      " 64%|██████▍   | 2503/3896 [01:21<00:33, 41.70it/s]"
     ]
    },
    {
     "name": "stderr",
     "output_type": "stream",
     "text": [
      "\r",
      " 64%|██████▍   | 2508/3896 [01:22<00:33, 42.06it/s]"
     ]
    },
    {
     "name": "stderr",
     "output_type": "stream",
     "text": [
      "\r",
      " 65%|██████▍   | 2513/3896 [01:22<00:34, 39.63it/s]"
     ]
    },
    {
     "name": "stderr",
     "output_type": "stream",
     "text": [
      "\r",
      " 65%|██████▍   | 2518/3896 [01:22<00:39, 34.49it/s]"
     ]
    },
    {
     "name": "stderr",
     "output_type": "stream",
     "text": [
      "\r",
      " 65%|██████▍   | 2522/3896 [01:22<00:41, 33.46it/s]"
     ]
    },
    {
     "name": "stderr",
     "output_type": "stream",
     "text": [
      "\r",
      " 65%|██████▍   | 2527/3896 [01:22<00:37, 36.14it/s]"
     ]
    },
    {
     "name": "stderr",
     "output_type": "stream",
     "text": [
      "\r",
      " 65%|██████▍   | 2531/3896 [01:22<00:39, 34.82it/s]"
     ]
    },
    {
     "name": "stderr",
     "output_type": "stream",
     "text": [
      "\r",
      " 65%|██████▌   | 2535/3896 [01:22<00:38, 35.22it/s]"
     ]
    },
    {
     "name": "stderr",
     "output_type": "stream",
     "text": [
      "\r",
      " 65%|██████▌   | 2540/3896 [01:23<00:37, 36.40it/s]"
     ]
    },
    {
     "name": "stderr",
     "output_type": "stream",
     "text": [
      "\r",
      " 65%|██████▌   | 2544/3896 [01:23<00:36, 37.15it/s]"
     ]
    },
    {
     "name": "stderr",
     "output_type": "stream",
     "text": [
      "\r",
      " 65%|██████▌   | 2548/3896 [01:23<00:37, 36.27it/s]"
     ]
    },
    {
     "name": "stderr",
     "output_type": "stream",
     "text": [
      "\r",
      " 66%|██████▌   | 2553/3896 [01:23<00:35, 37.52it/s]"
     ]
    },
    {
     "name": "stderr",
     "output_type": "stream",
     "text": [
      "\r",
      " 66%|██████▌   | 2557/3896 [01:23<00:35, 37.78it/s]"
     ]
    },
    {
     "name": "stderr",
     "output_type": "stream",
     "text": [
      "\r",
      " 66%|██████▌   | 2561/3896 [01:23<00:37, 36.00it/s]"
     ]
    },
    {
     "name": "stderr",
     "output_type": "stream",
     "text": [
      "\r",
      " 66%|██████▌   | 2565/3896 [01:23<00:36, 36.37it/s]"
     ]
    },
    {
     "name": "stderr",
     "output_type": "stream",
     "text": [
      "\r",
      " 66%|██████▌   | 2569/3896 [01:23<00:35, 36.95it/s]"
     ]
    },
    {
     "name": "stderr",
     "output_type": "stream",
     "text": [
      "\r",
      " 66%|██████▌   | 2573/3896 [01:23<00:37, 34.93it/s]"
     ]
    },
    {
     "name": "stderr",
     "output_type": "stream",
     "text": [
      "\r",
      " 66%|██████▌   | 2578/3896 [01:24<00:36, 36.51it/s]"
     ]
    },
    {
     "name": "stderr",
     "output_type": "stream",
     "text": [
      "\r",
      " 66%|██████▋   | 2584/3896 [01:24<00:32, 40.13it/s]"
     ]
    },
    {
     "name": "stderr",
     "output_type": "stream",
     "text": [
      "\r",
      " 66%|██████▋   | 2590/3896 [01:24<00:30, 42.43it/s]"
     ]
    },
    {
     "name": "stderr",
     "output_type": "stream",
     "text": [
      "\r",
      " 67%|██████▋   | 2596/3896 [01:24<00:28, 44.83it/s]"
     ]
    },
    {
     "name": "stderr",
     "output_type": "stream",
     "text": [
      "\r",
      " 67%|██████▋   | 2601/3896 [01:24<00:28, 45.57it/s]"
     ]
    },
    {
     "name": "stderr",
     "output_type": "stream",
     "text": [
      "\r",
      " 67%|██████▋   | 2606/3896 [01:24<00:31, 40.53it/s]"
     ]
    },
    {
     "name": "stderr",
     "output_type": "stream",
     "text": [
      "\r",
      " 67%|██████▋   | 2611/3896 [01:24<00:34, 37.27it/s]"
     ]
    },
    {
     "name": "stderr",
     "output_type": "stream",
     "text": [
      "\r",
      " 67%|██████▋   | 2615/3896 [01:24<00:35, 36.12it/s]"
     ]
    },
    {
     "name": "stderr",
     "output_type": "stream",
     "text": [
      "\r",
      " 67%|██████▋   | 2620/3896 [01:25<00:33, 38.11it/s]"
     ]
    },
    {
     "name": "stderr",
     "output_type": "stream",
     "text": [
      "\r",
      " 67%|██████▋   | 2624/3896 [01:25<00:35, 35.52it/s]"
     ]
    },
    {
     "name": "stderr",
     "output_type": "stream",
     "text": [
      "\r",
      " 67%|██████▋   | 2628/3896 [01:25<00:34, 36.23it/s]"
     ]
    },
    {
     "name": "stderr",
     "output_type": "stream",
     "text": [
      "\r",
      " 68%|██████▊   | 2632/3896 [01:25<00:35, 35.58it/s]"
     ]
    },
    {
     "name": "stderr",
     "output_type": "stream",
     "text": [
      "\r",
      " 68%|██████▊   | 2636/3896 [01:25<00:35, 35.54it/s]"
     ]
    },
    {
     "name": "stderr",
     "output_type": "stream",
     "text": [
      "\r",
      " 68%|██████▊   | 2640/3896 [01:25<00:36, 34.57it/s]"
     ]
    },
    {
     "name": "stderr",
     "output_type": "stream",
     "text": [
      "\r",
      " 68%|██████▊   | 2644/3896 [01:25<00:35, 35.37it/s]"
     ]
    },
    {
     "name": "stderr",
     "output_type": "stream",
     "text": [
      "\r",
      " 68%|██████▊   | 2648/3896 [01:25<00:34, 36.16it/s]"
     ]
    },
    {
     "name": "stderr",
     "output_type": "stream",
     "text": [
      "\r",
      " 68%|██████▊   | 2653/3896 [01:25<00:32, 38.16it/s]"
     ]
    },
    {
     "name": "stderr",
     "output_type": "stream",
     "text": [
      "\r",
      " 68%|██████▊   | 2657/3896 [01:26<00:34, 36.02it/s]"
     ]
    },
    {
     "name": "stderr",
     "output_type": "stream",
     "text": [
      "\r",
      " 68%|██████▊   | 2661/3896 [01:26<00:37, 32.87it/s]"
     ]
    },
    {
     "name": "stderr",
     "output_type": "stream",
     "text": [
      "\r",
      " 68%|██████▊   | 2666/3896 [01:26<00:34, 35.79it/s]"
     ]
    },
    {
     "name": "stderr",
     "output_type": "stream",
     "text": [
      "\r",
      " 69%|██████▊   | 2672/3896 [01:26<00:31, 39.45it/s]"
     ]
    },
    {
     "name": "stderr",
     "output_type": "stream",
     "text": [
      "\r",
      " 69%|██████▊   | 2677/3896 [01:26<00:31, 39.21it/s]"
     ]
    },
    {
     "name": "stderr",
     "output_type": "stream",
     "text": [
      "\r",
      " 69%|██████▉   | 2681/3896 [01:26<00:31, 38.54it/s]"
     ]
    },
    {
     "name": "stderr",
     "output_type": "stream",
     "text": [
      "\r",
      " 69%|██████▉   | 2685/3896 [01:26<00:32, 37.77it/s]"
     ]
    },
    {
     "name": "stderr",
     "output_type": "stream",
     "text": [
      "\r",
      " 69%|██████▉   | 2690/3896 [01:26<00:29, 41.00it/s]"
     ]
    },
    {
     "name": "stderr",
     "output_type": "stream",
     "text": [
      "\r",
      " 69%|██████▉   | 2695/3896 [01:27<00:29, 40.72it/s]"
     ]
    },
    {
     "name": "stderr",
     "output_type": "stream",
     "text": [
      "\r",
      " 69%|██████▉   | 2700/3896 [01:27<00:29, 40.68it/s]"
     ]
    },
    {
     "name": "stderr",
     "output_type": "stream",
     "text": [
      "\r",
      " 69%|██████▉   | 2705/3896 [01:27<00:28, 41.38it/s]"
     ]
    },
    {
     "name": "stderr",
     "output_type": "stream",
     "text": [
      "\r",
      " 70%|██████▉   | 2711/3896 [01:27<00:27, 42.75it/s]"
     ]
    },
    {
     "name": "stderr",
     "output_type": "stream",
     "text": [
      "\r",
      " 70%|██████▉   | 2716/3896 [01:27<00:26, 44.60it/s]"
     ]
    },
    {
     "name": "stderr",
     "output_type": "stream",
     "text": [
      "\r",
      " 70%|██████▉   | 2721/3896 [01:27<00:28, 41.37it/s]"
     ]
    },
    {
     "name": "stderr",
     "output_type": "stream",
     "text": [
      "\r",
      " 70%|██████▉   | 2726/3896 [01:27<00:29, 39.01it/s]"
     ]
    },
    {
     "name": "stderr",
     "output_type": "stream",
     "text": [
      "\r",
      " 70%|███████   | 2730/3896 [01:27<00:30, 37.96it/s]"
     ]
    },
    {
     "name": "stderr",
     "output_type": "stream",
     "text": [
      "\r",
      " 70%|███████   | 2735/3896 [01:28<00:29, 39.34it/s]"
     ]
    },
    {
     "name": "stderr",
     "output_type": "stream",
     "text": [
      "\r",
      " 70%|███████   | 2740/3896 [01:28<00:29, 39.62it/s]"
     ]
    },
    {
     "name": "stderr",
     "output_type": "stream",
     "text": [
      "\r",
      " 70%|███████   | 2744/3896 [01:28<00:30, 38.32it/s]"
     ]
    },
    {
     "name": "stderr",
     "output_type": "stream",
     "text": [
      "\r",
      " 71%|███████   | 2748/3896 [01:28<00:30, 38.18it/s]"
     ]
    },
    {
     "name": "stderr",
     "output_type": "stream",
     "text": [
      "\r",
      " 71%|███████   | 2752/3896 [01:28<00:29, 38.28it/s]"
     ]
    },
    {
     "name": "stderr",
     "output_type": "stream",
     "text": [
      "\r",
      " 71%|███████   | 2757/3896 [01:28<00:28, 40.12it/s]"
     ]
    },
    {
     "name": "stderr",
     "output_type": "stream",
     "text": [
      "\r",
      " 71%|███████   | 2762/3896 [01:28<00:28, 40.25it/s]"
     ]
    },
    {
     "name": "stderr",
     "output_type": "stream",
     "text": [
      "\r",
      " 71%|███████   | 2767/3896 [01:28<00:30, 36.46it/s]"
     ]
    },
    {
     "name": "stderr",
     "output_type": "stream",
     "text": [
      "\r",
      " 71%|███████   | 2771/3896 [01:29<00:31, 36.12it/s]"
     ]
    },
    {
     "name": "stderr",
     "output_type": "stream",
     "text": [
      "\r",
      " 71%|███████▏  | 2776/3896 [01:29<00:29, 38.00it/s]"
     ]
    },
    {
     "name": "stderr",
     "output_type": "stream",
     "text": [
      "\r",
      " 71%|███████▏  | 2780/3896 [01:29<00:29, 38.34it/s]"
     ]
    },
    {
     "name": "stderr",
     "output_type": "stream",
     "text": [
      "\r",
      " 71%|███████▏  | 2784/3896 [01:29<00:29, 38.16it/s]"
     ]
    },
    {
     "name": "stderr",
     "output_type": "stream",
     "text": [
      "\r",
      " 72%|███████▏  | 2788/3896 [01:29<00:29, 37.13it/s]"
     ]
    },
    {
     "name": "stderr",
     "output_type": "stream",
     "text": [
      "\r",
      " 72%|███████▏  | 2793/3896 [01:29<00:28, 39.34it/s]"
     ]
    },
    {
     "name": "stderr",
     "output_type": "stream",
     "text": [
      "\r",
      " 72%|███████▏  | 2797/3896 [01:29<00:31, 35.29it/s]"
     ]
    },
    {
     "name": "stderr",
     "output_type": "stream",
     "text": [
      "\r",
      " 72%|███████▏  | 2801/3896 [01:29<00:31, 35.20it/s]"
     ]
    },
    {
     "name": "stderr",
     "output_type": "stream",
     "text": [
      "\r",
      " 72%|███████▏  | 2805/3896 [01:29<00:31, 34.97it/s]"
     ]
    },
    {
     "name": "stderr",
     "output_type": "stream",
     "text": [
      "\r",
      " 72%|███████▏  | 2809/3896 [01:30<00:31, 34.91it/s]"
     ]
    },
    {
     "name": "stderr",
     "output_type": "stream",
     "text": [
      "\r",
      " 72%|███████▏  | 2813/3896 [01:30<00:32, 32.92it/s]"
     ]
    },
    {
     "name": "stderr",
     "output_type": "stream",
     "text": [
      "\r",
      " 72%|███████▏  | 2817/3896 [01:30<00:34, 30.93it/s]"
     ]
    },
    {
     "name": "stderr",
     "output_type": "stream",
     "text": [
      "\r",
      " 72%|███████▏  | 2821/3896 [01:30<00:51, 20.81it/s]"
     ]
    },
    {
     "name": "stderr",
     "output_type": "stream",
     "text": [
      "\r",
      " 72%|███████▏  | 2824/3896 [01:30<00:52, 20.37it/s]"
     ]
    },
    {
     "name": "stderr",
     "output_type": "stream",
     "text": [
      "\r",
      " 73%|███████▎  | 2827/3896 [01:31<00:56, 19.03it/s]"
     ]
    },
    {
     "name": "stderr",
     "output_type": "stream",
     "text": [
      "\r",
      " 73%|███████▎  | 2830/3896 [01:31<00:54, 19.39it/s]"
     ]
    },
    {
     "name": "stderr",
     "output_type": "stream",
     "text": [
      "\r",
      " 73%|███████▎  | 2834/3896 [01:31<00:47, 22.47it/s]"
     ]
    },
    {
     "name": "stderr",
     "output_type": "stream",
     "text": [
      "\r",
      " 73%|███████▎  | 2837/3896 [01:31<00:46, 23.00it/s]"
     ]
    },
    {
     "name": "stderr",
     "output_type": "stream",
     "text": [
      "\r",
      " 73%|███████▎  | 2841/3896 [01:31<00:40, 25.94it/s]"
     ]
    },
    {
     "name": "stderr",
     "output_type": "stream",
     "text": [
      "\r",
      " 73%|███████▎  | 2845/3896 [01:31<00:37, 27.84it/s]"
     ]
    },
    {
     "name": "stderr",
     "output_type": "stream",
     "text": [
      "\r",
      " 73%|███████▎  | 2849/3896 [01:31<00:34, 30.05it/s]"
     ]
    },
    {
     "name": "stderr",
     "output_type": "stream",
     "text": [
      "\r",
      " 73%|███████▎  | 2853/3896 [01:31<00:33, 31.31it/s]"
     ]
    },
    {
     "name": "stderr",
     "output_type": "stream",
     "text": [
      "\r",
      " 73%|███████▎  | 2857/3896 [01:32<00:32, 32.21it/s]"
     ]
    },
    {
     "name": "stderr",
     "output_type": "stream",
     "text": [
      "\r",
      " 73%|███████▎  | 2861/3896 [01:32<00:31, 32.88it/s]"
     ]
    },
    {
     "name": "stderr",
     "output_type": "stream",
     "text": [
      "\r",
      " 74%|███████▎  | 2866/3896 [01:32<00:28, 35.88it/s]"
     ]
    },
    {
     "name": "stderr",
     "output_type": "stream",
     "text": [
      "\r",
      " 74%|███████▎  | 2871/3896 [01:32<00:25, 39.60it/s]"
     ]
    },
    {
     "name": "stderr",
     "output_type": "stream",
     "text": [
      "\r",
      " 74%|███████▍  | 2876/3896 [01:32<00:27, 36.98it/s]"
     ]
    },
    {
     "name": "stderr",
     "output_type": "stream",
     "text": [
      "\r",
      " 74%|███████▍  | 2881/3896 [01:32<00:27, 37.30it/s]"
     ]
    },
    {
     "name": "stderr",
     "output_type": "stream",
     "text": [
      "\r",
      " 74%|███████▍  | 2885/3896 [01:32<00:30, 33.45it/s]"
     ]
    },
    {
     "name": "stderr",
     "output_type": "stream",
     "text": [
      "\r",
      " 74%|███████▍  | 2890/3896 [01:32<00:27, 36.04it/s]"
     ]
    },
    {
     "name": "stderr",
     "output_type": "stream",
     "text": [
      "\r",
      " 74%|███████▍  | 2894/3896 [01:33<00:28, 35.60it/s]"
     ]
    },
    {
     "name": "stderr",
     "output_type": "stream",
     "text": [
      "\r",
      " 74%|███████▍  | 2898/3896 [01:33<00:27, 36.69it/s]"
     ]
    },
    {
     "name": "stderr",
     "output_type": "stream",
     "text": [
      "\r",
      " 75%|███████▍  | 2903/3896 [01:33<00:27, 36.78it/s]"
     ]
    },
    {
     "name": "stderr",
     "output_type": "stream",
     "text": [
      "\r",
      " 75%|███████▍  | 2907/3896 [01:33<00:27, 36.48it/s]"
     ]
    },
    {
     "name": "stderr",
     "output_type": "stream",
     "text": [
      "\r",
      " 75%|███████▍  | 2911/3896 [01:33<00:30, 32.81it/s]"
     ]
    },
    {
     "name": "stderr",
     "output_type": "stream",
     "text": [
      "\r",
      " 75%|███████▍  | 2915/3896 [01:33<00:28, 34.57it/s]"
     ]
    },
    {
     "name": "stderr",
     "output_type": "stream",
     "text": [
      "\r",
      " 75%|███████▍  | 2919/3896 [01:33<00:28, 34.52it/s]"
     ]
    },
    {
     "name": "stderr",
     "output_type": "stream",
     "text": [
      "\r",
      " 75%|███████▌  | 2923/3896 [01:33<00:30, 31.86it/s]"
     ]
    },
    {
     "name": "stderr",
     "output_type": "stream",
     "text": [
      "\r",
      " 75%|███████▌  | 2927/3896 [01:34<00:32, 30.04it/s]"
     ]
    },
    {
     "name": "stderr",
     "output_type": "stream",
     "text": [
      "\r",
      " 75%|███████▌  | 2931/3896 [01:34<00:38, 25.37it/s]"
     ]
    },
    {
     "name": "stderr",
     "output_type": "stream",
     "text": [
      "\r",
      " 75%|███████▌  | 2934/3896 [01:34<00:37, 25.50it/s]"
     ]
    },
    {
     "name": "stderr",
     "output_type": "stream",
     "text": [
      "\r",
      " 75%|███████▌  | 2938/3896 [01:34<00:37, 25.69it/s]"
     ]
    },
    {
     "name": "stderr",
     "output_type": "stream",
     "text": [
      "\r",
      " 75%|███████▌  | 2941/3896 [01:34<00:35, 26.64it/s]"
     ]
    },
    {
     "name": "stderr",
     "output_type": "stream",
     "text": [
      "\r",
      " 76%|███████▌  | 2945/3896 [01:34<00:34, 27.76it/s]"
     ]
    },
    {
     "name": "stderr",
     "output_type": "stream",
     "text": [
      "\r",
      " 76%|███████▌  | 2948/3896 [01:34<00:37, 25.23it/s]"
     ]
    },
    {
     "name": "stderr",
     "output_type": "stream",
     "text": [
      "\r",
      " 76%|███████▌  | 2951/3896 [01:35<00:42, 22.40it/s]"
     ]
    },
    {
     "name": "stderr",
     "output_type": "stream",
     "text": [
      "\r",
      " 76%|███████▌  | 2954/3896 [01:35<00:42, 22.02it/s]"
     ]
    },
    {
     "name": "stderr",
     "output_type": "stream",
     "text": [
      "\r",
      " 76%|███████▌  | 2957/3896 [01:35<00:41, 22.82it/s]"
     ]
    },
    {
     "name": "stderr",
     "output_type": "stream",
     "text": [
      "\r",
      " 76%|███████▌  | 2961/3896 [01:35<00:41, 22.43it/s]"
     ]
    },
    {
     "name": "stderr",
     "output_type": "stream",
     "text": [
      "\r",
      " 76%|███████▌  | 2964/3896 [01:35<00:45, 20.42it/s]"
     ]
    },
    {
     "name": "stderr",
     "output_type": "stream",
     "text": [
      "\r",
      " 76%|███████▌  | 2967/3896 [01:35<00:48, 19.19it/s]"
     ]
    },
    {
     "name": "stderr",
     "output_type": "stream",
     "text": [
      "\r",
      " 76%|███████▌  | 2970/3896 [01:36<00:47, 19.60it/s]"
     ]
    },
    {
     "name": "stderr",
     "output_type": "stream",
     "text": [
      "\r",
      " 76%|███████▋  | 2973/3896 [01:36<00:46, 20.06it/s]"
     ]
    },
    {
     "name": "stderr",
     "output_type": "stream",
     "text": [
      "\r",
      " 76%|███████▋  | 2976/3896 [01:36<00:44, 20.59it/s]"
     ]
    },
    {
     "name": "stderr",
     "output_type": "stream",
     "text": [
      "\r",
      " 76%|███████▋  | 2979/3896 [01:36<00:42, 21.62it/s]"
     ]
    },
    {
     "name": "stderr",
     "output_type": "stream",
     "text": [
      "\r",
      " 77%|███████▋  | 2982/3896 [01:36<00:42, 21.75it/s]"
     ]
    },
    {
     "name": "stderr",
     "output_type": "stream",
     "text": [
      "\r",
      " 77%|███████▋  | 2985/3896 [01:36<00:38, 23.55it/s]"
     ]
    },
    {
     "name": "stderr",
     "output_type": "stream",
     "text": [
      "\r",
      " 77%|███████▋  | 2988/3896 [01:36<00:36, 25.03it/s]"
     ]
    },
    {
     "name": "stderr",
     "output_type": "stream",
     "text": [
      "\r",
      " 77%|███████▋  | 2992/3896 [01:36<00:32, 27.99it/s]"
     ]
    },
    {
     "name": "stderr",
     "output_type": "stream",
     "text": [
      "\r",
      " 77%|███████▋  | 2996/3896 [01:37<00:31, 28.58it/s]"
     ]
    },
    {
     "name": "stderr",
     "output_type": "stream",
     "text": [
      "\r",
      " 77%|███████▋  | 3000/3896 [01:37<00:29, 30.71it/s]"
     ]
    },
    {
     "name": "stderr",
     "output_type": "stream",
     "text": [
      "\r",
      " 77%|███████▋  | 3004/3896 [01:37<00:27, 32.05it/s]"
     ]
    },
    {
     "name": "stderr",
     "output_type": "stream",
     "text": [
      "\r",
      " 77%|███████▋  | 3009/3896 [01:37<00:25, 34.68it/s]"
     ]
    },
    {
     "name": "stderr",
     "output_type": "stream",
     "text": [
      "\r",
      " 77%|███████▋  | 3013/3896 [01:37<00:26, 33.63it/s]"
     ]
    },
    {
     "name": "stderr",
     "output_type": "stream",
     "text": [
      "\r",
      " 77%|███████▋  | 3017/3896 [01:37<00:26, 32.69it/s]"
     ]
    },
    {
     "name": "stderr",
     "output_type": "stream",
     "text": [
      "\r",
      " 78%|███████▊  | 3021/3896 [01:37<00:29, 29.34it/s]"
     ]
    },
    {
     "name": "stderr",
     "output_type": "stream",
     "text": [
      "\r",
      " 78%|███████▊  | 3025/3896 [01:37<00:30, 28.46it/s]"
     ]
    },
    {
     "name": "stderr",
     "output_type": "stream",
     "text": [
      "\r",
      " 78%|███████▊  | 3029/3896 [01:38<00:28, 30.32it/s]"
     ]
    },
    {
     "name": "stderr",
     "output_type": "stream",
     "text": [
      "\r",
      " 78%|███████▊  | 3035/3896 [01:38<00:24, 35.83it/s]"
     ]
    },
    {
     "name": "stderr",
     "output_type": "stream",
     "text": [
      "\r",
      " 78%|███████▊  | 3039/3896 [01:38<00:26, 32.56it/s]"
     ]
    },
    {
     "name": "stderr",
     "output_type": "stream",
     "text": [
      "\r",
      " 78%|███████▊  | 3043/3896 [01:38<00:28, 29.43it/s]"
     ]
    },
    {
     "name": "stderr",
     "output_type": "stream",
     "text": [
      "\r",
      " 78%|███████▊  | 3047/3896 [01:38<00:31, 27.32it/s]"
     ]
    },
    {
     "name": "stderr",
     "output_type": "stream",
     "text": [
      "\r",
      " 78%|███████▊  | 3050/3896 [01:38<00:33, 25.12it/s]"
     ]
    },
    {
     "name": "stderr",
     "output_type": "stream",
     "text": [
      "\r",
      " 78%|███████▊  | 3053/3896 [01:38<00:35, 23.83it/s]"
     ]
    },
    {
     "name": "stderr",
     "output_type": "stream",
     "text": [
      "\r",
      " 78%|███████▊  | 3057/3896 [01:39<00:32, 26.14it/s]"
     ]
    },
    {
     "name": "stderr",
     "output_type": "stream",
     "text": [
      "\r",
      " 79%|███████▊  | 3062/3896 [01:39<00:28, 29.10it/s]"
     ]
    },
    {
     "name": "stderr",
     "output_type": "stream",
     "text": [
      "\r",
      " 79%|███████▊  | 3067/3896 [01:39<00:25, 32.48it/s]"
     ]
    },
    {
     "name": "stderr",
     "output_type": "stream",
     "text": [
      "\r",
      " 79%|███████▉  | 3071/3896 [01:39<00:29, 27.94it/s]"
     ]
    },
    {
     "name": "stderr",
     "output_type": "stream",
     "text": [
      "\r",
      " 79%|███████▉  | 3075/3896 [01:39<00:28, 28.53it/s]"
     ]
    },
    {
     "name": "stderr",
     "output_type": "stream",
     "text": [
      "\r",
      " 79%|███████▉  | 3078/3896 [01:39<00:29, 27.97it/s]"
     ]
    },
    {
     "name": "stderr",
     "output_type": "stream",
     "text": [
      "\r",
      " 79%|███████▉  | 3081/3896 [01:39<00:29, 27.73it/s]"
     ]
    },
    {
     "name": "stderr",
     "output_type": "stream",
     "text": [
      "\r",
      " 79%|███████▉  | 3084/3896 [01:40<00:30, 26.89it/s]"
     ]
    },
    {
     "name": "stderr",
     "output_type": "stream",
     "text": [
      "\r",
      " 79%|███████▉  | 3088/3896 [01:40<00:27, 29.90it/s]"
     ]
    },
    {
     "name": "stderr",
     "output_type": "stream",
     "text": [
      "\r",
      " 79%|███████▉  | 3093/3896 [01:40<00:23, 33.88it/s]"
     ]
    },
    {
     "name": "stderr",
     "output_type": "stream",
     "text": [
      "\r",
      " 79%|███████▉  | 3097/3896 [01:40<00:26, 29.88it/s]"
     ]
    },
    {
     "name": "stderr",
     "output_type": "stream",
     "text": [
      "\r",
      " 80%|███████▉  | 3101/3896 [01:40<00:32, 24.61it/s]"
     ]
    },
    {
     "name": "stderr",
     "output_type": "stream",
     "text": [
      "\r",
      " 80%|███████▉  | 3105/3896 [01:40<00:30, 25.93it/s]"
     ]
    },
    {
     "name": "stderr",
     "output_type": "stream",
     "text": [
      "\r",
      " 80%|███████▉  | 3108/3896 [01:40<00:29, 26.56it/s]"
     ]
    },
    {
     "name": "stderr",
     "output_type": "stream",
     "text": [
      "\r",
      " 80%|███████▉  | 3111/3896 [01:41<00:30, 25.43it/s]"
     ]
    },
    {
     "name": "stderr",
     "output_type": "stream",
     "text": [
      "\r",
      " 80%|███████▉  | 3115/3896 [01:41<00:27, 28.55it/s]"
     ]
    },
    {
     "name": "stderr",
     "output_type": "stream",
     "text": [
      "\r",
      " 80%|████████  | 3119/3896 [01:41<00:27, 28.55it/s]"
     ]
    },
    {
     "name": "stderr",
     "output_type": "stream",
     "text": [
      "\r",
      " 80%|████████  | 3124/3896 [01:41<00:23, 33.47it/s]"
     ]
    },
    {
     "name": "stderr",
     "output_type": "stream",
     "text": [
      "\r",
      " 80%|████████  | 3130/3896 [01:41<00:19, 39.23it/s]"
     ]
    },
    {
     "name": "stderr",
     "output_type": "stream",
     "text": [
      "\r",
      " 80%|████████  | 3135/3896 [01:41<00:21, 35.57it/s]"
     ]
    },
    {
     "name": "stderr",
     "output_type": "stream",
     "text": [
      "\r",
      " 81%|████████  | 3139/3896 [01:41<00:21, 35.20it/s]"
     ]
    },
    {
     "name": "stderr",
     "output_type": "stream",
     "text": [
      "\r",
      " 81%|████████  | 3143/3896 [01:41<00:24, 31.20it/s]"
     ]
    },
    {
     "name": "stderr",
     "output_type": "stream",
     "text": [
      "\r",
      " 81%|████████  | 3147/3896 [01:42<00:24, 30.80it/s]"
     ]
    },
    {
     "name": "stderr",
     "output_type": "stream",
     "text": [
      "\r",
      " 81%|████████  | 3152/3896 [01:42<00:21, 35.10it/s]"
     ]
    },
    {
     "name": "stderr",
     "output_type": "stream",
     "text": [
      "\r",
      " 81%|████████  | 3156/3896 [01:42<00:22, 33.60it/s]"
     ]
    },
    {
     "name": "stderr",
     "output_type": "stream",
     "text": [
      "\r",
      " 81%|████████  | 3160/3896 [01:42<00:21, 34.77it/s]"
     ]
    },
    {
     "name": "stderr",
     "output_type": "stream",
     "text": [
      "\r",
      " 81%|████████  | 3164/3896 [01:42<00:21, 33.44it/s]"
     ]
    },
    {
     "name": "stderr",
     "output_type": "stream",
     "text": [
      "\r",
      " 81%|████████▏ | 3168/3896 [01:42<00:23, 31.11it/s]"
     ]
    },
    {
     "name": "stderr",
     "output_type": "stream",
     "text": [
      "\r",
      " 81%|████████▏ | 3172/3896 [01:42<00:23, 31.23it/s]"
     ]
    },
    {
     "name": "stderr",
     "output_type": "stream",
     "text": [
      "\r",
      " 82%|████████▏ | 3177/3896 [01:42<00:20, 35.80it/s]"
     ]
    },
    {
     "name": "stderr",
     "output_type": "stream",
     "text": [
      "\r",
      " 82%|████████▏ | 3181/3896 [01:43<00:19, 36.73it/s]"
     ]
    },
    {
     "name": "stderr",
     "output_type": "stream",
     "text": [
      "\r",
      " 82%|████████▏ | 3186/3896 [01:43<00:18, 38.68it/s]"
     ]
    },
    {
     "name": "stderr",
     "output_type": "stream",
     "text": [
      "\r",
      " 82%|████████▏ | 3191/3896 [01:43<00:17, 41.07it/s]"
     ]
    },
    {
     "name": "stderr",
     "output_type": "stream",
     "text": [
      "\r",
      " 82%|████████▏ | 3196/3896 [01:43<00:16, 41.87it/s]"
     ]
    },
    {
     "name": "stderr",
     "output_type": "stream",
     "text": [
      "\r",
      " 82%|████████▏ | 3201/3896 [01:43<00:17, 39.24it/s]"
     ]
    },
    {
     "name": "stderr",
     "output_type": "stream",
     "text": [
      "\r",
      " 82%|████████▏ | 3205/3896 [01:43<00:17, 38.58it/s]"
     ]
    },
    {
     "name": "stderr",
     "output_type": "stream",
     "text": [
      "\r",
      " 82%|████████▏ | 3211/3896 [01:43<00:15, 43.56it/s]"
     ]
    },
    {
     "name": "stderr",
     "output_type": "stream",
     "text": [
      "\r",
      " 83%|████████▎ | 3216/3896 [01:43<00:16, 40.08it/s]"
     ]
    },
    {
     "name": "stderr",
     "output_type": "stream",
     "text": [
      "\r",
      " 83%|████████▎ | 3221/3896 [01:44<00:18, 37.01it/s]"
     ]
    },
    {
     "name": "stderr",
     "output_type": "stream",
     "text": [
      "\r",
      " 83%|████████▎ | 3226/3896 [01:44<00:17, 38.49it/s]"
     ]
    },
    {
     "name": "stderr",
     "output_type": "stream",
     "text": [
      "\r",
      " 83%|████████▎ | 3230/3896 [01:44<00:19, 34.51it/s]"
     ]
    },
    {
     "name": "stderr",
     "output_type": "stream",
     "text": [
      "\r",
      " 83%|████████▎ | 3234/3896 [01:44<00:19, 34.37it/s]"
     ]
    },
    {
     "name": "stderr",
     "output_type": "stream",
     "text": [
      "\r",
      " 83%|████████▎ | 3238/3896 [01:44<00:18, 35.47it/s]"
     ]
    },
    {
     "name": "stderr",
     "output_type": "stream",
     "text": [
      "\r",
      " 83%|████████▎ | 3242/3896 [01:44<00:18, 35.45it/s]"
     ]
    },
    {
     "name": "stderr",
     "output_type": "stream",
     "text": [
      "\r",
      " 83%|████████▎ | 3246/3896 [01:44<00:18, 36.08it/s]"
     ]
    },
    {
     "name": "stderr",
     "output_type": "stream",
     "text": [
      "\r",
      " 83%|████████▎ | 3250/3896 [01:44<00:19, 32.38it/s]"
     ]
    },
    {
     "name": "stderr",
     "output_type": "stream",
     "text": [
      "\r",
      " 84%|████████▎ | 3254/3896 [01:45<00:20, 31.43it/s]"
     ]
    },
    {
     "name": "stderr",
     "output_type": "stream",
     "text": [
      "\r",
      " 84%|████████▎ | 3258/3896 [01:45<00:19, 33.21it/s]"
     ]
    },
    {
     "name": "stderr",
     "output_type": "stream",
     "text": [
      "\r",
      " 84%|████████▎ | 3262/3896 [01:45<00:18, 34.56it/s]"
     ]
    },
    {
     "name": "stderr",
     "output_type": "stream",
     "text": [
      "\r",
      " 84%|████████▍ | 3266/3896 [01:45<00:18, 33.35it/s]"
     ]
    },
    {
     "name": "stderr",
     "output_type": "stream",
     "text": [
      "\r",
      " 84%|████████▍ | 3270/3896 [01:45<00:18, 33.35it/s]"
     ]
    },
    {
     "name": "stderr",
     "output_type": "stream",
     "text": [
      "\r",
      " 84%|████████▍ | 3274/3896 [01:45<00:18, 32.78it/s]"
     ]
    },
    {
     "name": "stderr",
     "output_type": "stream",
     "text": [
      "\r",
      " 84%|████████▍ | 3278/3896 [01:45<00:18, 32.98it/s]"
     ]
    },
    {
     "name": "stderr",
     "output_type": "stream",
     "text": [
      "\r",
      " 84%|████████▍ | 3282/3896 [01:45<00:17, 34.78it/s]"
     ]
    },
    {
     "name": "stderr",
     "output_type": "stream",
     "text": [
      "\r",
      " 84%|████████▍ | 3286/3896 [01:45<00:17, 34.92it/s]"
     ]
    },
    {
     "name": "stderr",
     "output_type": "stream",
     "text": [
      "\r",
      " 84%|████████▍ | 3290/3896 [01:46<00:17, 35.53it/s]"
     ]
    },
    {
     "name": "stderr",
     "output_type": "stream",
     "text": [
      "\r",
      " 85%|████████▍ | 3294/3896 [01:46<00:18, 31.73it/s]"
     ]
    },
    {
     "name": "stderr",
     "output_type": "stream",
     "text": [
      "\r",
      " 85%|████████▍ | 3300/3896 [01:46<00:16, 37.14it/s]"
     ]
    },
    {
     "name": "stderr",
     "output_type": "stream",
     "text": [
      "\r",
      " 85%|████████▍ | 3304/3896 [01:46<00:16, 35.67it/s]"
     ]
    },
    {
     "name": "stderr",
     "output_type": "stream",
     "text": [
      "\r",
      " 85%|████████▍ | 3309/3896 [01:46<00:16, 36.37it/s]"
     ]
    },
    {
     "name": "stderr",
     "output_type": "stream",
     "text": [
      "\r",
      " 85%|████████▌ | 3313/3896 [01:46<00:16, 35.49it/s]"
     ]
    },
    {
     "name": "stderr",
     "output_type": "stream",
     "text": [
      "\r",
      " 85%|████████▌ | 3317/3896 [01:46<00:16, 34.52it/s]"
     ]
    },
    {
     "name": "stderr",
     "output_type": "stream",
     "text": [
      "\r",
      " 85%|████████▌ | 3321/3896 [01:47<00:20, 28.14it/s]"
     ]
    },
    {
     "name": "stderr",
     "output_type": "stream",
     "text": [
      "\r",
      " 85%|████████▌ | 3325/3896 [01:47<00:19, 28.83it/s]"
     ]
    },
    {
     "name": "stderr",
     "output_type": "stream",
     "text": [
      "\r",
      " 85%|████████▌ | 3329/3896 [01:47<00:19, 29.21it/s]"
     ]
    },
    {
     "name": "stderr",
     "output_type": "stream",
     "text": [
      "\r",
      " 86%|████████▌ | 3333/3896 [01:47<00:18, 29.96it/s]"
     ]
    },
    {
     "name": "stderr",
     "output_type": "stream",
     "text": [
      "\r",
      " 86%|████████▌ | 3337/3896 [01:47<00:17, 31.24it/s]"
     ]
    },
    {
     "name": "stderr",
     "output_type": "stream",
     "text": [
      "\r",
      " 86%|████████▌ | 3341/3896 [01:47<00:18, 30.19it/s]"
     ]
    },
    {
     "name": "stderr",
     "output_type": "stream",
     "text": [
      "\r",
      " 86%|████████▌ | 3346/3896 [01:47<00:16, 33.36it/s]"
     ]
    },
    {
     "name": "stderr",
     "output_type": "stream",
     "text": [
      "\r",
      " 86%|████████▌ | 3350/3896 [01:47<00:16, 32.16it/s]"
     ]
    },
    {
     "name": "stderr",
     "output_type": "stream",
     "text": [
      "\r",
      " 86%|████████▌ | 3354/3896 [01:48<00:16, 31.89it/s]"
     ]
    },
    {
     "name": "stderr",
     "output_type": "stream",
     "text": [
      "\r",
      " 86%|████████▌ | 3358/3896 [01:48<00:17, 30.30it/s]"
     ]
    },
    {
     "name": "stderr",
     "output_type": "stream",
     "text": [
      "\r",
      " 86%|████████▋ | 3362/3896 [01:48<00:17, 30.42it/s]"
     ]
    },
    {
     "name": "stderr",
     "output_type": "stream",
     "text": [
      "\r",
      " 86%|████████▋ | 3366/3896 [01:48<00:17, 30.03it/s]"
     ]
    },
    {
     "name": "stderr",
     "output_type": "stream",
     "text": [
      "\r",
      " 86%|████████▋ | 3370/3896 [01:48<00:16, 30.94it/s]"
     ]
    },
    {
     "name": "stderr",
     "output_type": "stream",
     "text": [
      "\r",
      " 87%|████████▋ | 3375/3896 [01:48<00:15, 34.49it/s]"
     ]
    },
    {
     "name": "stderr",
     "output_type": "stream",
     "text": [
      "\r",
      " 87%|████████▋ | 3381/3896 [01:48<00:12, 39.77it/s]"
     ]
    },
    {
     "name": "stderr",
     "output_type": "stream",
     "text": [
      "\r",
      " 87%|████████▋ | 3386/3896 [01:48<00:14, 35.54it/s]"
     ]
    },
    {
     "name": "stderr",
     "output_type": "stream",
     "text": [
      "\r",
      " 87%|████████▋ | 3390/3896 [01:49<00:16, 30.46it/s]"
     ]
    },
    {
     "name": "stderr",
     "output_type": "stream",
     "text": [
      "\r",
      " 87%|████████▋ | 3394/3896 [01:49<00:16, 30.41it/s]"
     ]
    },
    {
     "name": "stderr",
     "output_type": "stream",
     "text": [
      "\r",
      " 87%|████████▋ | 3398/3896 [01:49<00:16, 30.26it/s]"
     ]
    },
    {
     "name": "stderr",
     "output_type": "stream",
     "text": [
      "\r",
      " 87%|████████▋ | 3403/3896 [01:49<00:14, 33.96it/s]"
     ]
    },
    {
     "name": "stderr",
     "output_type": "stream",
     "text": [
      "\r",
      " 88%|████████▊ | 3409/3896 [01:49<00:12, 37.57it/s]"
     ]
    },
    {
     "name": "stderr",
     "output_type": "stream",
     "text": [
      "\r",
      " 88%|████████▊ | 3415/3896 [01:49<00:11, 41.24it/s]"
     ]
    },
    {
     "name": "stderr",
     "output_type": "stream",
     "text": [
      "\r",
      " 88%|████████▊ | 3420/3896 [01:50<00:14, 33.95it/s]"
     ]
    },
    {
     "name": "stderr",
     "output_type": "stream",
     "text": [
      "\r",
      " 88%|████████▊ | 3424/3896 [01:50<00:16, 28.47it/s]"
     ]
    },
    {
     "name": "stderr",
     "output_type": "stream",
     "text": [
      "\r",
      " 88%|████████▊ | 3428/3896 [01:50<00:19, 23.91it/s]"
     ]
    },
    {
     "name": "stderr",
     "output_type": "stream",
     "text": [
      "\r",
      " 88%|████████▊ | 3431/3896 [01:50<00:18, 25.01it/s]"
     ]
    },
    {
     "name": "stderr",
     "output_type": "stream",
     "text": [
      "\r",
      " 88%|████████▊ | 3435/3896 [01:50<00:16, 27.26it/s]"
     ]
    },
    {
     "name": "stderr",
     "output_type": "stream",
     "text": [
      "\r",
      " 88%|████████▊ | 3440/3896 [01:50<00:14, 31.14it/s]"
     ]
    },
    {
     "name": "stderr",
     "output_type": "stream",
     "text": [
      "\r",
      " 88%|████████▊ | 3444/3896 [01:50<00:14, 30.44it/s]"
     ]
    },
    {
     "name": "stderr",
     "output_type": "stream",
     "text": [
      "\r",
      " 89%|████████▊ | 3448/3896 [01:51<00:15, 28.70it/s]"
     ]
    },
    {
     "name": "stderr",
     "output_type": "stream",
     "text": [
      "\r",
      " 89%|████████▊ | 3452/3896 [01:51<00:17, 25.43it/s]"
     ]
    },
    {
     "name": "stderr",
     "output_type": "stream",
     "text": [
      "\r",
      " 89%|████████▊ | 3455/3896 [01:51<00:17, 25.79it/s]"
     ]
    },
    {
     "name": "stderr",
     "output_type": "stream",
     "text": [
      "\r",
      " 89%|████████▉ | 3458/3896 [01:51<00:17, 24.47it/s]"
     ]
    },
    {
     "name": "stderr",
     "output_type": "stream",
     "text": [
      "\r",
      " 89%|████████▉ | 3461/3896 [01:51<00:17, 24.99it/s]"
     ]
    },
    {
     "name": "stderr",
     "output_type": "stream",
     "text": [
      "\r",
      " 89%|████████▉ | 3465/3896 [01:51<00:17, 25.05it/s]"
     ]
    },
    {
     "name": "stderr",
     "output_type": "stream",
     "text": [
      "\r",
      " 89%|████████▉ | 3468/3896 [01:51<00:16, 25.31it/s]"
     ]
    },
    {
     "name": "stderr",
     "output_type": "stream",
     "text": [
      "\r",
      " 89%|████████▉ | 3473/3896 [01:52<00:13, 30.83it/s]"
     ]
    },
    {
     "name": "stderr",
     "output_type": "stream",
     "text": [
      "\r",
      " 89%|████████▉ | 3477/3896 [01:52<00:12, 32.59it/s]"
     ]
    },
    {
     "name": "stderr",
     "output_type": "stream",
     "text": [
      "\r",
      " 89%|████████▉ | 3481/3896 [01:52<00:13, 31.78it/s]"
     ]
    },
    {
     "name": "stderr",
     "output_type": "stream",
     "text": [
      "\r",
      " 89%|████████▉ | 3485/3896 [01:52<00:13, 29.37it/s]"
     ]
    },
    {
     "name": "stderr",
     "output_type": "stream",
     "text": [
      "\r",
      " 90%|████████▉ | 3489/3896 [01:52<00:13, 29.32it/s]"
     ]
    },
    {
     "name": "stderr",
     "output_type": "stream",
     "text": [
      "\r",
      " 90%|████████▉ | 3492/3896 [01:52<00:15, 26.72it/s]"
     ]
    },
    {
     "name": "stderr",
     "output_type": "stream",
     "text": [
      "\r",
      " 90%|████████▉ | 3495/3896 [01:52<00:15, 26.37it/s]"
     ]
    },
    {
     "name": "stderr",
     "output_type": "stream",
     "text": [
      "\r",
      " 90%|████████▉ | 3498/3896 [01:52<00:14, 26.86it/s]"
     ]
    },
    {
     "name": "stderr",
     "output_type": "stream",
     "text": [
      "\r",
      " 90%|████████▉ | 3501/3896 [01:53<00:14, 26.98it/s]"
     ]
    },
    {
     "name": "stderr",
     "output_type": "stream",
     "text": [
      "\r",
      " 90%|████████▉ | 3504/3896 [01:53<00:15, 25.87it/s]"
     ]
    },
    {
     "name": "stderr",
     "output_type": "stream",
     "text": [
      "\r",
      " 90%|█████████ | 3507/3896 [01:53<00:15, 25.24it/s]"
     ]
    },
    {
     "name": "stderr",
     "output_type": "stream",
     "text": [
      "\r",
      " 90%|█████████ | 3511/3896 [01:53<00:13, 27.82it/s]"
     ]
    },
    {
     "name": "stderr",
     "output_type": "stream",
     "text": [
      "\r",
      " 90%|█████████ | 3514/3896 [01:53<00:14, 26.64it/s]"
     ]
    },
    {
     "name": "stderr",
     "output_type": "stream",
     "text": [
      "\r",
      " 90%|█████████ | 3518/3896 [01:53<00:13, 28.55it/s]"
     ]
    },
    {
     "name": "stderr",
     "output_type": "stream",
     "text": [
      "\r",
      " 90%|█████████ | 3523/3896 [01:53<00:11, 33.17it/s]"
     ]
    },
    {
     "name": "stderr",
     "output_type": "stream",
     "text": [
      "\r",
      " 91%|█████████ | 3527/3896 [01:53<00:10, 34.52it/s]"
     ]
    },
    {
     "name": "stderr",
     "output_type": "stream",
     "text": [
      "\r",
      " 91%|█████████ | 3532/3896 [01:53<00:09, 38.11it/s]"
     ]
    },
    {
     "name": "stderr",
     "output_type": "stream",
     "text": [
      "\r",
      " 91%|█████████ | 3537/3896 [01:54<00:08, 40.07it/s]"
     ]
    },
    {
     "name": "stderr",
     "output_type": "stream",
     "text": [
      "\r",
      " 91%|█████████ | 3542/3896 [01:54<00:08, 42.12it/s]"
     ]
    },
    {
     "name": "stderr",
     "output_type": "stream",
     "text": [
      "\r",
      " 91%|█████████ | 3547/3896 [01:54<00:08, 43.12it/s]"
     ]
    },
    {
     "name": "stderr",
     "output_type": "stream",
     "text": [
      "\r",
      " 91%|█████████ | 3553/3896 [01:54<00:07, 45.92it/s]"
     ]
    },
    {
     "name": "stderr",
     "output_type": "stream",
     "text": [
      "\r",
      " 91%|█████████▏| 3559/3896 [01:54<00:07, 47.96it/s]"
     ]
    },
    {
     "name": "stderr",
     "output_type": "stream",
     "text": [
      "\r",
      " 92%|█████████▏| 3565/3896 [01:54<00:06, 49.25it/s]"
     ]
    },
    {
     "name": "stderr",
     "output_type": "stream",
     "text": [
      "\r",
      " 92%|█████████▏| 3570/3896 [01:54<00:07, 40.92it/s]"
     ]
    },
    {
     "name": "stderr",
     "output_type": "stream",
     "text": [
      "\r",
      " 92%|█████████▏| 3575/3896 [01:54<00:07, 42.13it/s]"
     ]
    },
    {
     "name": "stderr",
     "output_type": "stream",
     "text": [
      "\r",
      " 92%|█████████▏| 3581/3896 [01:55<00:06, 46.56it/s]"
     ]
    },
    {
     "name": "stderr",
     "output_type": "stream",
     "text": [
      "\r",
      " 92%|█████████▏| 3586/3896 [01:55<00:06, 46.13it/s]"
     ]
    },
    {
     "name": "stderr",
     "output_type": "stream",
     "text": [
      "\r",
      " 92%|█████████▏| 3591/3896 [01:55<00:07, 41.86it/s]"
     ]
    },
    {
     "name": "stderr",
     "output_type": "stream",
     "text": [
      "\r",
      " 92%|█████████▏| 3597/3896 [01:55<00:06, 45.22it/s]"
     ]
    },
    {
     "name": "stderr",
     "output_type": "stream",
     "text": [
      "\r",
      " 92%|█████████▏| 3602/3896 [01:55<00:06, 44.83it/s]"
     ]
    },
    {
     "name": "stderr",
     "output_type": "stream",
     "text": [
      "\r",
      " 93%|█████████▎| 3607/3896 [01:55<00:07, 40.51it/s]"
     ]
    },
    {
     "name": "stderr",
     "output_type": "stream",
     "text": [
      "\r",
      " 93%|█████████▎| 3612/3896 [01:55<00:06, 41.63it/s]"
     ]
    },
    {
     "name": "stderr",
     "output_type": "stream",
     "text": [
      "\r",
      " 93%|█████████▎| 3617/3896 [01:55<00:06, 42.05it/s]"
     ]
    },
    {
     "name": "stderr",
     "output_type": "stream",
     "text": [
      "\r",
      " 93%|█████████▎| 3623/3896 [01:56<00:06, 44.63it/s]"
     ]
    },
    {
     "name": "stderr",
     "output_type": "stream",
     "text": [
      "\r",
      " 93%|█████████▎| 3628/3896 [01:56<00:05, 44.98it/s]"
     ]
    },
    {
     "name": "stderr",
     "output_type": "stream",
     "text": [
      "\r",
      " 93%|█████████▎| 3633/3896 [01:56<00:05, 45.59it/s]"
     ]
    },
    {
     "name": "stderr",
     "output_type": "stream",
     "text": [
      "\r",
      " 93%|█████████▎| 3638/3896 [01:56<00:05, 44.95it/s]"
     ]
    },
    {
     "name": "stderr",
     "output_type": "stream",
     "text": [
      "\r",
      " 94%|█████████▎| 3644/3896 [01:56<00:05, 48.93it/s]"
     ]
    },
    {
     "name": "stderr",
     "output_type": "stream",
     "text": [
      "\r",
      " 94%|█████████▎| 3652/3896 [01:56<00:04, 56.21it/s]"
     ]
    },
    {
     "name": "stderr",
     "output_type": "stream",
     "text": [
      "\r",
      " 94%|█████████▍| 3658/3896 [01:56<00:04, 51.75it/s]"
     ]
    },
    {
     "name": "stderr",
     "output_type": "stream",
     "text": [
      "\r",
      " 94%|█████████▍| 3666/3896 [01:56<00:04, 57.29it/s]"
     ]
    },
    {
     "name": "stderr",
     "output_type": "stream",
     "text": [
      "\r",
      " 94%|█████████▍| 3672/3896 [01:56<00:04, 51.13it/s]"
     ]
    },
    {
     "name": "stderr",
     "output_type": "stream",
     "text": [
      "\r",
      " 94%|█████████▍| 3678/3896 [01:57<00:04, 50.99it/s]"
     ]
    },
    {
     "name": "stderr",
     "output_type": "stream",
     "text": [
      "\r",
      " 95%|█████████▍| 3684/3896 [01:57<00:04, 48.96it/s]"
     ]
    },
    {
     "name": "stderr",
     "output_type": "stream",
     "text": [
      "\r",
      " 95%|█████████▍| 3690/3896 [01:57<00:04, 50.47it/s]"
     ]
    },
    {
     "name": "stderr",
     "output_type": "stream",
     "text": [
      "\r",
      " 95%|█████████▍| 3696/3896 [01:57<00:03, 50.21it/s]"
     ]
    },
    {
     "name": "stderr",
     "output_type": "stream",
     "text": [
      "\r",
      " 95%|█████████▌| 3702/3896 [01:57<00:03, 50.52it/s]"
     ]
    },
    {
     "name": "stderr",
     "output_type": "stream",
     "text": [
      "\r",
      " 95%|█████████▌| 3708/3896 [01:57<00:03, 52.32it/s]"
     ]
    },
    {
     "name": "stderr",
     "output_type": "stream",
     "text": [
      "\r",
      " 95%|█████████▌| 3714/3896 [01:57<00:03, 53.67it/s]"
     ]
    },
    {
     "name": "stderr",
     "output_type": "stream",
     "text": [
      "\r",
      " 96%|█████████▌| 3721/3896 [01:57<00:03, 56.92it/s]"
     ]
    },
    {
     "name": "stderr",
     "output_type": "stream",
     "text": [
      "\r",
      " 96%|█████████▌| 3727/3896 [01:58<00:03, 54.44it/s]"
     ]
    },
    {
     "name": "stderr",
     "output_type": "stream",
     "text": [
      "\r",
      " 96%|█████████▌| 3733/3896 [01:58<00:02, 54.76it/s]"
     ]
    },
    {
     "name": "stderr",
     "output_type": "stream",
     "text": [
      "\r",
      " 96%|█████████▌| 3741/3896 [01:58<00:02, 58.34it/s]"
     ]
    },
    {
     "name": "stderr",
     "output_type": "stream",
     "text": [
      "\r",
      " 96%|█████████▌| 3747/3896 [01:58<00:02, 55.91it/s]"
     ]
    },
    {
     "name": "stderr",
     "output_type": "stream",
     "text": [
      "\r",
      " 96%|█████████▋| 3753/3896 [01:58<00:02, 53.01it/s]"
     ]
    },
    {
     "name": "stderr",
     "output_type": "stream",
     "text": [
      "\r",
      " 96%|█████████▋| 3759/3896 [01:58<00:02, 49.27it/s]"
     ]
    },
    {
     "name": "stderr",
     "output_type": "stream",
     "text": [
      "\r",
      " 97%|█████████▋| 3764/3896 [01:58<00:02, 47.07it/s]"
     ]
    },
    {
     "name": "stderr",
     "output_type": "stream",
     "text": [
      "\r",
      " 97%|█████████▋| 3770/3896 [01:58<00:02, 46.46it/s]"
     ]
    },
    {
     "name": "stderr",
     "output_type": "stream",
     "text": [
      "\r",
      " 97%|█████████▋| 3775/3896 [01:59<00:02, 43.92it/s]"
     ]
    },
    {
     "name": "stderr",
     "output_type": "stream",
     "text": [
      "\r",
      " 97%|█████████▋| 3781/3896 [01:59<00:02, 46.48it/s]"
     ]
    },
    {
     "name": "stderr",
     "output_type": "stream",
     "text": [
      "\r",
      " 97%|█████████▋| 3787/3896 [01:59<00:02, 49.36it/s]"
     ]
    },
    {
     "name": "stderr",
     "output_type": "stream",
     "text": [
      "\r",
      " 97%|█████████▋| 3793/3896 [01:59<00:02, 48.57it/s]"
     ]
    },
    {
     "name": "stderr",
     "output_type": "stream",
     "text": [
      "\r",
      " 98%|█████████▊| 3799/3896 [01:59<00:01, 50.25it/s]"
     ]
    },
    {
     "name": "stderr",
     "output_type": "stream",
     "text": [
      "\r",
      " 98%|█████████▊| 3805/3896 [01:59<00:01, 49.30it/s]"
     ]
    },
    {
     "name": "stderr",
     "output_type": "stream",
     "text": [
      "\r",
      " 98%|█████████▊| 3810/3896 [01:59<00:01, 44.05it/s]"
     ]
    },
    {
     "name": "stderr",
     "output_type": "stream",
     "text": [
      "\r",
      " 98%|█████████▊| 3815/3896 [01:59<00:02, 38.92it/s]"
     ]
    },
    {
     "name": "stderr",
     "output_type": "stream",
     "text": [
      "\r",
      " 98%|█████████▊| 3820/3896 [02:00<00:02, 35.88it/s]"
     ]
    },
    {
     "name": "stderr",
     "output_type": "stream",
     "text": [
      "\r",
      " 98%|█████████▊| 3824/3896 [02:00<00:02, 33.16it/s]"
     ]
    },
    {
     "name": "stderr",
     "output_type": "stream",
     "text": [
      "\r",
      " 98%|█████████▊| 3830/3896 [02:00<00:01, 37.25it/s]"
     ]
    },
    {
     "name": "stderr",
     "output_type": "stream",
     "text": [
      "\r",
      " 98%|█████████▊| 3834/3896 [02:00<00:01, 35.34it/s]"
     ]
    },
    {
     "name": "stderr",
     "output_type": "stream",
     "text": [
      "\r",
      " 99%|█████████▊| 3838/3896 [02:00<00:01, 35.77it/s]"
     ]
    },
    {
     "name": "stderr",
     "output_type": "stream",
     "text": [
      "\r",
      " 99%|█████████▊| 3842/3896 [02:00<00:01, 35.07it/s]"
     ]
    },
    {
     "name": "stderr",
     "output_type": "stream",
     "text": [
      "\r",
      " 99%|█████████▊| 3846/3896 [02:00<00:01, 34.91it/s]"
     ]
    },
    {
     "name": "stderr",
     "output_type": "stream",
     "text": [
      "\r",
      " 99%|█████████▉| 3850/3896 [02:00<00:01, 31.36it/s]"
     ]
    },
    {
     "name": "stderr",
     "output_type": "stream",
     "text": [
      "\r",
      " 99%|█████████▉| 3854/3896 [02:01<00:01, 31.98it/s]"
     ]
    },
    {
     "name": "stderr",
     "output_type": "stream",
     "text": [
      "\r",
      " 99%|█████████▉| 3858/3896 [02:01<00:01, 32.12it/s]"
     ]
    },
    {
     "name": "stderr",
     "output_type": "stream",
     "text": [
      "\r",
      " 99%|█████████▉| 3864/3896 [02:01<00:00, 36.94it/s]"
     ]
    },
    {
     "name": "stderr",
     "output_type": "stream",
     "text": [
      "\r",
      " 99%|█████████▉| 3868/3896 [02:01<00:00, 36.70it/s]"
     ]
    },
    {
     "name": "stderr",
     "output_type": "stream",
     "text": [
      "\r",
      " 99%|█████████▉| 3872/3896 [02:01<00:00, 35.61it/s]"
     ]
    },
    {
     "name": "stderr",
     "output_type": "stream",
     "text": [
      "\r",
      " 99%|█████████▉| 3876/3896 [02:01<00:00, 36.10it/s]"
     ]
    },
    {
     "name": "stderr",
     "output_type": "stream",
     "text": [
      "\r",
      "100%|█████████▉| 3881/3896 [02:01<00:00, 38.88it/s]"
     ]
    },
    {
     "name": "stderr",
     "output_type": "stream",
     "text": [
      "\r",
      "100%|█████████▉| 3886/3896 [02:01<00:00, 39.14it/s]"
     ]
    },
    {
     "name": "stderr",
     "output_type": "stream",
     "text": [
      "\r",
      "100%|█████████▉| 3891/3896 [02:02<00:00, 41.70it/s]"
     ]
    },
    {
     "name": "stderr",
     "output_type": "stream",
     "text": [
      "\r",
      "100%|██████████| 3896/3896 [02:02<00:00, 37.68it/s]"
     ]
    },
    {
     "name": "stderr",
     "output_type": "stream",
     "text": [
      "\r",
      "100%|██████████| 3896/3896 [02:02<00:00, 31.88it/s]"
     ]
    },
    {
     "name": "stderr",
     "output_type": "stream",
     "text": [
      "\n"
     ]
    }
   ],
   "source": [
    "import spacy\n",
    "\n",
    "nlp = spacy.load(\"en_core_web_lg\")\n",
    "\n",
    "\n",
    "def correct_noun_pos_tags(token):\n",
    "    \"\"\"Corrects the POS tags of specific tokens.\"\"\"\n",
    "    outliers = [\"cauliflower\", \"baking\"]\n",
    "    if token.text in outliers:\n",
    "        token.pos_ = \"NOUN\"\n",
    "    return token\n",
    "\n",
    "\n",
    "def lemmatize_nouns(ingredient):\n",
    "    \"\"\"Lemmatizes nouns in an ingredient string.\"\"\"\n",
    "    doc = nlp(ingredient)\n",
    "    lemmas = []\n",
    "    for token in doc:\n",
    "        token = correct_noun_pos_tags(token)\n",
    "        if (\n",
    "            token.is_alpha\n",
    "            and not token.is_stop\n",
    "            and token.pos_ in [\"NOUN\", \"PROPN\"]\n",
    "        ):\n",
    "            lemmas.append(token.lemma_)\n",
    "    return \" \".join(lemmas)\n",
    "\n",
    "\n",
    "recipe_df[\"lemmatized\"] = recipe_df.cleaned.progress_apply(\n",
    "    lambda x: [lemmatized for i in x if (lemmatized := lemmatize_nouns(i))]\n",
    ")"
   ]
  },
  {
   "cell_type": "code",
   "execution_count": 10,
   "metadata": {},
   "outputs": [],
   "source": [
    "save_ingredients(\n",
    "    recipe_df.lemmatized,\n",
    "    path=\"data/preprocess_output/2_lemmatized.txt\",\n",
    ")"
   ]
  },
  {
   "cell_type": "markdown",
   "metadata": {},
   "source": [
    "### Step 3. Remove stop words related to culinary\n"
   ]
  },
  {
   "cell_type": "code",
   "execution_count": 11,
   "metadata": {},
   "outputs": [
    {
     "name": "stderr",
     "output_type": "stream",
     "text": [
      "\r",
      "  0%|          | 0/3896 [00:00<?, ?it/s]"
     ]
    },
    {
     "name": "stderr",
     "output_type": "stream",
     "text": [
      "\r",
      " 31%|███       | 1202/3896 [00:00<00:00, 12018.32it/s]"
     ]
    },
    {
     "name": "stderr",
     "output_type": "stream",
     "text": [
      "\r",
      " 72%|███████▏  | 2800/3896 [00:00<00:00, 14348.49it/s]"
     ]
    },
    {
     "name": "stderr",
     "output_type": "stream",
     "text": [
      "\r",
      "100%|██████████| 3896/3896 [00:00<00:00, 14701.05it/s]"
     ]
    },
    {
     "name": "stderr",
     "output_type": "stream",
     "text": [
      "\n"
     ]
    }
   ],
   "source": [
    "input_file = \"data/preprocess_input/stopwords.txt\"\n",
    "with open(input_file, encoding=\"utf-8\") as file:\n",
    "    stopwords = file.read().splitlines()\n",
    "\n",
    "\n",
    "def filter_stopwords(text):\n",
    "    \"\"\"Filter out stopwords from a string.\"\"\"\n",
    "    words = []\n",
    "    for word in text.split():\n",
    "        if word not in stopwords:\n",
    "            words.append(word)\n",
    "    return \" \".join(words)\n",
    "\n",
    "\n",
    "recipe_df[\"filtered\"] = recipe_df.lemmatized.progress_apply(\n",
    "    lambda x: [filtered for i in x if (filtered := filter_stopwords(i))]\n",
    ")"
   ]
  },
  {
   "cell_type": "code",
   "execution_count": 12,
   "metadata": {},
   "outputs": [],
   "source": [
    "save_ingredients(\n",
    "    recipe_df.filtered,\n",
    "    path=\"data/preprocess_output/3_filtered.txt\",\n",
    ")"
   ]
  },
  {
   "cell_type": "markdown",
   "metadata": {},
   "source": [
    "### Step 4. Standardize ingredient names at word level\n"
   ]
  },
  {
   "cell_type": "code",
   "execution_count": 13,
   "metadata": {},
   "outputs": [
    {
     "name": "stderr",
     "output_type": "stream",
     "text": [
      "\r",
      "  0%|          | 0/3896 [00:00<?, ?it/s]"
     ]
    },
    {
     "name": "stderr",
     "output_type": "stream",
     "text": [
      "\r",
      "100%|██████████| 3896/3896 [00:00<00:00, 243503.14it/s]"
     ]
    },
    {
     "name": "stderr",
     "output_type": "stream",
     "text": [
      "\n"
     ]
    }
   ],
   "source": [
    "input_file = \"data/preprocess_input/thesaurus.json\"\n",
    "with open(input_file, encoding=\"utf-8\") as file:\n",
    "    thesaurus = json.load(file)\n",
    "\n",
    "\n",
    "def standardize_at_phrase_level(ingredient):\n",
    "    \"\"\"Replace words in an ingredient with standard names.\"\"\"\n",
    "    words = []\n",
    "    for word in ingredient.split():\n",
    "        words.append(thesaurus.get(word, word))\n",
    "    return \" \".join(words)\n",
    "\n",
    "\n",
    "recipe_df[\"standardized_word\"] = recipe_df.filtered.progress_apply(\n",
    "    lambda x: [\n",
    "        common_name\n",
    "        for i in x\n",
    "        if (common_name := standardize_at_phrase_level(i))\n",
    "    ]\n",
    ")"
   ]
  },
  {
   "cell_type": "code",
   "execution_count": 14,
   "metadata": {},
   "outputs": [],
   "source": [
    "save_ingredients(\n",
    "    recipe_df.standardized_word,\n",
    "    path=\"data/preprocess_output/4_standardized_word.txt\",\n",
    ")"
   ]
  },
  {
   "cell_type": "markdown",
   "metadata": {},
   "source": [
    "### Step 5. Remove duplicate terms\n"
   ]
  },
  {
   "cell_type": "code",
   "execution_count": 15,
   "metadata": {},
   "outputs": [
    {
     "name": "stderr",
     "output_type": "stream",
     "text": [
      "\r",
      "  0%|          | 0/3896 [00:00<?, ?it/s]"
     ]
    },
    {
     "name": "stderr",
     "output_type": "stream",
     "text": [
      "\r",
      "100%|██████████| 3896/3896 [00:00<00:00, 205039.19it/s]"
     ]
    },
    {
     "name": "stderr",
     "output_type": "stream",
     "text": [
      "\n"
     ]
    }
   ],
   "source": [
    "def remove_duplicates(text):\n",
    "    \"\"\"Remove duplicate terms while preserving order.\"\"\"\n",
    "    seen = set()\n",
    "    unique = []\n",
    "    for word in text.split():\n",
    "        if word not in seen:\n",
    "            unique.append(word)\n",
    "            seen.add(word)\n",
    "    return \" \".join(unique)\n",
    "\n",
    "\n",
    "recipe_df[\"unique\"] = recipe_df.standardized_word.progress_apply(\n",
    "    lambda x: [unique for i in x if (unique := remove_duplicates(i))]\n",
    ")"
   ]
  },
  {
   "cell_type": "code",
   "execution_count": 16,
   "metadata": {},
   "outputs": [],
   "source": [
    "save_ingredients(\n",
    "    recipe_df.unique,\n",
    "    path=\"data/preprocess_output/5_unique.txt\",\n",
    ")"
   ]
  },
  {
   "cell_type": "markdown",
   "metadata": {},
   "source": [
    "### Step 6. Standardize ingredient names at phrase level\n"
   ]
  },
  {
   "cell_type": "code",
   "execution_count": 17,
   "metadata": {},
   "outputs": [
    {
     "name": "stderr",
     "output_type": "stream",
     "text": [
      "\r",
      "  0%|          | 0/3896 [00:00<?, ?it/s]"
     ]
    },
    {
     "name": "stderr",
     "output_type": "stream",
     "text": [
      "\r",
      "100%|██████████| 3896/3896 [00:00<00:00, 556176.05it/s]"
     ]
    },
    {
     "name": "stderr",
     "output_type": "stream",
     "text": [
      "\n"
     ]
    }
   ],
   "source": [
    "def standardize_at_phrase_level(ingredient):\n",
    "    \"\"\"Replace the whole ingredient string with a standard name.\"\"\"\n",
    "    return thesaurus.get(ingredient, ingredient)\n",
    "\n",
    "\n",
    "recipe_df[\"standardized_phrase\"] = recipe_df.unique.progress_apply(\n",
    "    lambda x: [\n",
    "        standardized\n",
    "        for i in x\n",
    "        if (standardized := standardize_at_phrase_level(i))\n",
    "    ]\n",
    ")"
   ]
  },
  {
   "cell_type": "code",
   "execution_count": 18,
   "metadata": {},
   "outputs": [],
   "source": [
    "save_ingredients(\n",
    "    recipe_df.standardized_phrase,\n",
    "    path=\"data/preprocess_output/6_standardized_phrase.txt\",\n",
    ")"
   ]
  },
  {
   "cell_type": "markdown",
   "metadata": {},
   "source": [
    "### Step 7. Break down ingredients into basic components\n"
   ]
  },
  {
   "cell_type": "code",
   "execution_count": 19,
   "metadata": {},
   "outputs": [
    {
     "name": "stderr",
     "output_type": "stream",
     "text": [
      "\r",
      "  0%|          | 0/3896 [00:00<?, ?it/s]"
     ]
    },
    {
     "name": "stderr",
     "output_type": "stream",
     "text": [
      "\r",
      " 71%|███████   | 2759/3896 [00:00<00:00, 23991.75it/s]"
     ]
    },
    {
     "name": "stderr",
     "output_type": "stream",
     "text": [
      "\r",
      "100%|██████████| 3896/3896 [00:00<00:00, 32740.03it/s]"
     ]
    },
    {
     "name": "stderr",
     "output_type": "stream",
     "text": [
      "\n"
     ]
    }
   ],
   "source": [
    "input_file = \"data/preprocess_input/components.json\"\n",
    "with open(input_file, encoding=\"utf8\") as file:\n",
    "    ingredient_components = json.load(file)\n",
    "\n",
    "\n",
    "def break_down_ingredient(ingredient):\n",
    "    \"\"\"Breaks down an ingredient into its components.\"\"\"\n",
    "    components = ingredient_components.get(ingredient, ingredient)\n",
    "    if isinstance(components, str):\n",
    "        return [components]\n",
    "    return components\n",
    "\n",
    "\n",
    "recipe_df[\"components\"] = recipe_df.standardized_phrase.progress_apply(\n",
    "    lambda x: [component for i in x for component in break_down_ingredient(i)]\n",
    ")"
   ]
  },
  {
   "cell_type": "code",
   "execution_count": 20,
   "metadata": {},
   "outputs": [],
   "source": [
    "save_ingredients(\n",
    "    recipe_df.components,\n",
    "    path=\"data/preprocess_output/7_components.txt\",\n",
    ")"
   ]
  },
  {
   "cell_type": "markdown",
   "metadata": {},
   "source": [
    "### Step 8. Remove very common ingredients"
   ]
  },
  {
   "cell_type": "code",
   "execution_count": 21,
   "metadata": {},
   "outputs": [
    {
     "name": "stderr",
     "output_type": "stream",
     "text": [
      "\r",
      "  0%|          | 0/3896 [00:00<?, ?it/s]"
     ]
    },
    {
     "name": "stderr",
     "output_type": "stream",
     "text": [
      "\r",
      "100%|██████████| 3896/3896 [00:00<00:00, 487020.78it/s]"
     ]
    },
    {
     "name": "stderr",
     "output_type": "stream",
     "text": [
      "\n"
     ]
    }
   ],
   "source": [
    "very_common_ingredients = [\n",
    "    \"salt\",\n",
    "    \"pepper\",\n",
    "    \"sugar\",\n",
    "    \"oil\",\n",
    "    \"water\",\n",
    "    \"garlic\",\n",
    "    \"onion\",\n",
    "]\n",
    "\n",
    "# Remove very common ingredients\n",
    "recipe_df[\"filtered_common\"] = recipe_df.components.progress_apply(\n",
    "    lambda x: [i for i in x if i not in very_common_ingredients]\n",
    ")"
   ]
  },
  {
   "cell_type": "code",
   "execution_count": 22,
   "metadata": {},
   "outputs": [],
   "source": [
    "save_ingredients(\n",
    "    recipe_df.filtered_common,\n",
    "    path=\"data/preprocess_output/8_filtered_common.txt\",\n",
    ")"
   ]
  },
  {
   "cell_type": "markdown",
   "metadata": {},
   "source": [
    "### Step 9. Remove very rare ingredients"
   ]
  },
  {
   "cell_type": "code",
   "execution_count": 23,
   "metadata": {},
   "outputs": [
    {
     "name": "stderr",
     "output_type": "stream",
     "text": [
      "\r",
      "  0%|          | 0/3896 [00:00<?, ?it/s]"
     ]
    },
    {
     "name": "stderr",
     "output_type": "stream",
     "text": [
      "\r",
      "100%|██████████| 3896/3896 [00:00<00:00, 279696.84it/s]"
     ]
    },
    {
     "name": "stderr",
     "output_type": "stream",
     "text": [
      "\n"
     ]
    }
   ],
   "source": [
    "min_count = 10\n",
    "ingredient_counts = recipe_df.filtered_common.explode().value_counts()\n",
    "unique_ingredients = ingredient_counts[ingredient_counts >= min_count].index\n",
    "\n",
    "recipe_df[\"filtered_unique\"] = recipe_df.filtered_common.progress_apply(\n",
    "    lambda x: [i for i in x if i in unique_ingredients]\n",
    ")"
   ]
  },
  {
   "cell_type": "code",
   "execution_count": 24,
   "metadata": {},
   "outputs": [],
   "source": [
    "save_ingredients(\n",
    "    recipe_df.filtered_unique,\n",
    "    path=\"data/preprocess_output/9_filtered_unique.txt\",\n",
    ")"
   ]
  },
  {
   "cell_type": "markdown",
   "metadata": {},
   "source": [
    "### Save preprocessed data\n"
   ]
  },
  {
   "cell_type": "code",
   "execution_count": 25,
   "metadata": {},
   "outputs": [],
   "source": [
    "recipe_df.to_csv(\n",
    "    \"data/preprocessed_recipes.csv\",\n",
    "    index=False,\n",
    "    columns=[\"name\", \"filtered_unique\"],\n",
    ")"
   ]
  },
  {
   "cell_type": "code",
   "execution_count": 26,
   "metadata": {},
   "outputs": [
    {
     "data": {
      "image/png": "[encoded data removed]",
      "text/plain": [
       "<Figure size 768x288 with 1 Axes>"
      ]
     },
     "metadata": {
      "image/png": {
       "height": 278,
       "width": 758
      }
     },
     "output_type": "display_data"
    },
    {
     "data": {
      "image/png": "[encoded data removed]",
      "text/plain": [
       "<Figure size 768x672 with 1 Axes>"
      ]
     },
     "metadata": {
      "image/png": {
       "height": 662,
       "width": 757
      }
     },
     "output_type": "display_data"
    }
   ],
   "source": [
    "plot_ingredient_count_distribution(recipe_df.filtered_unique)\n",
    "plot_common_ingredients(recipe_df.filtered_unique)"
   ]
  },
  {
   "cell_type": "markdown",
   "metadata": {},
   "source": [
    "## Data Transformation\n"
   ]
  },
  {
   "cell_type": "markdown",
   "metadata": {},
   "source": [
    "### Convert DataFrame to one-hot encoded format\n"
   ]
  },
  {
   "cell_type": "code",
   "execution_count": 27,
   "metadata": {},
   "outputs": [
    {
     "data": {
      "text/html": [
       "<div>\n",
       "<style scoped>\n",
       "    .dataframe tbody tr th:only-of-type {\n",
       "        vertical-align: middle;\n",
       "    }\n",
       "\n",
       "    .dataframe tbody tr th {\n",
       "        vertical-align: top;\n",
       "    }\n",
       "\n",
       "    .dataframe thead th {\n",
       "        text-align: right;\n",
       "    }\n",
       "</style>\n",
       "<table border=\"1\" class=\"dataframe\">\n",
       "  <thead>\n",
       "    <tr style=\"text-align: right;\">\n",
       "      <th></th>\n",
       "      <th>alcohol</th>\n",
       "      <th>anise</th>\n",
       "      <th>annatto</th>\n",
       "      <th>apple</th>\n",
       "      <th>asparagus</th>\n",
       "      <th>avocado</th>\n",
       "      <th>baking soda</th>\n",
       "      <th>banana</th>\n",
       "      <th>barbecue sauce</th>\n",
       "      <th>basil</th>\n",
       "      <th>...</th>\n",
       "      <th>tofu</th>\n",
       "      <th>tomato</th>\n",
       "      <th>turnip</th>\n",
       "      <th>vanilla</th>\n",
       "      <th>vegetable</th>\n",
       "      <th>vegetable broth</th>\n",
       "      <th>vinegar</th>\n",
       "      <th>wrapper</th>\n",
       "      <th>yam</th>\n",
       "      <th>yeast</th>\n",
       "    </tr>\n",
       "  </thead>\n",
       "  <tbody>\n",
       "    <tr>\n",
       "      <th>0</th>\n",
       "      <td>0</td>\n",
       "      <td>0</td>\n",
       "      <td>0</td>\n",
       "      <td>0</td>\n",
       "      <td>0</td>\n",
       "      <td>0</td>\n",
       "      <td>0</td>\n",
       "      <td>0</td>\n",
       "      <td>0</td>\n",
       "      <td>0</td>\n",
       "      <td>...</td>\n",
       "      <td>0</td>\n",
       "      <td>0</td>\n",
       "      <td>0</td>\n",
       "      <td>0</td>\n",
       "      <td>0</td>\n",
       "      <td>0</td>\n",
       "      <td>1</td>\n",
       "      <td>0</td>\n",
       "      <td>0</td>\n",
       "      <td>0</td>\n",
       "    </tr>\n",
       "    <tr>\n",
       "      <th>1</th>\n",
       "      <td>0</td>\n",
       "      <td>0</td>\n",
       "      <td>0</td>\n",
       "      <td>0</td>\n",
       "      <td>0</td>\n",
       "      <td>0</td>\n",
       "      <td>0</td>\n",
       "      <td>0</td>\n",
       "      <td>0</td>\n",
       "      <td>0</td>\n",
       "      <td>...</td>\n",
       "      <td>0</td>\n",
       "      <td>1</td>\n",
       "      <td>0</td>\n",
       "      <td>0</td>\n",
       "      <td>0</td>\n",
       "      <td>0</td>\n",
       "      <td>0</td>\n",
       "      <td>0</td>\n",
       "      <td>0</td>\n",
       "      <td>0</td>\n",
       "    </tr>\n",
       "    <tr>\n",
       "      <th>2</th>\n",
       "      <td>0</td>\n",
       "      <td>0</td>\n",
       "      <td>0</td>\n",
       "      <td>0</td>\n",
       "      <td>0</td>\n",
       "      <td>0</td>\n",
       "      <td>0</td>\n",
       "      <td>0</td>\n",
       "      <td>0</td>\n",
       "      <td>0</td>\n",
       "      <td>...</td>\n",
       "      <td>0</td>\n",
       "      <td>1</td>\n",
       "      <td>0</td>\n",
       "      <td>0</td>\n",
       "      <td>0</td>\n",
       "      <td>0</td>\n",
       "      <td>0</td>\n",
       "      <td>0</td>\n",
       "      <td>0</td>\n",
       "      <td>0</td>\n",
       "    </tr>\n",
       "    <tr>\n",
       "      <th>3</th>\n",
       "      <td>0</td>\n",
       "      <td>0</td>\n",
       "      <td>0</td>\n",
       "      <td>0</td>\n",
       "      <td>0</td>\n",
       "      <td>0</td>\n",
       "      <td>0</td>\n",
       "      <td>0</td>\n",
       "      <td>0</td>\n",
       "      <td>0</td>\n",
       "      <td>...</td>\n",
       "      <td>0</td>\n",
       "      <td>0</td>\n",
       "      <td>0</td>\n",
       "      <td>0</td>\n",
       "      <td>0</td>\n",
       "      <td>0</td>\n",
       "      <td>0</td>\n",
       "      <td>1</td>\n",
       "      <td>0</td>\n",
       "      <td>0</td>\n",
       "    </tr>\n",
       "    <tr>\n",
       "      <th>4</th>\n",
       "      <td>0</td>\n",
       "      <td>0</td>\n",
       "      <td>0</td>\n",
       "      <td>0</td>\n",
       "      <td>0</td>\n",
       "      <td>0</td>\n",
       "      <td>0</td>\n",
       "      <td>0</td>\n",
       "      <td>0</td>\n",
       "      <td>0</td>\n",
       "      <td>...</td>\n",
       "      <td>0</td>\n",
       "      <td>0</td>\n",
       "      <td>0</td>\n",
       "      <td>0</td>\n",
       "      <td>0</td>\n",
       "      <td>0</td>\n",
       "      <td>0</td>\n",
       "      <td>0</td>\n",
       "      <td>0</td>\n",
       "      <td>0</td>\n",
       "    </tr>\n",
       "  </tbody>\n",
       "</table>\n",
       "<p>5 rows × 122 columns</p>\n",
       "</div>"
      ],
      "text/plain": [
       "   alcohol  anise  annatto  apple  asparagus  avocado  baking soda  banana  \\\n",
       "0        0      0        0      0          0        0            0       0   \n",
       "1        0      0        0      0          0        0            0       0   \n",
       "2        0      0        0      0          0        0            0       0   \n",
       "3        0      0        0      0          0        0            0       0   \n",
       "4        0      0        0      0          0        0            0       0   \n",
       "\n",
       "   barbecue sauce  basil  ...  tofu  tomato  turnip  vanilla  vegetable  \\\n",
       "0               0      0  ...     0       0       0        0          0   \n",
       "1               0      0  ...     0       1       0        0          0   \n",
       "2               0      0  ...     0       1       0        0          0   \n",
       "3               0      0  ...     0       0       0        0          0   \n",
       "4               0      0  ...     0       0       0        0          0   \n",
       "\n",
       "   vegetable broth  vinegar  wrapper  yam  yeast  \n",
       "0                0        1        0    0      0  \n",
       "1                0        0        0    0      0  \n",
       "2                0        0        0    0      0  \n",
       "3                0        0        1    0      0  \n",
       "4                0        0        0    0      0  \n",
       "\n",
       "[5 rows x 122 columns]"
      ]
     },
     "execution_count": 68,
     "metadata": {},
     "output_type": "execute_result"
    }
   ],
   "source": [
    "from sklearn.preprocessing import MultiLabelBinarizer\n",
    "\n",
    "mlb = MultiLabelBinarizer()\n",
    "one_hot = mlb.fit_transform(recipe_df.filtered_unique)\n",
    "one_hot_df = pd.DataFrame(one_hot, columns=mlb.classes_)\n",
    "\n",
    "one_hot_df.head()"
   ]
  },
  {
   "cell_type": "code",
   "execution_count": 28,
   "metadata": {},
   "outputs": [],
   "source": [
    "one_hot_df.to_csv(\n",
    "    \"data/one_hot_encoded_recipes.csv\",\n",
    "    index=False,\n",
    ")"
   ]
  },
  {
   "cell_type": "markdown",
   "metadata": {},
   "source": [
    "## Association Analysis\n"
   ]
  },
  {
   "cell_type": "code",
   "execution_count": 29,
   "metadata": {},
   "outputs": [
    {
     "data": {
      "text/html": [
       "<div>\n",
       "<style scoped>\n",
       "    .dataframe tbody tr th:only-of-type {\n",
       "        vertical-align: middle;\n",
       "    }\n",
       "\n",
       "    .dataframe tbody tr th {\n",
       "        vertical-align: top;\n",
       "    }\n",
       "\n",
       "    .dataframe thead th {\n",
       "        text-align: right;\n",
       "    }\n",
       "</style>\n",
       "<table border=\"1\" class=\"dataframe\">\n",
       "  <thead>\n",
       "    <tr style=\"text-align: right;\">\n",
       "      <th></th>\n",
       "      <th>alcohol</th>\n",
       "      <th>anise</th>\n",
       "      <th>annatto</th>\n",
       "      <th>apple</th>\n",
       "      <th>asparagus</th>\n",
       "      <th>avocado</th>\n",
       "      <th>baking soda</th>\n",
       "      <th>banana</th>\n",
       "      <th>barbecue sauce</th>\n",
       "      <th>basil</th>\n",
       "      <th>...</th>\n",
       "      <th>tofu</th>\n",
       "      <th>tomato</th>\n",
       "      <th>turnip</th>\n",
       "      <th>vanilla</th>\n",
       "      <th>vegetable</th>\n",
       "      <th>vegetable broth</th>\n",
       "      <th>vinegar</th>\n",
       "      <th>wrapper</th>\n",
       "      <th>yam</th>\n",
       "      <th>yeast</th>\n",
       "    </tr>\n",
       "  </thead>\n",
       "  <tbody>\n",
       "    <tr>\n",
       "      <th>0</th>\n",
       "      <td>False</td>\n",
       "      <td>False</td>\n",
       "      <td>False</td>\n",
       "      <td>False</td>\n",
       "      <td>False</td>\n",
       "      <td>False</td>\n",
       "      <td>False</td>\n",
       "      <td>False</td>\n",
       "      <td>False</td>\n",
       "      <td>False</td>\n",
       "      <td>...</td>\n",
       "      <td>False</td>\n",
       "      <td>False</td>\n",
       "      <td>False</td>\n",
       "      <td>False</td>\n",
       "      <td>False</td>\n",
       "      <td>False</td>\n",
       "      <td>True</td>\n",
       "      <td>False</td>\n",
       "      <td>False</td>\n",
       "      <td>False</td>\n",
       "    </tr>\n",
       "    <tr>\n",
       "      <th>1</th>\n",
       "      <td>False</td>\n",
       "      <td>False</td>\n",
       "      <td>False</td>\n",
       "      <td>False</td>\n",
       "      <td>False</td>\n",
       "      <td>False</td>\n",
       "      <td>False</td>\n",
       "      <td>False</td>\n",
       "      <td>False</td>\n",
       "      <td>False</td>\n",
       "      <td>...</td>\n",
       "      <td>False</td>\n",
       "      <td>True</td>\n",
       "      <td>False</td>\n",
       "      <td>False</td>\n",
       "      <td>False</td>\n",
       "      <td>False</td>\n",
       "      <td>False</td>\n",
       "      <td>False</td>\n",
       "      <td>False</td>\n",
       "      <td>False</td>\n",
       "    </tr>\n",
       "    <tr>\n",
       "      <th>2</th>\n",
       "      <td>False</td>\n",
       "      <td>False</td>\n",
       "      <td>False</td>\n",
       "      <td>False</td>\n",
       "      <td>False</td>\n",
       "      <td>False</td>\n",
       "      <td>False</td>\n",
       "      <td>False</td>\n",
       "      <td>False</td>\n",
       "      <td>False</td>\n",
       "      <td>...</td>\n",
       "      <td>False</td>\n",
       "      <td>True</td>\n",
       "      <td>False</td>\n",
       "      <td>False</td>\n",
       "      <td>False</td>\n",
       "      <td>False</td>\n",
       "      <td>False</td>\n",
       "      <td>False</td>\n",
       "      <td>False</td>\n",
       "      <td>False</td>\n",
       "    </tr>\n",
       "    <tr>\n",
       "      <th>3</th>\n",
       "      <td>False</td>\n",
       "      <td>False</td>\n",
       "      <td>False</td>\n",
       "      <td>False</td>\n",
       "      <td>False</td>\n",
       "      <td>False</td>\n",
       "      <td>False</td>\n",
       "      <td>False</td>\n",
       "      <td>False</td>\n",
       "      <td>False</td>\n",
       "      <td>...</td>\n",
       "      <td>False</td>\n",
       "      <td>False</td>\n",
       "      <td>False</td>\n",
       "      <td>False</td>\n",
       "      <td>False</td>\n",
       "      <td>False</td>\n",
       "      <td>False</td>\n",
       "      <td>True</td>\n",
       "      <td>False</td>\n",
       "      <td>False</td>\n",
       "    </tr>\n",
       "    <tr>\n",
       "      <th>4</th>\n",
       "      <td>False</td>\n",
       "      <td>False</td>\n",
       "      <td>False</td>\n",
       "      <td>False</td>\n",
       "      <td>False</td>\n",
       "      <td>False</td>\n",
       "      <td>False</td>\n",
       "      <td>False</td>\n",
       "      <td>False</td>\n",
       "      <td>False</td>\n",
       "      <td>...</td>\n",
       "      <td>False</td>\n",
       "      <td>False</td>\n",
       "      <td>False</td>\n",
       "      <td>False</td>\n",
       "      <td>False</td>\n",
       "      <td>False</td>\n",
       "      <td>False</td>\n",
       "      <td>False</td>\n",
       "      <td>False</td>\n",
       "      <td>False</td>\n",
       "    </tr>\n",
       "  </tbody>\n",
       "</table>\n",
       "<p>5 rows × 122 columns</p>\n",
       "</div>"
      ],
      "text/plain": [
       "   alcohol  anise  annatto  apple  asparagus  avocado  baking soda  banana  \\\n",
       "0    False  False    False  False      False    False        False   False   \n",
       "1    False  False    False  False      False    False        False   False   \n",
       "2    False  False    False  False      False    False        False   False   \n",
       "3    False  False    False  False      False    False        False   False   \n",
       "4    False  False    False  False      False    False        False   False   \n",
       "\n",
       "   barbecue sauce  basil  ...   tofu  tomato  turnip  vanilla  vegetable  \\\n",
       "0           False  False  ...  False   False   False    False      False   \n",
       "1           False  False  ...  False    True   False    False      False   \n",
       "2           False  False  ...  False    True   False    False      False   \n",
       "3           False  False  ...  False   False   False    False      False   \n",
       "4           False  False  ...  False   False   False    False      False   \n",
       "\n",
       "   vegetable broth  vinegar  wrapper    yam  yeast  \n",
       "0            False     True    False  False  False  \n",
       "1            False    False    False  False  False  \n",
       "2            False    False    False  False  False  \n",
       "3            False    False     True  False  False  \n",
       "4            False    False    False  False  False  \n",
       "\n",
       "[5 rows x 122 columns]"
      ]
     },
     "execution_count": 70,
     "metadata": {},
     "output_type": "execute_result"
    }
   ],
   "source": [
    "import pandas as pd\n",
    "\n",
    "one_hot_df = pd.read_csv(\"data/one_hot_encoded_recipes.csv\")\n",
    "one_hot_df = one_hot_df.astype(bool)\n",
    "one_hot_df.head()"
   ]
  },
  {
   "cell_type": "markdown",
   "metadata": {},
   "source": [
    "### Find frequent itemsets\n"
   ]
  },
  {
   "cell_type": "code",
   "execution_count": 30,
   "metadata": {},
   "outputs": [
    {
     "data": {
      "text/html": [
       "<div>\n",
       "<style scoped>\n",
       "    .dataframe tbody tr th:only-of-type {\n",
       "        vertical-align: middle;\n",
       "    }\n",
       "\n",
       "    .dataframe tbody tr th {\n",
       "        vertical-align: top;\n",
       "    }\n",
       "\n",
       "    .dataframe thead th {\n",
       "        text-align: right;\n",
       "    }\n",
       "</style>\n",
       "<table border=\"1\" class=\"dataframe\">\n",
       "  <thead>\n",
       "    <tr style=\"text-align: right;\">\n",
       "      <th></th>\n",
       "      <th>support</th>\n",
       "      <th>itemsets</th>\n",
       "    </tr>\n",
       "  </thead>\n",
       "  <tbody>\n",
       "    <tr>\n",
       "      <th>0</th>\n",
       "      <td>0.047998</td>\n",
       "      <td>(alcohol)</td>\n",
       "    </tr>\n",
       "    <tr>\n",
       "      <th>1</th>\n",
       "      <td>0.013860</td>\n",
       "      <td>(anise)</td>\n",
       "    </tr>\n",
       "    <tr>\n",
       "      <th>2</th>\n",
       "      <td>0.021561</td>\n",
       "      <td>(annatto)</td>\n",
       "    </tr>\n",
       "    <tr>\n",
       "      <th>3</th>\n",
       "      <td>0.060062</td>\n",
       "      <td>(baking soda)</td>\n",
       "    </tr>\n",
       "    <tr>\n",
       "      <th>4</th>\n",
       "      <td>0.044661</td>\n",
       "      <td>(banana)</td>\n",
       "    </tr>\n",
       "  </tbody>\n",
       "</table>\n",
       "</div>"
      ],
      "text/plain": [
       "    support       itemsets\n",
       "0  0.047998      (alcohol)\n",
       "1  0.013860        (anise)\n",
       "2  0.021561      (annatto)\n",
       "3  0.060062  (baking soda)\n",
       "4  0.044661       (banana)"
      ]
     },
     "execution_count": 71,
     "metadata": {},
     "output_type": "execute_result"
    }
   ],
   "source": [
    "from mlxtend.frequent_patterns import apriori\n",
    "\n",
    "frequent_itemsets = apriori(\n",
    "    one_hot_df,\n",
    "    min_support=0.01, #  Lower this value to get more frequent itemsets\n",
    "    use_colnames=True,\n",
    ")\n",
    "\n",
    "frequent_itemsets.head()"
   ]
  },
  {
   "cell_type": "code",
   "execution_count": 31,
   "metadata": {},
   "outputs": [
    {
     "data": {
      "text/plain": [
       "672"
      ]
     },
     "execution_count": 72,
     "metadata": {},
     "output_type": "execute_result"
    }
   ],
   "source": [
    "len(frequent_itemsets)"
   ]
  },
  {
   "cell_type": "markdown",
   "metadata": {},
   "source": [
    "### Generate association rules\n"
   ]
  },
  {
   "cell_type": "code",
   "execution_count": 32,
   "metadata": {},
   "outputs": [
    {
     "data": {
      "text/html": [
       "<div>\n",
       "<style scoped>\n",
       "    .dataframe tbody tr th:only-of-type {\n",
       "        vertical-align: middle;\n",
       "    }\n",
       "\n",
       "    .dataframe tbody tr th {\n",
       "        vertical-align: top;\n",
       "    }\n",
       "\n",
       "    .dataframe thead th {\n",
       "        text-align: right;\n",
       "    }\n",
       "</style>\n",
       "<table border=\"1\" class=\"dataframe\">\n",
       "  <thead>\n",
       "    <tr style=\"text-align: right;\">\n",
       "      <th></th>\n",
       "      <th>antecedents</th>\n",
       "      <th>consequents</th>\n",
       "      <th>support</th>\n",
       "      <th>confidence</th>\n",
       "    </tr>\n",
       "  </thead>\n",
       "  <tbody>\n",
       "    <tr>\n",
       "      <th>0</th>\n",
       "      <td>(anise)</td>\n",
       "      <td>(soy sauce)</td>\n",
       "      <td>0.010267</td>\n",
       "      <td>0.740741</td>\n",
       "    </tr>\n",
       "    <tr>\n",
       "      <th>1</th>\n",
       "      <td>(annatto)</td>\n",
       "      <td>(fish sauce)</td>\n",
       "      <td>0.011294</td>\n",
       "      <td>0.523810</td>\n",
       "    </tr>\n",
       "    <tr>\n",
       "      <th>2</th>\n",
       "      <td>(baking soda)</td>\n",
       "      <td>(butter)</td>\n",
       "      <td>0.030031</td>\n",
       "      <td>0.500000</td>\n",
       "    </tr>\n",
       "    <tr>\n",
       "      <th>3</th>\n",
       "      <td>(baking soda)</td>\n",
       "      <td>(egg)</td>\n",
       "      <td>0.052875</td>\n",
       "      <td>0.880342</td>\n",
       "    </tr>\n",
       "    <tr>\n",
       "      <th>4</th>\n",
       "      <td>(baking soda)</td>\n",
       "      <td>(flour)</td>\n",
       "      <td>0.051848</td>\n",
       "      <td>0.863248</td>\n",
       "    </tr>\n",
       "  </tbody>\n",
       "</table>\n",
       "</div>"
      ],
      "text/plain": [
       "     antecedents   consequents   support  confidence\n",
       "0        (anise)   (soy sauce)  0.010267    0.740741\n",
       "1      (annatto)  (fish sauce)  0.011294    0.523810\n",
       "2  (baking soda)      (butter)  0.030031    0.500000\n",
       "3  (baking soda)         (egg)  0.052875    0.880342\n",
       "4  (baking soda)       (flour)  0.051848    0.863248"
      ]
     },
     "execution_count": 73,
     "metadata": {},
     "output_type": "execute_result"
    }
   ],
   "source": [
    "from mlxtend.frequent_patterns import association_rules\n",
    "\n",
    "rules_df = association_rules(\n",
    "    frequent_itemsets,\n",
    "    metric=\"confidence\",\n",
    "    min_threshold=0.5,\n",
    ")\n",
    "\n",
    "cols = [\"antecedents\", \"consequents\", \"support\", \"confidence\"]\n",
    "rules_df[cols].head()"
   ]
  },
  {
   "cell_type": "code",
   "execution_count": 33,
   "metadata": {},
   "outputs": [
    {
     "data": {
      "text/plain": [
       "543"
      ]
     },
     "execution_count": 74,
     "metadata": {},
     "output_type": "execute_result"
    }
   ],
   "source": [
    "len(rules_df)"
   ]
  },
  {
   "cell_type": "code",
   "execution_count": 34,
   "metadata": {},
   "outputs": [],
   "source": [
    "rules_df[\"antecedents\"] = rules_df[\"antecedents\"].apply(list)\n",
    "rules_df[\"consequents\"] = rules_df[\"consequents\"].apply(list)\n",
    "\n",
    "rules_df.to_csv(\n",
    "    \"data/association_rules.csv\",\n",
    "    index=False,\n",
    "    columns=[\"antecedents\", \"consequents\"],\n",
    ")"
   ]
  },
  {
   "cell_type": "markdown",
   "metadata": {},
   "source": [
    "### Visualize"
   ]
  },
  {
   "cell_type": "markdown",
   "metadata": {},
   "source": [
    "#### Prepare Data"
   ]
  },
  {
   "cell_type": "code",
   "execution_count": 35,
   "metadata": {},
   "outputs": [],
   "source": [
    "rules_df[\"antecedents\"] = rules_df[\"antecedents\"].apply(\n",
    "    lambda x: \", \".join(list(x))\n",
    ")\n",
    "rules_df[\"consequents\"] = rules_df[\"consequents\"].apply(\n",
    "    lambda x: \", \".join(list(x))\n",
    ")\n",
    "\n",
    "edges = [\n",
    "    (ant, cons)\n",
    "    for ant, cons in zip(rules_df[\"antecedents\"], rules_df[\"consequents\"])\n",
    "]"
   ]
  },
  {
   "cell_type": "code",
   "execution_count": 36,
   "metadata": {},
   "outputs": [
    {
     "data": {
      "text/plain": [
       "543"
      ]
     },
     "execution_count": 77,
     "metadata": {},
     "output_type": "execute_result"
    }
   ],
   "source": [
    "len(edges)"
   ]
  },
  {
   "cell_type": "code",
   "execution_count": 37,
   "metadata": {},
   "outputs": [
    {
     "data": {
      "text/plain": [
       "[('anise', 'soy sauce'),\n",
       " ('annatto', 'fish sauce'),\n",
       " ('baking soda', 'butter'),\n",
       " ('baking soda', 'egg'),\n",
       " ('baking soda', 'flour'),\n",
       " ('vanilla', 'baking soda'),\n",
       " ('baking soda', 'vanilla'),\n",
       " ('bay leaf', 'pork'),\n",
       " ('bay leaf', 'vinegar'),\n",
       " ('okra', 'bean')]"
      ]
     },
     "execution_count": 78,
     "metadata": {},
     "output_type": "execute_result"
    }
   ],
   "source": [
    "edges[:10]"
   ]
  },
  {
   "cell_type": "markdown",
   "metadata": {},
   "source": [
    "#### Create Graph"
   ]
  },
  {
   "cell_type": "code",
   "execution_count": 38,
   "metadata": {},
   "outputs": [],
   "source": [
    "import networkx as nx\n",
    "\n",
    "G = nx.DiGraph()\n",
    "G.add_edges_from(edges)"
   ]
  },
  {
   "cell_type": "markdown",
   "metadata": {},
   "source": [
    "#### Generate Node and Edge Information on Hover"
   ]
  },
  {
   "cell_type": "code",
   "execution_count": 39,
   "metadata": {},
   "outputs": [],
   "source": [
    "pos = nx.spring_layout(G)  # Node positions\n",
    "edge_x = []\n",
    "edge_y = []\n",
    "for edge in G.edges():\n",
    "    x0, y0 = pos[edge[0]]\n",
    "    x1, y1 = pos[edge[1]]\n",
    "    edge_x.extend([x0, x1, None])\n",
    "    edge_y.extend([y0, y1, None])\n",
    "\n",
    "node_x = [pos[node][0] for node in G.nodes()]\n",
    "node_y = [pos[node][1] for node in G.nodes()]\n",
    "node_adjacencies = []\n",
    "node_text = []\n",
    "for node in G.nodes():\n",
    "    adjacents = G.adj[node]\n",
    "    connections = [f\"{node} → {neighbor}\" for neighbor in adjacents]\n",
    "    node_adjacencies.append(len(adjacents))\n",
    "    node_text.append(\"Connections:<br>\" + \"<br>\".join(connections))"
   ]
  },
  {
   "cell_type": "markdown",
   "metadata": {},
   "source": [
    "#### Create Edge and Node Traces"
   ]
  },
  {
   "cell_type": "code",
   "execution_count": 40,
   "metadata": {},
   "outputs": [],
   "source": [
    "import plotly.graph_objects as go\n",
    "\n",
    "edge_trace = go.Scatter(\n",
    "    x=edge_x,\n",
    "    y=edge_y,\n",
    "    line=dict(width=0.5, color=\"#888\"),\n",
    "    hoverinfo=\"none\",\n",
    "    mode=\"lines\",\n",
    ")\n",
    "\n",
    "node_trace = go.Scatter(\n",
    "    x=node_x,\n",
    "    y=node_y,\n",
    "    mode=\"markers\",\n",
    "    hoverinfo=\"text\",\n",
    "    text=node_text,\n",
    "    marker=dict(\n",
    "        showscale=True,\n",
    "        colorscale=\"YlGnBu\",\n",
    "        reversescale=True,\n",
    "        color=node_adjacencies,\n",
    "        size=10,\n",
    "        colorbar=dict(\n",
    "            thickness=15,\n",
    "            title=\"Node Connections\",\n",
    "            xanchor=\"left\",\n",
    "            titleside=\"right\",\n",
    "        ),\n",
    "        line_width=1,\n",
    "    ),\n",
    ")"
   ]
  },
  {
   "cell_type": "markdown",
   "metadata": {},
   "source": [
    "#### Plot the Graph"
   ]
  },
  {
   "cell_type": "code",
   "execution_count": 41,
   "metadata": {},
   "outputs": [
    {
     "data": {
      "text/html": [
       "        <script type=\"text/javascript\">\n",
       "        window.PlotlyConfig = {MathJaxConfig: 'local'};\n",
       "        if (window.MathJax && window.MathJax.Hub && window.MathJax.Hub.Config) {window.MathJax.Hub.Config({SVG: {font: \"STIX-Web\"}});}\n",
       "        if (typeof require !== 'undefined') {\n",
       "        require.undef(\"plotly\");\n",
       "        requirejs.config({\n",
       "            paths: {\n",
       "                'plotly': ['https://cdn.plot.ly/plotly-2.31.1.min']\n",
       "            }\n",
       "        });\n",
       "        require(['plotly'], function(Plotly) {\n",
       "            window._Plotly = Plotly;\n",
       "        });\n",
       "        }\n",
       "        </script>\n",
       "        "
      ]
     },
     "metadata": {},
     "output_type": "display_data"
    },
    {
     "data": {
      "text/html": [
       "<div>                            <div id=\"5bfba630-16f2-441e-a876-0eb2a3f84312\" class=\"plotly-graph-div\" style=\"height:525px; width:100%;\"></div>            <script type=\"text/javascript\">                require([\"plotly\"], function(Plotly) {                    window.PLOTLYENV=window.PLOTLYENV || {};                                    if (document.getElementById(\"5bfba630-16f2-441e-a876-0eb2a3f84312\")) {                    Plotly.newPlot(                        \"5bfba630-16f2-441e-a876-0eb2a3f84312\",                        [{\"hoverinfo\":\"none\",\"line\":{\"color\":\"#888\",\"width\":0.5},\"mode\":\"lines\",\"x\":[0.3796953599227546,0.46260491847721974,null,-0.20625480871395707,-0.22829252746686846,null,0.24259069942288483,0.5377121499796187,null,0.24259069942288483,0.6894461316624867,null,0.24259069942288483,0.675340515411071,null,0.24259069942288483,0.2345999715374293,null,0.24259069942288483,-0.4437051165851095,null,0.5377121499796187,0.6894461316624867,null,0.675340515411071,0.6894461316624867,null,0.2345999715374293,0.24259069942288483,null,0.2345999715374293,0.6894461316624867,null,0.2345999715374293,0.675340515411071,null,0.2345999715374293,0.4929611483343495,null,0.2345999715374293,-0.4437051165851095,null,-0.7830614856822045,-0.7734980659122155,null,-0.7830614856822045,-0.9500199048154276,null,-0.1546354804725221,0.2978772774764821,null,-0.1546354804725221,-0.259269486196296,null,-0.1546354804725221,-0.22829252746686846,null,-0.1546354804725221,-0.2905658462267346,null,-0.1546354804725221,-0.24191159654832772,null,-0.1546354804725221,-0.1981542064957657,null,-0.15082703658539498,0.2978772774764821,null,-0.15082703658539498,-0.22829252746686846,null,-0.15082703658539498,-0.1546354804725221,null,-0.15082703658539498,-0.25978739451916294,null,-0.15082703658539498,-0.26935580606856896,null,-0.15082703658539498,-0.2905658462267346,null,-0.15082703658539498,-0.22457648643359282,null,-0.15082703658539498,-0.24191159654832772,null,-0.15082703658539498,-0.1981542064957657,null,-0.15082703658539498,-0.10309485052009235,null,-0.15082703658539498,-0.10151422102700074,null,-0.15082703658539498,-0.22260215400561545,null,-0.15082703658539498,-0.0657138037759093,null,-0.15082703658539498,-0.18146830025525698,null,-0.15082703658539498,-0.23433808980505597,null,-0.15082703658539498,-0.000530113763661801,null,-0.15082703658539498,-0.18544177756978877,null,0.16808696818981675,0.2978772774764821,null,0.4800333675042765,0.6894461316624867,null,-0.8361577556569119,-1.0,null,-0.8266855107457469,-1.0,null,-0.15477031744161024,-1.0,null,-0.15477031744161024,0.6894461316624867,null,-0.9183964655643587,-0.9821758093841874,null,-0.26935580606856896,-0.5383210490503638,null,-0.26935580606856896,-0.22829252746686846,null,-0.26935580606856896,-0.15082703658539498,null,-0.26935580606856896,-0.25978739451916294,null,-0.26935580606856896,-0.2905658462267346,null,-0.26935580606856896,-0.1981542064957657,null,-0.26935580606856896,-0.10619725652227374,null,-0.26935580606856896,-0.0657138037759093,null,0.2345262795501722,0.6894461316624867,null,0.2345262795501722,0.675340515411071,null,0.2345262795501722,0.4929611483343495,null,0.2345262795501722,0.2345999715374293,null,0.2345262795501722,-0.4437051165851095,null,0.4929611483343495,0.6894461316624867,null,0.6543817615255487,0.6894461316624867,null,-0.259269486196296,-0.2905658462267346,null,-0.25978739451916294,-0.22829252746686846,null,-0.25978739451916294,-0.2905658462267346,null,0.4599118979982563,0.46260491847721974,null,-0.70364104238861,-0.7890439723657455,null,0.4071769059031358,0.46260491847721974,null,0.25103513467179916,0.6894461316624867,null,0.25103513467179916,0.675340515411071,null,0.25103513467179916,0.2345999715374293,null,0.25103513467179916,-0.4437051165851095,null,0.25103513467179916,0.46231316130272665,null,0.25103513467179916,0.46886694966275905,null,0.25103513467179916,0.392282962818985,null,0.4621814923983983,0.5377121499796187,null,0.4621814923983983,0.675340515411071,null,0.4621814923983983,0.2345999715374293,null,0.4621814923983983,0.46886694966275905,null,0.28004012332741257,0.5377121499796187,null,0.28004012332741257,0.6894461316624867,null,0.28004012332741257,0.675340515411071,null,0.28004012332741257,0.2345999715374293,null,0.28004012332741257,0.5207191947420047,null,0.28004012332741257,-0.4437051165851095,null,0.28004012332741257,0.46231316130272665,null,0.28004012332741257,0.46886694966275905,null,0.28004012332741257,0.392282962818985,null,0.273573238712103,0.24259069942288483,null,0.273573238712103,0.6894461316624867,null,0.273573238712103,0.675340515411071,null,0.273573238712103,0.4929611483343495,null,0.273573238712103,0.4621814923983983,null,0.273573238712103,0.46231112897276033,null,0.273573238712103,-0.4437051165851095,null,0.273573238712103,0.5034958338058323,null,0.273573238712103,0.3796295368264688,null,0.2943374089894344,0.5377121499796187,null,0.2943374089894344,0.6894461316624867,null,0.2943374089894344,0.675340515411071,null,0.2943374089894344,0.4929611483343495,null,0.2943374089894344,0.5207191947420047,null,0.2943374089894344,0.5279381654663087,null,0.2943374089894344,-0.4437051165851095,null,0.2943374089894344,0.5034958338058323,null,0.2943374089894344,0.3779623797962185,null,0.2510348964525768,0.6894461316624867,null,0.2510348964525768,0.675340515411071,null,0.2510348964525768,0.2345999715374293,null,0.2510348964525768,-0.4437051165851095,null,0.2510348964525768,0.46231316130272665,null,0.2510348964525768,0.46886694966275905,null,0.2510348964525768,0.392282962818985,null,0.4331194564084451,0.24259069942288483,null,0.4331194564084451,0.5377121499796187,null,0.4331194564084451,0.675340515411071,null,0.4331194564084451,0.2345999715374293,null,0.4331194564084451,0.46231112897276033,null,0.4331194564084451,0.2943374089894344,null,0.4331194564084451,0.5279381654663087,null,0.4331194564084451,0.46886694966275905,null,0.4331194564084451,0.5656224984345601,null,0.4279352382986387,0.24259069942288483,null,0.4279352382986387,0.5377121499796187,null,0.4279352382986387,0.6894461316624867,null,0.4279352382986387,0.2345999715374293,null,0.4279352382986387,0.4621814923983983,null,0.4279352382986387,0.2943374089894344,null,0.4279352382986387,0.5207191947420047,null,0.4279352382986387,0.46231316130272665,null,0.4279352382986387,0.5045022228735316,null,0.2497794955133505,0.24259069942288483,null,0.2497794955133505,0.6894461316624867,null,0.2497794955133505,0.675340515411071,null,0.2497794955133505,0.4621814923983983,null,0.2497794955133505,0.46231112897276033,null,0.2497794955133505,-0.4437051165851095,null,0.2497794955133505,0.3796295368264688,null,0.46231112897276033,0.6894461316624867,null,0.46231112897276033,0.2345999715374293,null,0.46231112897276033,0.46231316130272665,null,0.46231316130272665,0.24259069942288483,null,0.46231316130272665,0.5377121499796187,null,0.46231316130272665,0.675340515411071,null,0.46231316130272665,0.4929611483343495,null,0.46231316130272665,0.46231112897276033,null,0.46886694966275905,0.24259069942288483,null,0.46886694966275905,0.5377121499796187,null,0.46886694966275905,0.6894461316624867,null,0.46886694966275905,0.4621814923983983,null,0.46886694966275905,0.5207191947420047,null,0.6082431546052566,0.6894461316624867,null,0.569468242406197,0.675340515411071,null,-0.5777290569061713,-0.8662327379492657,null,-0.5777290569061713,-0.2905658462267346,null,-0.6434807930732764,-1.0,null,-0.6434807930732764,-0.2905658462267346,null,-0.8931015831245938,-1.0,null,-0.8931015831245938,-0.8662327379492657,null,-0.2436207924583454,0.46260491847721974,null,-0.2436207924583454,-0.9500199048154276,null,-0.16036409034137614,-0.7830614856822045,null,-0.16036409034137614,0.46260491847721974,null,-0.24330377663082098,0.46260491847721974,null,-0.24330377663082098,-0.9500199048154276,null,-0.8599416846685785,-0.7734980659122155,null,-0.8599416846685785,-0.9500199048154276,null,-0.15503541529715456,-0.7734980659122155,null,-0.15503541529715456,0.46260491847721974,null,-0.6611911675030994,-0.7830614856822045,null,-0.25320836788738793,-0.22829252746686846,null,-0.3584353115842306,-0.22829252746686846,null,-0.3584353115842306,-0.1546354804725221,null,-0.3584353115842306,-0.7734980659122155,null,-0.3584353115842306,-0.2905658462267346,null,-0.3584353115842306,-0.10151422102700074,null,-0.2303150937242659,0.2978772774764821,null,-0.2303150937242659,-0.7734980659122155,null,-0.2303150937242659,-0.2905658462267346,null,-0.22457648643359282,-0.259269486196296,null,-0.22457648643359282,-0.22829252746686846,null,-0.22457648643359282,-0.25978739451916294,null,-0.22457648643359282,-0.2905658462267346,null,-0.22457648643359282,-0.1981542064957657,null,-0.22457648643359282,-0.0657138037759093,null,-0.08691156119865194,0.2978772774764821,null,-0.08691156119865194,-0.2905658462267346,null,-0.08691156119865194,-0.24191159654832772,null,-0.0851256541487235,0.2978772774764821,null,-0.0851256541487235,-0.22829252746686846,null,-0.0851256541487235,-0.2905658462267346,null,-0.21812598678964898,0.2978772774764821,null,-0.21812598678964898,-0.22829252746686846,null,-0.21812598678964898,-0.1546354804725221,null,-0.21812598678964898,-0.7734980659122155,null,-0.08664829811224953,0.2978772774764821,null,-0.08664829811224953,-0.2905658462267346,null,-0.08664829811224953,-0.24191159654832772,null,-0.23410044335327898,-0.22829252746686846,null,-0.23410044335327898,-0.1546354804725221,null,-0.23410044335327898,-0.2905658462267346,null,-0.23410044335327898,-0.1981542064957657,null,-0.23410044335327898,-0.10151422102700074,null,0.0033170628333701537,0.2978772774764821,null,0.0033170628333701537,-0.2905658462267346,null,-0.25784957086193466,-0.2905658462267346,null,-0.24191159654832772,-0.22829252746686846,null,-0.19494195840241363,-0.1546354804725221,null,-0.19494195840241363,-0.2905658462267346,null,-0.19494195840241363,-0.10151422102700074,null,-0.10229544914095968,0.2978772774764821,null,-0.10229544914095968,-0.26935580606856896,null,-0.10229544914095968,-0.2905658462267346,null,-0.10229544914095968,-0.24191159654832772,null,-0.10229544914095968,-0.18146830025525698,null,-0.10205134686613794,0.2978772774764821,null,-0.10205134686613794,-0.26935580606856896,null,-0.10205134686613794,-0.2905658462267346,null,-0.10205134686613794,-0.24191159654832772,null,-0.10205134686613794,-0.18146830025525698,null,-0.19634696657926307,-0.1546354804725221,null,-0.19634696657926307,-0.2905658462267346,null,-0.19634696657926307,-0.10151422102700074,null,-0.10309485052009235,0.2978772774764821,null,-0.10309485052009235,-0.15082703658539498,null,-0.10309485052009235,-0.25978739451916294,null,-0.10309485052009235,-0.2905658462267346,null,-0.10309485052009235,-0.24191159654832772,null,-0.10309485052009235,-0.10619725652227374,null,-0.10309485052009235,-0.0657138037759093,null,-0.10151422102700074,0.2978772774764821,null,-0.10151422102700074,-0.22829252746686846,null,-0.10151422102700074,-0.15082703658539498,null,-0.10151422102700074,-0.25978739451916294,null,-0.10151422102700074,-0.26935580606856896,null,-0.10151422102700074,-0.25784957086193466,null,-0.10619725652227374,0.2978772774764821,null,-0.10619725652227374,-0.22829252746686846,null,-0.10619725652227374,-0.1546354804725221,null,-0.10619725652227374,-0.25978739451916294,null,-0.10619725652227374,-0.26935580606856896,null,-0.10619725652227374,-0.22457648643359282,null,-0.10619725652227374,-0.10309485052009235,null,-0.10619725652227374,-0.22260215400561545,null,-0.0657138037759093,0.2978772774764821,null,-0.0657138037759093,-0.22829252746686846,null,-0.0657138037759093,-0.1546354804725221,null,-0.0657138037759093,-0.26935580606856896,null,-0.18146830025525698,0.2978772774764821,null,-0.18146830025525698,-0.5383210490503638,null,-0.18146830025525698,-0.22829252746686846,null,-0.18146830025525698,-0.1546354804725221,null,-0.18146830025525698,-0.15082703658539498,null,-0.18146830025525698,-0.25978739451916294,null,-0.18146830025525698,-0.10229544914095968,null,-0.8379079505302705,-1.0,null,-0.877207526008521,-1.0,null,-0.5306282978918547,-1.0,null,-0.5306282978918547,-0.2905658462267346,null,-0.5306282978918547,-0.2539288446056971,null,0.03373615630989996,0.35915234013075814,null,0.03373615630989996,-0.2905658462267346,null,-0.7930316671312323,-1.0,null,-0.7930316671312323,-0.8662327379492657,null,-0.2539288446056971,0.35915234013075814,null,-0.2539288446056971,-0.8662327379492657,null,-0.32034859617514666,0.35915234013075814,null,-0.32034859617514666,-1.0,null,0.5646028231666036,0.6894461316624867,null,0.5132812113314411,0.6894461316624867,null,0.6477039962748712,0.6894461316624867,null,0.6230363569338521,0.6894461316624867,null,0.5052371416157473,0.6894461316624867,null,0.5693627444605052,0.6894461316624867,null,0.5693627444605052,0.4929611483343495,null,0.45756048528055826,0.5377121499796187,null,0.45756048528055826,0.6894461316624867,null,0.45756048528055826,0.4929611483343495,null,0.45756048528055826,0.21790228856354218,null,0.5198897030028716,0.5377121499796187,null,0.5198897030028716,0.6894461316624867,null,0.5198897030028716,0.675340515411071,null,-0.0063027952940479855,0.0045344934079472885,null,0.21439293452869237,0.6894461316624867,null,0.21439293452869237,0.675340515411071,null,0.21439293452869237,-0.4437051165851095,null,0.47490722250212397,0.6894461316624867,null,0.47490722250212397,0.4929611483343495,null,0.41298980874399494,0.5377121499796187,null,0.4390084675603945,0.6894461316624867,null,0.45672387637263906,0.5377121499796187,null,0.5279381654663087,0.6894461316624867,null,0.5279381654663087,0.4929611483343495,null,0.5207191947420047,0.675340515411071,null,0.5207191947420047,0.4929611483343495,null,0.21790228856354218,0.6894461316624867,null,0.21790228856354218,0.675340515411071,null,0.21790228856354218,-0.4437051165851095,null,0.5034958338058323,0.5377121499796187,null,0.5034958338058323,0.675340515411071,null,0.5836831030008516,0.5377121499796187,null,0.5836831030008516,0.6894461316624867,null,0.24268761506926717,0.5377121499796187,null,0.24268761506926717,0.6894461316624867,null,0.24268761506926717,0.675340515411071,null,0.24268761506926717,-0.4437051165851095,null,-0.47658051637691845,-1.0,null,-0.47658051637691845,0.03493369107017559,null,-0.47658051637691845,-0.3690343436919984,null,0.23517036958480297,0.2439283265299101,null,-0.529235355039685,-1.0,null,-0.529235355039685,0.03493369107017559,null,-0.529235355039685,-0.7734980659122155,null,-0.9714772855897098,-1.0,null,-0.3690343436919984,0.2439283265299101,null,-0.3690343436919984,-0.9821758093841874,null,0.032279102496692996,0.03493369107017559,null,-0.7542804135921748,-1.0,null,-0.7542804135921748,-0.9821758093841874,null,-0.7542804135921748,-0.7073690984045204,null,-0.9820581849911485,-1.0,null,-0.7876993548406509,-1.0,null,-0.7876993548406509,-0.7734980659122155,null,-0.37820020570274065,0.2439283265299101,null,-0.37820020570274065,-1.0,null,0.1443209217130978,0.2439283265299101,null,0.1968312903606489,0.2439283265299101,null,-0.9542825066295597,-1.0,null,-0.6458434563255581,-1.0,null,-0.6458434563255581,-0.2905658462267346,null,-0.0037153709996396397,0.0045344934079472885,null,-0.017478799013537976,0.0045344934079472885,null,0.4432535223318768,0.6894461316624867,null,0.4432535223318768,0.46260491847721974,null,-0.44659651823744906,-0.5383210490503638,null,-0.06312468911220352,-0.06805859279965185,null,-0.3833976497573753,-0.5383210490503638,null,-0.3833976497573753,-0.22829252746686846,null,-0.4169266961733457,-0.5383210490503638,null,-0.4883040020935632,-0.5383210490503638,null,-0.4359827285504821,-0.5383210490503638,null,-0.47247817700664035,-0.5383210490503638,null,-0.2496310304411388,-0.2905658462267346,null,0.3272435887995347,0.46260491847721974,null,0.5857433097315582,0.6894461316624867,null,0.38818900713215737,0.46260491847721974,null,0.4363848884813203,0.46260491847721974,null,0.3487030048724149,0.46260491847721974,null,0.4463987627690439,0.6894461316624867,null,0.5801182689409976,0.6894461316624867,null,0.4403657719482205,0.6894461316624867,null,0.5922541219219175,0.6894461316624867,null,-0.313403435524122,-0.2905658462267346,null,-0.24516378278705067,-0.2905658462267346,null,-0.1899225597305853,-0.25978739451916294,null,-0.1899225597305853,-0.2905658462267346,null,-0.1899225597305853,-0.0657138037759093,null,-0.22260215400561545,-0.22829252746686846,null,-0.22260215400561545,-0.1546354804725221,null,-0.22260215400561545,-0.15082703658539498,null,-0.22260215400561545,-0.2905658462267346,null,-0.22260215400561545,-0.1981542064957657,null,-0.22260215400561545,-0.10151422102700074,null,-0.22260215400561545,-0.10619725652227374,null,0.27045570194218616,0.46260491847721974,null,-0.2732893565893083,-0.2905658462267346,null,-0.17658054749030344,-0.1546354804725221,null,-0.17658054749030344,-0.25978739451916294,null,-0.17658054749030344,-0.2905658462267346,null,-0.17658054749030344,-0.10151422102700074,null,-0.17658054749030344,-0.0657138037759093,null,-0.2497128024662342,-0.26935580606856896,null,-0.2497128024662342,-0.2905658462267346,null,-0.2497128024662342,-0.18146830025525698,null,0.46100038189841247,0.6894461316624867,null,0.46100038189841247,0.2345999715374293,null,0.46100038189841247,0.46231316130272665,null,0.45200792331769896,0.675340515411071,null,0.45200792331769896,0.4929611483343495,null,0.45200792331769896,0.2345999715374293,null,0.45200792331769896,0.46886694966275905,null,0.3796295368264688,0.5377121499796187,null,0.3796295368264688,0.2345999715374293,null,0.21437285678960402,0.6894461316624867,null,0.21437285678960402,0.675340515411071,null,0.21437285678960402,-0.4437051165851095,null,0.45923777787103703,0.5377121499796187,null,0.45923777787103703,0.675340515411071,null,0.45923777787103703,0.2345999715374293,null,0.45923777787103703,0.46886694966275905,null,0.21778686693136437,0.6894461316624867,null,0.21778686693136437,0.675340515411071,null,0.21778686693136437,-0.4437051165851095,null,0.4166014436000494,0.24259069942288483,null,0.4166014436000494,0.675340515411071,null,0.4166014436000494,0.4929611483343495,null,0.4166014436000494,0.46231112897276033,null,0.5045022228735316,0.5377121499796187,null,0.5045022228735316,0.675340515411071,null,0.5045022228735316,0.4929611483343495,null,0.5045022228735316,0.5279381654663087,null,0.46984292388547155,0.5377121499796187,null,0.46984292388547155,0.6894461316624867,null,0.46984292388547155,0.2345999715374293,null,0.46984292388547155,0.5207191947420047,null,0.46984292388547155,0.46231316130272665,null,0.45534484213059173,0.24259069942288483,null,0.45534484213059173,0.6894461316624867,null,0.45534484213059173,0.4621814923983983,null,0.5656224984345601,0.5377121499796187,null,0.5656224984345601,0.6894461316624867,null,0.5656224984345601,0.5207191947420047,null,0.46617950212085946,0.6894461316624867,null,0.46617950212085946,0.2345999715374293,null,0.46617950212085946,0.46231316130272665,null,0.3558705235814424,0.24259069942288483,null,0.3558705235814424,0.5377121499796187,null,0.3558705235814424,0.2345999715374293,null,0.3558705235814424,0.2943374089894344,null,0.44501096356552866,0.675340515411071,null,0.44501096356552866,0.2345999715374293,null,0.44501096356552866,0.46886694966275905,null,0.21456207557911386,0.6894461316624867,null,0.21456207557911386,0.675340515411071,null,0.21456207557911386,-0.4437051165851095,null,0.46068533713488574,0.24259069942288483,null,0.46068533713488574,0.675340515411071,null,0.46068533713488574,0.46231112897276033,null,0.4654648340181214,0.24259069942288483,null,0.4654648340181214,0.6894461316624867,null,0.4654648340181214,0.4621814923983983,null,0.38507370479523695,0.24259069942288483,null,0.38507370479523695,0.5377121499796187,null,0.392282962818985,0.24259069942288483,null,0.392282962818985,0.5377121499796187,null,0.21545834907417397,0.6894461316624867,null,0.21545834907417397,0.675340515411071,null,0.21545834907417397,-0.4437051165851095,null,0.468011517329686,0.24259069942288483,null,0.468011517329686,0.5377121499796187,null,0.468011517329686,0.675340515411071,null,0.4740751917069317,0.24259069942288483,null,0.4740751917069317,0.5377121499796187,null,0.4740751917069317,0.6894461316624867,null,0.4740751917069317,0.4621814923983983,null,0.4740751917069317,0.5207191947420047,null,0.37030193128930877,0.46260491847721974,null,-0.7821994247982469,-0.7830614856822045,null,-0.7631604439696904,-0.9500199048154276,null,0.38820213110379176,0.46260491847721974,null,-0.6668956110495615,-0.7830614856822045,null,-0.7610837891266298,-0.7734980659122155,null,-0.7995873074532088,-0.9500199048154276,null,-0.23433808980505597,-0.259269486196296,null,-0.23433808980505597,-0.22829252746686846,null,-0.23433808980505597,-0.15082703658539498,null,-0.23433808980505597,-0.25978739451916294,null,-0.23433808980505597,-0.26935580606856896,null,-0.2690044988818383,-0.2905658462267346,null,-0.17951512197623462,-0.1546354804725221,null,0.18775312537730768,0.2978772774764821,null,-0.26713913561358166,-0.2905658462267346,null,-0.1832311963912911,-0.1546354804725221,null,0.18876361233741193,0.2978772774764821,null,-0.25408201563501187,-0.2905658462267346,null,-0.21687877684595533,-0.22829252746686846,null,-0.25014125696242495,-0.2905658462267346,null,-0.19208545428638374,-0.22829252746686846,null,-0.19208545428638374,-0.1546354804725221,null,0.01191890915383227,0.2978772774764821,null,0.01191890915383227,-0.26935580606856896,null,-0.2706779649000562,-0.2905658462267346,null,-0.16479584417763923,-0.1546354804725221,null,0.01405123730379531,0.2978772774764821,null,0.01405123730379531,-0.26935580606856896,null,-0.2980962496892413,-0.2905658462267346,null,0.016088704438844068,0.2978772774764821,null,0.016088704438844068,-0.26935580606856896,null,-0.2958839694834415,-0.2905658462267346,null,-0.14982593104665223,-0.1546354804725221,null,-0.000530113763661801,0.2978772774764821,null,-0.000530113763661801,-0.15082703658539498,null,-0.000530113763661801,-0.25978739451916294,null,-0.28155168447055196,-0.2905658462267346,null,-0.7567070360237496,-0.8662327379492657,null,-0.8079424644644698,-1.0,null,0.3242629414245815,0.35915234013075814,null,0.44869309693204085,0.6894461316624867,null,0.44869309693204085,0.4929611483343495,null,0.5021316929131568,0.675340515411071,null,0.5021316929131568,0.4929611483343495,null,0.4300542956457836,0.5377121499796187,null,0.4300542956457836,0.4929611483343495,null,0.5194939790044946,0.6894461316624867,null,0.5194939790044946,0.675340515411071,null,0.5842315762251357,0.5377121499796187,null,0.5842315762251357,0.675340515411071,null,0.5047314245929561,0.5377121499796187,null,0.5047314245929561,0.6894461316624867,null,0.6607094157323934,0.6894461316624867,null,0.6432390631441303,0.675340515411071,null,0.5499809529606602,0.6894461316624867,null,0.4279618155224625,0.675340515411071,null,0.3779623797962185,0.4929611483343495,null,0.21547639547354872,0.6894461316624867,null,0.21547639547354872,0.675340515411071,null,0.21547639547354872,-0.4437051165851095,null,0.2106171913679043,0.2439283265299101,null,0.020507315323744044,0.03493369107017559,null,-0.888001134897063,-0.9821758093841874,null,-0.8756501812551154,-1.0,null,-0.28780877124913823,-0.2905658462267346,null,-0.6505457878176845,-0.8662327379492657,null,-0.9285016572678307,-1.0,null,-0.29319895499373466,-0.25978739451916294,null,-0.2634041557287847,-0.2905658462267346,null,-0.18544177756978877,-0.22829252746686846,null,-0.18544177756978877,-0.1546354804725221,null,-0.18544177756978877,-0.15082703658539498,null,-0.252765808947779,-0.2905658462267346,null,-0.20937941665860016,-0.1546354804725221,null,-0.20937941665860016,-0.25978739451916294,null,-0.26310971762609703,-0.2905658462267346,null,-0.29131047220504724,-0.2905658462267346,null,-0.30757347804129875,-0.26935580606856896,null,0.6753318139836879,0.6894461316624867,null,0.3827009952314916,0.5377121499796187,null,0.3827009952314916,0.2345999715374293,null,0.4471446725425049,0.675340515411071,null,0.5394101886518465,0.6894461316624867,null,0.405091047961925,0.5377121499796187,null,0.19337537376352026,0.24259069942288483,null,0.1991035306314346,0.2345999715374293,null,0.5171531032884992,0.675340515411071,null,0.7060825024765337,0.6894461316624867,null,0.19969639058666275,0.24259069942288483,null,0.18748128994021576,0.2345999715374293,null,0.5869872823362606,0.675340515411071,null,0.5032524063504604,0.6894461316624867,null,0.3897668157474237,0.24259069942288483,null,0.3897668157474237,0.5377121499796187,null,0.4253999921061489,0.675340515411071,null,0.49682752667093233,0.6894461316624867,null,0.44109919072949727,0.675340515411071,null],\"y\":[-0.39737895949798285,-0.506946982267532,null,0.6722981377961484,0.8427287995570388,null,-0.21868448159567028,0.02736473870255328,null,-0.21868448159567028,0.04066802623281522,null,-0.21868448159567028,0.07657299402229978,null,-0.21868448159567028,-0.21321672800368033,null,-0.21868448159567028,-0.6792496638146256,null,0.02736473870255328,0.04066802623281522,null,0.07657299402229978,0.04066802623281522,null,-0.21321672800368033,-0.21868448159567028,null,-0.21321672800368033,0.04066802623281522,null,-0.21321672800368033,0.07657299402229978,null,-0.21321672800368033,0.05025455769244097,null,-0.21321672800368033,-0.6792496638146256,null,0.1454988577940124,0.6450768565586493,null,0.1454988577940124,-0.3310783724665273,null,0.2575896099598767,0.8414784714732756,null,0.2575896099598767,-0.5703417899989304,null,0.2575896099598767,0.8427287995570388,null,0.2575896099598767,-0.6525230512396379,null,0.2575896099598767,0.8192341174182265,null,0.2575896099598767,0.9169534586963144,null,0.3429105482554068,0.8414784714732756,null,0.3429105482554068,0.8427287995570388,null,0.3429105482554068,0.2575896099598767,null,0.3429105482554068,0.09445202507587361,null,0.3429105482554068,0.14988339966638928,null,0.3429105482554068,-0.6525230512396379,null,0.3429105482554068,0.15801918773577414,null,0.3429105482554068,0.8192341174182265,null,0.3429105482554068,0.9169534586963144,null,0.3429105482554068,0.252005806318163,null,0.3429105482554068,0.2449526175749778,null,0.3429105482554068,0.2557369758085436,null,0.3429105482554068,0.5350232822100358,null,0.3429105482554068,0.21851033930794814,null,0.3429105482554068,0.14872244785363511,null,0.3429105482554068,0.45994673112946544,null,0.3429105482554068,0.5228276959641504,null,0.5787757743398381,0.8414784714732756,null,0.03431898132869517,0.04066802623281522,null,0.05750171824865973,0.056127957683152485,null,0.06582212655147397,0.056127957683152485,null,0.048158430587783234,0.056127957683152485,null,0.048158430587783234,0.04066802623281522,null,0.2841036789718385,0.31288655385385844,null,0.14988339966638928,-0.6855825611678814,null,0.14988339966638928,0.8427287995570388,null,0.14988339966638928,0.3429105482554068,null,0.14988339966638928,0.09445202507587361,null,0.14988339966638928,-0.6525230512396379,null,0.14988339966638928,0.9169534586963144,null,0.14988339966638928,0.4334850517249821,null,0.14988339966638928,0.5350232822100358,null,-0.21315327349605248,0.04066802623281522,null,-0.21315327349605248,0.07657299402229978,null,-0.21315327349605248,0.05025455769244097,null,-0.21315327349605248,-0.21321672800368033,null,-0.21315327349605248,-0.6792496638146256,null,0.05025455769244097,0.04066802623281522,null,0.03471923739924645,0.04066802623281522,null,-0.5703417899989304,-0.6525230512396379,null,0.09445202507587361,0.8427287995570388,null,0.09445202507587361,-0.6525230512396379,null,-0.47871029485976063,-0.506946982267532,null,-0.4257851595828651,-0.4856349780966466,null,-0.415244317931833,-0.506946982267532,null,-0.2125881539029211,0.04066802623281522,null,-0.2125881539029211,0.07657299402229978,null,-0.2125881539029211,-0.21321672800368033,null,-0.2125881539029211,-0.6792496638146256,null,-0.2125881539029211,-0.046191971819454836,null,-0.2125881539029211,-0.04374083125960913,null,-0.2125881539029211,-0.10125789895455194,null,-0.05846360771248639,0.02736473870255328,null,-0.05846360771248639,0.07657299402229978,null,-0.05846360771248639,-0.21321672800368033,null,-0.05846360771248639,-0.04374083125960913,null,-0.17438352475575186,0.02736473870255328,null,-0.17438352475575186,0.04066802623281522,null,-0.17438352475575186,0.07657299402229978,null,-0.17438352475575186,-0.21321672800368033,null,-0.17438352475575186,0.08951412735930063,null,-0.17438352475575186,-0.6792496638146256,null,-0.17438352475575186,-0.046191971819454836,null,-0.17438352475575186,-0.04374083125960913,null,-0.17438352475575186,-0.10125789895455194,null,-0.1775536564712114,-0.21868448159567028,null,-0.1775536564712114,0.04066802623281522,null,-0.1775536564712114,0.07657299402229978,null,-0.1775536564712114,0.05025455769244097,null,-0.1775536564712114,-0.05846360771248639,null,-0.1775536564712114,-0.08589755211020757,null,-0.1775536564712114,-0.6792496638146256,null,-0.1775536564712114,0.07600563555291792,null,-0.1775536564712114,-0.08965657128291217,null,-0.13496061234000775,0.02736473870255328,null,-0.13496061234000775,0.04066802623281522,null,-0.13496061234000775,0.07657299402229978,null,-0.13496061234000775,0.05025455769244097,null,-0.13496061234000775,0.08951412735930063,null,-0.13496061234000775,0.04117479079347178,null,-0.13496061234000775,-0.6792496638146256,null,-0.13496061234000775,0.07600563555291792,null,-0.13496061234000775,0.06782781271457433,null,-0.2125894341236971,0.04066802623281522,null,-0.2125894341236971,0.07657299402229978,null,-0.2125894341236971,-0.21321672800368033,null,-0.2125894341236971,-0.6792496638146256,null,-0.2125894341236971,-0.046191971819454836,null,-0.2125894341236971,-0.04374083125960913,null,-0.2125894341236971,-0.10125789895455194,null,-0.0633541724513401,-0.21868448159567028,null,-0.0633541724513401,0.02736473870255328,null,-0.0633541724513401,0.07657299402229978,null,-0.0633541724513401,-0.21321672800368033,null,-0.0633541724513401,-0.08589755211020757,null,-0.0633541724513401,-0.13496061234000775,null,-0.0633541724513401,0.04117479079347178,null,-0.0633541724513401,-0.04374083125960913,null,-0.0633541724513401,0.053750673158404545,null,-0.06054557339857361,-0.21868448159567028,null,-0.06054557339857361,0.02736473870255328,null,-0.06054557339857361,0.04066802623281522,null,-0.06054557339857361,-0.21321672800368033,null,-0.06054557339857361,-0.05846360771248639,null,-0.06054557339857361,-0.13496061234000775,null,-0.06054557339857361,0.08951412735930063,null,-0.06054557339857361,-0.046191971819454836,null,-0.06054557339857361,0.06664615085177722,null,-0.21824885662359694,-0.21868448159567028,null,-0.21824885662359694,0.04066802623281522,null,-0.21824885662359694,0.07657299402229978,null,-0.21824885662359694,-0.05846360771248639,null,-0.21824885662359694,-0.08589755211020757,null,-0.21824885662359694,-0.6792496638146256,null,-0.21824885662359694,-0.08965657128291217,null,-0.08589755211020757,0.04066802623281522,null,-0.08589755211020757,-0.21321672800368033,null,-0.08589755211020757,-0.046191971819454836,null,-0.046191971819454836,-0.21868448159567028,null,-0.046191971819454836,0.02736473870255328,null,-0.046191971819454836,0.07657299402229978,null,-0.046191971819454836,0.05025455769244097,null,-0.046191971819454836,-0.08589755211020757,null,-0.04374083125960913,-0.21868448159567028,null,-0.04374083125960913,0.02736473870255328,null,-0.04374083125960913,0.04066802623281522,null,-0.04374083125960913,-0.05846360771248639,null,-0.04374083125960913,0.08951412735930063,null,0.05010332270105573,0.04066802623281522,null,0.10179126317442996,0.07657299402229978,null,-0.5066950802444455,-0.36392018188403863,null,-0.5066950802444455,-0.6525230512396379,null,-0.29639008654742216,0.056127957683152485,null,-0.29639008654742216,-0.6525230512396379,null,-0.14242738577621453,0.056127957683152485,null,-0.14242738577621453,-0.36392018188403863,null,-0.4195089931812603,-0.506946982267532,null,-0.4195089931812603,-0.3310783724665273,null,-0.18042418227092336,0.1454988577940124,null,-0.18042418227092336,-0.506946982267532,null,-0.4168577742321573,-0.506946982267532,null,-0.4168577742321573,-0.3310783724665273,null,0.1569878555926525,0.6450768565586493,null,0.1569878555926525,-0.3310783724665273,null,0.0688995785396364,0.6450768565586493,null,0.0688995785396364,-0.506946982267532,null,0.13397366475690134,0.1454988577940124,null,0.8481894747134938,0.8427287995570388,null,0.19725345420001333,0.8427287995570388,null,0.19725345420001333,0.2575896099598767,null,0.19725345420001333,0.6450768565586493,null,0.19725345420001333,-0.6525230512396379,null,0.19725345420001333,0.2449526175749778,null,0.22884375768350024,0.8414784714732756,null,0.22884375768350024,0.6450768565586493,null,0.22884375768350024,-0.6525230512396379,null,0.15801918773577414,-0.5703417899989304,null,0.15801918773577414,0.8427287995570388,null,0.15801918773577414,0.09445202507587361,null,0.15801918773577414,-0.6525230512396379,null,0.15801918773577414,0.9169534586963144,null,0.15801918773577414,0.5350232822100358,null,0.22963155029720397,0.8414784714732756,null,0.22963155029720397,-0.6525230512396379,null,0.22963155029720397,0.8192341174182265,null,0.23718069039634201,0.8414784714732756,null,0.23718069039634201,0.8427287995570388,null,0.23718069039634201,-0.6525230512396379,null,0.6420340927639412,0.8414784714732756,null,0.6420340927639412,0.8427287995570388,null,0.6420340927639412,0.2575896099598767,null,0.6420340927639412,0.6450768565586493,null,0.2298387087081729,0.8414784714732756,null,0.2298387087081729,-0.6525230512396379,null,0.2298387087081729,0.8192341174182265,null,0.2456966290749839,0.8427287995570388,null,0.2456966290749839,0.2575896099598767,null,0.2456966290749839,-0.6525230512396379,null,0.2456966290749839,0.9169534586963144,null,0.2456966290749839,0.2449526175749778,null,0.09359938462431101,0.8414784714732756,null,0.09359938462431101,-0.6525230512396379,null,-0.6169818602842645,-0.6525230512396379,null,0.8192341174182265,0.8427287995570388,null,-0.121981564527273,0.2575896099598767,null,-0.121981564527273,-0.6525230512396379,null,-0.121981564527273,0.2449526175749778,null,0.2280741771052642,0.8414784714732756,null,0.2280741771052642,0.14988339966638928,null,0.2280741771052642,-0.6525230512396379,null,0.2280741771052642,0.8192341174182265,null,0.2280741771052642,0.21851033930794814,null,0.2280451192362652,0.8414784714732756,null,0.2280451192362652,0.14988339966638928,null,0.2280451192362652,-0.6525230512396379,null,0.2280451192362652,0.8192341174182265,null,0.2280451192362652,0.21851033930794814,null,-0.12193368441277663,0.2575896099598767,null,-0.12193368441277663,-0.6525230512396379,null,-0.12193368441277663,0.2449526175749778,null,0.252005806318163,0.8414784714732756,null,0.252005806318163,0.3429105482554068,null,0.252005806318163,0.09445202507587361,null,0.252005806318163,-0.6525230512396379,null,0.252005806318163,0.8192341174182265,null,0.252005806318163,0.4334850517249821,null,0.252005806318163,0.5350232822100358,null,0.2449526175749778,0.8414784714732756,null,0.2449526175749778,0.8427287995570388,null,0.2449526175749778,0.3429105482554068,null,0.2449526175749778,0.09445202507587361,null,0.2449526175749778,0.14988339966638928,null,0.2449526175749778,-0.6169818602842645,null,0.4334850517249821,0.8414784714732756,null,0.4334850517249821,0.8427287995570388,null,0.4334850517249821,0.2575896099598767,null,0.4334850517249821,0.09445202507587361,null,0.4334850517249821,0.14988339966638928,null,0.4334850517249821,0.15801918773577414,null,0.4334850517249821,0.252005806318163,null,0.4334850517249821,0.2557369758085436,null,0.5350232822100358,0.8414784714732756,null,0.5350232822100358,0.8427287995570388,null,0.5350232822100358,0.2575896099598767,null,0.5350232822100358,0.14988339966638928,null,0.21851033930794814,0.8414784714732756,null,0.21851033930794814,-0.6855825611678814,null,0.21851033930794814,0.8427287995570388,null,0.21851033930794814,0.2575896099598767,null,0.21851033930794814,0.3429105482554068,null,0.21851033930794814,0.09445202507587361,null,0.21851033930794814,0.2280741771052642,null,0.07020520604342864,0.056127957683152485,null,0.057124021829004994,0.056127957683152485,null,-0.17315981905607916,0.056127957683152485,null,-0.17315981905607916,-0.6525230512396379,null,-0.17315981905607916,0.14775447841036318,null,0.0033249615561064417,0.6601515729868292,null,0.0033249615561064417,-0.6525230512396379,null,-0.11386959472699631,0.056127957683152485,null,-0.11386959472699631,-0.36392018188403863,null,0.14775447841036318,0.6601515729868292,null,0.14775447841036318,-0.36392018188403863,null,0.35836286258576133,0.6601515729868292,null,0.35836286258576133,0.056127957683152485,null,0.05953770822906667,0.04066802623281522,null,0.05557201044562612,0.04066802623281522,null,0.05888274989589451,0.04066802623281522,null,0.030450649306317197,0.04066802623281522,null,0.05688128598009623,0.04066802623281522,null,0.044556884525249835,0.04066802623281522,null,0.044556884525249835,0.05025455769244097,null,-0.06947555235076348,0.02736473870255328,null,-0.06947555235076348,0.04066802623281522,null,-0.06947555235076348,0.05025455769244097,null,-0.06947555235076348,-0.25014339024113863,null,0.05519080406852226,0.02736473870255328,null,0.05519080406852226,0.04066802623281522,null,0.05519080406852226,0.07657299402229978,null,-0.6679698667895715,-0.7381794045063104,null,-0.24479042010223365,0.04066802623281522,null,-0.24479042010223365,0.07657299402229978,null,-0.24479042010223365,-0.6792496638146256,null,0.04427174268146413,0.04066802623281522,null,0.04427174268146413,0.05025455769244097,null,0.02379612039971638,0.02736473870255328,null,0.05509873771585175,0.04066802623281522,null,0.023529645486966778,0.02736473870255328,null,0.04117479079347178,0.04066802623281522,null,0.04117479079347178,0.05025455769244097,null,0.08951412735930063,0.07657299402229978,null,0.08951412735930063,0.05025455769244097,null,-0.25014339024113863,0.04066802623281522,null,-0.25014339024113863,0.07657299402229978,null,-0.25014339024113863,-0.6792496638146256,null,0.07600563555291792,0.02736473870255328,null,0.07600563555291792,0.07657299402229978,null,0.02144969033506875,0.02736473870255328,null,0.02144969033506875,0.04066802623281522,null,-0.2188717901308359,0.02736473870255328,null,-0.2188717901308359,0.04066802623281522,null,-0.2188717901308359,0.07657299402229978,null,-0.2188717901308359,-0.6792496638146256,null,0.4422408361254782,0.056127957683152485,null,0.4422408361254782,0.8117730899282347,null,0.4422408361254782,0.5590660881487156,null,0.7727185010383851,0.8064557632239384,null,0.47869063576345783,0.056127957683152485,null,0.47869063576345783,0.8117730899282347,null,0.47869063576345783,0.6450768565586493,null,0.04818592887041659,0.056127957683152485,null,0.5590660881487156,0.8064557632239384,null,0.5590660881487156,0.31288655385385844,null,0.7661702881617531,0.8117730899282347,null,-0.0600909691472265,0.056127957683152485,null,-0.0600909691472265,0.31288655385385844,null,-0.0600909691472265,-0.5272526999186475,null,0.07817006541510253,0.056127957683152485,null,0.31811099462926384,0.056127957683152485,null,0.31811099462926384,0.6450768565586493,null,0.4310879273646675,0.8064557632239384,null,0.4310879273646675,0.056127957683152485,null,0.5689515735650579,0.8064557632239384,null,0.6615128596006935,0.8064557632239384,null,0.06391352350554041,0.056127957683152485,null,-0.2987443540697145,0.056127957683152485,null,-0.2987443540697145,-0.6525230512396379,null,-0.6537372313466475,-0.7381794045063104,null,-0.5797627482306884,-0.7381794045063104,null,-0.17230007984186302,0.04066802623281522,null,-0.17230007984186302,-0.506946982267532,null,-0.5461331760804016,-0.6855825611678814,null,0.7210314190376386,0.9049120207254826,null,0.07876029940890766,-0.6855825611678814,null,0.07876029940890766,0.8427287995570388,null,-0.491428913964832,-0.6855825611678814,null,-0.6173468357399954,-0.6855825611678814,null,-0.5421369995794777,-0.6855825611678814,null,-0.5916409554321221,-0.6855825611678814,null,-0.5333165487312598,-0.6525230512396379,null,-0.3344115828994651,-0.506946982267532,null,0.04283135758480144,0.04066802623281522,null,-0.4060972803350838,-0.506946982267532,null,-0.4704292136799417,-0.506946982267532,null,-0.3487251759062905,-0.506946982267532,null,0.04440508402892823,0.04066802623281522,null,0.030485160144115855,0.04066802623281522,null,0.03289934095874859,0.04066802623281522,null,0.03068252520957899,0.04066802623281522,null,-0.6680566107433422,-0.6525230512396379,null,-0.48330471206169107,-0.6525230512396379,null,-0.04823644640090536,0.09445202507587361,null,-0.04823644640090536,-0.6525230512396379,null,-0.04823644640090536,0.5350232822100358,null,0.2557369758085436,0.8427287995570388,null,0.2557369758085436,0.2575896099598767,null,0.2557369758085436,0.3429105482554068,null,0.2557369758085436,-0.6525230512396379,null,0.2557369758085436,0.9169534586963144,null,0.2557369758085436,0.2449526175749778,null,0.2557369758085436,0.4334850517249821,null,-0.27492719201189814,-0.506946982267532,null,-0.6041296925791615,-0.6525230512396379,null,0.0003953258586022309,0.2575896099598767,null,0.0003953258586022309,0.09445202507587361,null,0.0003953258586022309,-0.6525230512396379,null,0.0003953258586022309,0.2449526175749778,null,0.0003953258586022309,0.5350232822100358,null,-0.16021381099617812,0.14988339966638928,null,-0.16021381099617812,-0.6525230512396379,null,-0.16021381099617812,0.21851033930794814,null,-0.09033606744879497,0.04066802623281522,null,-0.09033606744879497,-0.21321672800368033,null,-0.09033606744879497,-0.046191971819454836,null,-0.04980864349963314,0.07657299402229978,null,-0.04980864349963314,0.05025455769244097,null,-0.04980864349963314,-0.21321672800368033,null,-0.04980864349963314,-0.04374083125960913,null,-0.08965657128291217,0.02736473870255328,null,-0.08965657128291217,-0.21321672800368033,null,-0.2447673041104246,0.04066802623281522,null,-0.2447673041104246,0.07657299402229978,null,-0.2447673041104246,-0.6792496638146256,null,-0.05543654712042737,0.02736473870255328,null,-0.05543654712042737,0.07657299402229978,null,-0.05543654712042737,-0.21321672800368033,null,-0.05543654712042737,-0.04374083125960913,null,-0.2480281437900567,0.04066802623281522,null,-0.2480281437900567,0.07657299402229978,null,-0.2480281437900567,-0.6792496638146256,null,-0.03412335177487054,-0.21868448159567028,null,-0.03412335177487054,0.07657299402229978,null,-0.03412335177487054,0.05025455769244097,null,-0.03412335177487054,-0.08589755211020757,null,0.06664615085177722,0.02736473870255328,null,0.06664615085177722,0.07657299402229978,null,0.06664615085177722,0.05025455769244097,null,0.06664615085177722,0.04117479079347178,null,-0.047380470282877174,0.02736473870255328,null,-0.047380470282877174,0.04066802623281522,null,-0.047380470282877174,-0.21321672800368033,null,-0.047380470282877174,0.08951412735930063,null,-0.047380470282877174,-0.046191971819454836,null,-0.0842147234524703,-0.21868448159567028,null,-0.0842147234524703,0.04066802623281522,null,-0.0842147234524703,-0.05846360771248639,null,0.053750673158404545,0.02736473870255328,null,0.053750673158404545,0.04066802623281522,null,0.053750673158404545,0.08951412735930063,null,-0.09312627128970755,0.04066802623281522,null,-0.09312627128970755,-0.21321672800368033,null,-0.09312627128970755,-0.046191971819454836,null,-0.11551643612633307,-0.21868448159567028,null,-0.11551643612633307,0.02736473870255328,null,-0.11551643612633307,-0.21321672800368033,null,-0.11551643612633307,-0.13496061234000775,null,-0.06202740649353532,0.07657299402229978,null,-0.06202740649353532,-0.21321672800368033,null,-0.06202740649353532,-0.04374083125960913,null,-0.24479516521543615,0.04066802623281522,null,-0.24479516521543615,0.07657299402229978,null,-0.24479516521543615,-0.6792496638146256,null,-0.07428392671995128,-0.21868448159567028,null,-0.07428392671995128,0.07657299402229978,null,-0.07428392671995128,-0.08589755211020757,null,-0.08894838289838738,-0.21868448159567028,null,-0.08894838289838738,0.04066802623281522,null,-0.08894838289838738,-0.05846360771248639,null,-0.09085333026174855,-0.21868448159567028,null,-0.09085333026174855,0.02736473870255328,null,-0.10125789895455194,-0.21868448159567028,null,-0.10125789895455194,0.02736473870255328,null,-0.24832434384339788,0.04066802623281522,null,-0.24832434384339788,0.07657299402229978,null,-0.24832434384339788,-0.6792496638146256,null,-0.06167749164407179,-0.21868448159567028,null,-0.06167749164407179,0.02736473870255328,null,-0.06167749164407179,0.07657299402229978,null,-0.04920265682701007,-0.21868448159567028,null,-0.04920265682701007,0.02736473870255328,null,-0.04920265682701007,0.04066802623281522,null,-0.04920265682701007,-0.05846360771248639,null,-0.04920265682701007,0.08951412735930063,null,-0.3812165641148253,-0.506946982267532,null,0.1715954807402165,0.1454988577940124,null,-0.25599114734587414,-0.3310783724665273,null,-0.3896202267257437,-0.506946982267532,null,0.12610930541506185,0.1454988577940124,null,0.6637968204716768,0.6450768565586493,null,-0.2653804585386077,-0.3310783724665273,null,0.14872244785363511,-0.5703417899989304,null,0.14872244785363511,0.8427287995570388,null,0.14872244785363511,0.3429105482554068,null,0.14872244785363511,0.09445202507587361,null,0.14872244785363511,0.14988339966638928,null,-0.5622236384589039,-0.6525230512396379,null,0.2913955379513904,0.2575896099598767,null,0.6208521950148775,0.8414784714732756,null,-0.5313479417407182,-0.6525230512396379,null,0.27595827759623537,0.2575896099598767,null,0.6044509666345869,0.8414784714732756,null,-0.590375089776873,-0.6525230512396379,null,0.7459497787808291,0.8427287995570388,null,-0.565317316624261,-0.6525230512396379,null,0.5492018169999822,0.8427287995570388,null,0.5492018169999822,0.2575896099598767,null,0.49603094804139763,0.8414784714732756,null,0.49603094804139763,0.14988339966638928,null,-0.5818649197946324,-0.6525230512396379,null,0.29637267628373104,0.2575896099598767,null,0.49664480274324463,0.8414784714732756,null,0.49664480274324463,0.14988339966638928,null,-0.6019544868396172,-0.6525230512396379,null,0.49354502855959836,0.8414784714732756,null,0.49354502855959836,0.14988339966638928,null,-0.6172261137623162,-0.6525230512396379,null,0.29147589598164075,0.2575896099598767,null,0.45994673112946544,0.8414784714732756,null,0.45994673112946544,0.3429105482554068,null,0.45994673112946544,0.09445202507587361,null,-0.5634782471404745,-0.6525230512396379,null,-0.30910605904700184,-0.36392018188403863,null,0.06963429548959403,0.056127957683152485,null,0.6076460601618814,0.6601515729868292,null,0.05237300752080559,0.04066802623281522,null,0.05237300752080559,0.05025455769244097,null,0.0897072346865345,0.07657299402229978,null,0.0897072346865345,0.05025455769244097,null,0.04199122143854287,0.02736473870255328,null,0.04199122143854287,0.05025455769244097,null,0.06513946457125969,0.04066802623281522,null,0.06513946457125969,0.07657299402229978,null,0.06859431899575139,0.02736473870255328,null,0.06859431899575139,0.07657299402229978,null,0.03683022686368765,0.02736473870255328,null,0.03683022686368765,0.04066802623281522,null,0.013941222987697791,0.04066802623281522,null,0.11347475540956888,0.07657299402229978,null,0.0502913464659683,0.04066802623281522,null,0.09720330911344816,0.07657299402229978,null,0.06782781271457433,0.05025455769244097,null,-0.2483178905056719,0.04066802623281522,null,-0.2483178905056719,0.07657299402229978,null,-0.2483178905056719,-0.6792496638146256,null,0.7016203350828091,0.8064557632239384,null,0.671899721198333,0.8117730899282347,null,0.2716827425682224,0.31288655385385844,null,0.06702145993200483,0.056127957683152485,null,-0.5823521348086326,-0.6525230512396379,null,-0.24875250103953397,-0.36392018188403863,null,0.05911745141459906,0.056127957683152485,null,0.08501004792752363,0.09445202507587361,null,-0.6603530626056501,-0.6525230512396379,null,0.5228276959641504,0.8427287995570388,null,0.5228276959641504,0.2575896099598767,null,0.5228276959641504,0.3429105482554068,null,-0.5237481013007678,-0.6525230512396379,null,0.177848104193011,0.2575896099598767,null,0.177848104193011,0.09445202507587361,null,-0.522583992270821,-0.6525230512396379,null,-0.6850952113066787,-0.6525230512396379,null,0.15488840565318956,0.14988339966638928,null,0.061369411837637874,0.04066802623281522,null,-0.09606218126690987,0.02736473870255328,null,-0.09606218126690987,-0.21321672800368033,null,0.09118493486018193,0.07657299402229978,null,0.03988120904711166,0.04066802623281522,null,0.03101925293252868,0.02736473870255328,null,-0.24588881095320322,-0.21868448159567028,null,-0.19452850595790272,-0.21321672800368033,null,0.0942145011816089,0.07657299402229978,null,0.02182010313107538,0.04066802623281522,null,-0.22225446104614863,-0.21868448159567028,null,-0.2109601117224934,-0.21321672800368033,null,0.10157098140544804,0.07657299402229978,null,0.028818321731412737,0.04066802623281522,null,-0.0968849310656933,-0.21868448159567028,null,-0.0968849310656933,0.02736473870255328,null,0.0810364362991105,0.07657299402229978,null,0.039470949789293455,0.04066802623281522,null,0.09575844737127447,0.07657299402229978,null],\"type\":\"scatter\"},{\"hoverinfo\":\"text\",\"marker\":{\"color\":[1,0,1,0,5,1,0,1,5,2,0,0,6,0,17,1,1,1,0,1,2,1,0,8,0,5,1,1,1,0,2,1,1,0,1,7,4,9,9,9,7,9,9,7,3,0,5,5,1,1,2,0,2,2,2,2,2,2,2,1,1,5,3,6,3,3,4,3,5,2,1,1,3,5,5,3,7,6,8,4,7,1,1,3,2,0,2,2,2,1,1,1,1,1,2,4,3,1,0,3,2,1,1,1,2,2,3,2,2,4,3,1,0,3,1,2,1,0,3,1,2,2,1,1,1,2,1,1,2,1,1,0,2,1,1,1,1,1,1,1,1,1,1,1,1,1,1,1,0,1,3,7,1,1,5,3,3,4,2,3,4,3,4,4,5,3,3,3,4,3,3,3,3,2,2,3,3,5,1,1,1,1,1,1,1,5,1,1,1,1,1,1,1,1,1,2,2,1,1,2,1,2,1,1,3,1,1,1,1,2,2,2,2,2,2,1,1,1,1,1,3,1,1,1,1,0,1,1,1,1,1,3,1,2,1,1,1,1,2,1,1,1,1,1,1,1,1,1,1,1,2,1,1,1],\"colorbar\":{\"thickness\":15,\"title\":{\"side\":\"right\",\"text\":\"Node Connections\"},\"xanchor\":\"left\"},\"colorscale\":[[0.0,\"rgb(255,255,217)\"],[0.125,\"rgb(237,248,177)\"],[0.25,\"rgb(199,233,180)\"],[0.375,\"rgb(127,205,187)\"],[0.5,\"rgb(65,182,196)\"],[0.625,\"rgb(29,145,192)\"],[0.75,\"rgb(34,94,168)\"],[0.875,\"rgb(37,52,148)\"],[1.0,\"rgb(8,29,88)\"]],\"line\":{\"width\":1},\"reversescale\":true,\"showscale\":true,\"size\":10},\"mode\":\"markers\",\"text\":[\"Connections:\\u003cbr\\u003eanise \\u2192 soy sauce\",\"Connections:\\u003cbr\\u003e\",\"Connections:\\u003cbr\\u003eannatto \\u2192 fish sauce\",\"Connections:\\u003cbr\\u003e\",\"Connections:\\u003cbr\\u003ebaking soda \\u2192 butter\\u003cbr\\u003ebaking soda \\u2192 egg\\u003cbr\\u003ebaking soda \\u2192 flour\\u003cbr\\u003ebaking soda \\u2192 vanilla\\u003cbr\\u003ebaking soda \\u2192 flour, egg\",\"Connections:\\u003cbr\\u003ebutter \\u2192 egg\",\"Connections:\\u003cbr\\u003e\",\"Connections:\\u003cbr\\u003eflour \\u2192 egg\",\"Connections:\\u003cbr\\u003evanilla \\u2192 baking soda\\u003cbr\\u003evanilla \\u2192 egg\\u003cbr\\u003evanilla \\u2192 flour\\u003cbr\\u003evanilla \\u2192 milk\\u003cbr\\u003evanilla \\u2192 flour, egg\",\"Connections:\\u003cbr\\u003ebay leaf \\u2192 pork\\u003cbr\\u003ebay leaf \\u2192 vinegar\",\"Connections:\\u003cbr\\u003e\",\"Connections:\\u003cbr\\u003e\",\"Connections:\\u003cbr\\u003eokra \\u2192 bean\\u003cbr\\u003eokra \\u2192 eggplant\\u003cbr\\u003eokra \\u2192 fish sauce\\u003cbr\\u003eokra \\u2192 tomato\\u003cbr\\u003eokra \\u2192 bean, tomato\\u003cbr\\u003eokra \\u2192 fish sauce, tomato\",\"Connections:\\u003cbr\\u003e\",\"Connections:\\u003cbr\\u003eradish \\u2192 bean\\u003cbr\\u003eradish \\u2192 fish sauce\\u003cbr\\u003eradish \\u2192 okra\\u003cbr\\u003eradish \\u2192 spinach\\u003cbr\\u003eradish \\u2192 tamarind\\u003cbr\\u003eradish \\u2192 tomato\\u003cbr\\u003eradish \\u2192 bean, okra\\u003cbr\\u003eradish \\u2192 bean, tomato\\u003cbr\\u003eradish \\u2192 fish sauce, tomato\\u003cbr\\u003eradish \\u2192 tamarind, okra\\u003cbr\\u003eradish \\u2192 okra, tomato\\u003cbr\\u003eradish \\u2192 tamarind, spinach\\u003cbr\\u003eradish \\u2192 tomato, spinach\\u003cbr\\u003eradish \\u2192 tamarind, tomato\\u003cbr\\u003eradish \\u2192 bean, okra, tomato\\u003cbr\\u003eradish \\u2192 tamarind, okra, tomato\\u003cbr\\u003eradish \\u2192 tamarind, tomato, spinach\",\"Connections:\\u003cbr\\u003esquash \\u2192 bean\",\"Connections:\\u003cbr\\u003ebread \\u2192 egg\",\"Connections:\\u003cbr\\u003ecelery \\u2192 carrot\",\"Connections:\\u003cbr\\u003e\",\"Connections:\\u003cbr\\u003epea \\u2192 carrot\",\"Connections:\\u003cbr\\u003eraisin \\u2192 carrot\\u003cbr\\u003eraisin \\u2192 egg\",\"Connections:\\u003cbr\\u003echicken broth \\u2192 chicken\",\"Connections:\\u003cbr\\u003e\",\"Connections:\\u003cbr\\u003etamarind \\u2192 chili\\u003cbr\\u003etamarind \\u2192 fish sauce\\u003cbr\\u003etamarind \\u2192 radish\\u003cbr\\u003etamarind \\u2192 spinach\\u003cbr\\u003etamarind \\u2192 tomato\\u003cbr\\u003etamarind \\u2192 fish sauce, tomato\\u003cbr\\u003etamarind \\u2192 radish, tomato\\u003cbr\\u003etamarind \\u2192 tomato, spinach\",\"Connections:\\u003cbr\\u003e\",\"Connections:\\u003cbr\\u003echocolate \\u2192 egg\\u003cbr\\u003echocolate \\u2192 flour\\u003cbr\\u003echocolate \\u2192 milk\\u003cbr\\u003echocolate \\u2192 vanilla\\u003cbr\\u003echocolate \\u2192 flour, egg\",\"Connections:\\u003cbr\\u003emilk \\u2192 egg\",\"Connections:\\u003cbr\\u003enut \\u2192 egg\",\"Connections:\\u003cbr\\u003eeggplant \\u2192 tomato\",\"Connections:\\u003cbr\\u003e\",\"Connections:\\u003cbr\\u003espinach \\u2192 fish sauce\\u003cbr\\u003espinach \\u2192 tomato\",\"Connections:\\u003cbr\\u003ecornstarch, alcohol \\u2192 soy sauce\",\"Connections:\\u003cbr\\u003ealcohol, soy sauce \\u2192 cornstarch\",\"Connections:\\u003cbr\\u003e\",\"Connections:\\u003cbr\\u003ealcohol, ginger \\u2192 soy sauce\",\"Connections:\\u003cbr\\u003ebutter, baking soda \\u2192 egg\\u003cbr\\u003ebutter, baking soda \\u2192 flour\\u003cbr\\u003ebutter, baking soda \\u2192 vanilla\\u003cbr\\u003ebutter, baking soda \\u2192 flour, egg\\u003cbr\\u003ebutter, baking soda \\u2192 vanilla, egg\\u003cbr\\u003ebutter, baking soda \\u2192 flour, vanilla\\u003cbr\\u003ebutter, baking soda \\u2192 flour, vanilla, egg\",\"Connections:\\u003cbr\\u003ebaking soda, egg \\u2192 butter\\u003cbr\\u003ebaking soda, egg \\u2192 flour\\u003cbr\\u003ebaking soda, egg \\u2192 vanilla\\u003cbr\\u003ebaking soda, egg \\u2192 flour, vanilla\",\"Connections:\\u003cbr\\u003emilk, baking soda \\u2192 butter\\u003cbr\\u003emilk, baking soda \\u2192 egg\\u003cbr\\u003emilk, baking soda \\u2192 flour\\u003cbr\\u003emilk, baking soda \\u2192 vanilla\\u003cbr\\u003emilk, baking soda \\u2192 butter, egg\\u003cbr\\u003emilk, baking soda \\u2192 flour, egg\\u003cbr\\u003emilk, baking soda \\u2192 vanilla, egg\\u003cbr\\u003emilk, baking soda \\u2192 flour, vanilla\\u003cbr\\u003emilk, baking soda \\u2192 flour, vanilla, egg\",\"Connections:\\u003cbr\\u003ebutter, vanilla \\u2192 baking soda\\u003cbr\\u003ebutter, vanilla \\u2192 egg\\u003cbr\\u003ebutter, vanilla \\u2192 flour\\u003cbr\\u003ebutter, vanilla \\u2192 milk\\u003cbr\\u003ebutter, vanilla \\u2192 baking soda, egg\\u003cbr\\u003ebutter, vanilla \\u2192 flour, baking soda\\u003cbr\\u003ebutter, vanilla \\u2192 flour, egg\\u003cbr\\u003ebutter, vanilla \\u2192 milk, egg\\u003cbr\\u003ebutter, vanilla \\u2192 flour, baking soda, egg\",\"Connections:\\u003cbr\\u003evanilla, baking soda \\u2192 butter\\u003cbr\\u003evanilla, baking soda \\u2192 egg\\u003cbr\\u003evanilla, baking soda \\u2192 flour\\u003cbr\\u003evanilla, baking soda \\u2192 milk\\u003cbr\\u003evanilla, baking soda \\u2192 butter, egg\\u003cbr\\u003evanilla, baking soda \\u2192 butter, flour\\u003cbr\\u003evanilla, baking soda \\u2192 flour, egg\\u003cbr\\u003evanilla, baking soda \\u2192 milk, egg\\u003cbr\\u003evanilla, baking soda \\u2192 butter, flour, egg\",\"Connections:\\u003cbr\\u003ebaking soda, chocolate \\u2192 egg\\u003cbr\\u003ebaking soda, chocolate \\u2192 flour\\u003cbr\\u003ebaking soda, chocolate \\u2192 vanilla\\u003cbr\\u003ebaking soda, chocolate \\u2192 flour, egg\\u003cbr\\u003ebaking soda, chocolate \\u2192 vanilla, egg\\u003cbr\\u003ebaking soda, chocolate \\u2192 flour, vanilla\\u003cbr\\u003ebaking soda, chocolate \\u2192 flour, vanilla, egg\",\"Connections:\\u003cbr\\u003echocolate, egg \\u2192 baking soda\\u003cbr\\u003echocolate, egg \\u2192 butter\\u003cbr\\u003echocolate, egg \\u2192 flour\\u003cbr\\u003echocolate, egg \\u2192 vanilla\\u003cbr\\u003echocolate, egg \\u2192 flour, baking soda\\u003cbr\\u003echocolate, egg \\u2192 vanilla, baking soda\\u003cbr\\u003echocolate, egg \\u2192 butter, flour\\u003cbr\\u003echocolate, egg \\u2192 flour, vanilla\\u003cbr\\u003echocolate, egg \\u2192 flour, vanilla, baking soda\",\"Connections:\\u003cbr\\u003eflour, chocolate \\u2192 baking soda\\u003cbr\\u003eflour, chocolate \\u2192 butter\\u003cbr\\u003eflour, chocolate \\u2192 egg\\u003cbr\\u003eflour, chocolate \\u2192 vanilla\\u003cbr\\u003eflour, chocolate \\u2192 baking soda, egg\\u003cbr\\u003eflour, chocolate \\u2192 vanilla, baking soda\\u003cbr\\u003eflour, chocolate \\u2192 butter, egg\\u003cbr\\u003eflour, chocolate \\u2192 vanilla, egg\\u003cbr\\u003eflour, chocolate \\u2192 vanilla, baking soda, egg\",\"Connections:\\u003cbr\\u003evanilla, chocolate \\u2192 baking soda\\u003cbr\\u003evanilla, chocolate \\u2192 egg\\u003cbr\\u003evanilla, chocolate \\u2192 flour\\u003cbr\\u003evanilla, chocolate \\u2192 baking soda, egg\\u003cbr\\u003evanilla, chocolate \\u2192 flour, baking soda\\u003cbr\\u003evanilla, chocolate \\u2192 flour, egg\\u003cbr\\u003evanilla, chocolate \\u2192 flour, baking soda, egg\",\"Connections:\\u003cbr\\u003eflour, baking soda \\u2192 egg\\u003cbr\\u003eflour, baking soda \\u2192 vanilla\\u003cbr\\u003eflour, baking soda \\u2192 vanilla, egg\",\"Connections:\\u003cbr\\u003e\",\"Connections:\\u003cbr\\u003evanilla, egg \\u2192 baking soda\\u003cbr\\u003evanilla, egg \\u2192 butter\\u003cbr\\u003evanilla, egg \\u2192 flour\\u003cbr\\u003evanilla, egg \\u2192 milk\\u003cbr\\u003evanilla, egg \\u2192 flour, baking soda\",\"Connections:\\u003cbr\\u003eflour, vanilla \\u2192 baking soda\\u003cbr\\u003eflour, vanilla \\u2192 butter\\u003cbr\\u003eflour, vanilla \\u2192 egg\\u003cbr\\u003eflour, vanilla \\u2192 baking soda, egg\\u003cbr\\u003eflour, vanilla \\u2192 butter, egg\",\"Connections:\\u003cbr\\u003eflour, banana \\u2192 egg\",\"Connections:\\u003cbr\\u003ebanana, egg \\u2192 flour\",\"Connections:\\u003cbr\\u003ecarrot, bay leaf \\u2192 potato\\u003cbr\\u003ecarrot, bay leaf \\u2192 tomato\",\"Connections:\\u003cbr\\u003e\",\"Connections:\\u003cbr\\u003epotato, bay leaf \\u2192 carrot\\u003cbr\\u003epotato, bay leaf \\u2192 tomato\",\"Connections:\\u003cbr\\u003ebay leaf, tomato \\u2192 carrot\\u003cbr\\u003ebay leaf, tomato \\u2192 potato\",\"Connections:\\u003cbr\\u003echicken, bay leaf \\u2192 soy sauce\\u003cbr\\u003echicken, bay leaf \\u2192 vinegar\",\"Connections:\\u003cbr\\u003echicken, vinegar \\u2192 bay leaf\\u003cbr\\u003echicken, vinegar \\u2192 soy sauce\",\"Connections:\\u003cbr\\u003ebay leaf, pork \\u2192 soy sauce\\u003cbr\\u003ebay leaf, pork \\u2192 vinegar\",\"Connections:\\u003cbr\\u003ebay leaf, soy sauce \\u2192 pork\\u003cbr\\u003ebay leaf, soy sauce \\u2192 vinegar\",\"Connections:\\u003cbr\\u003ebay leaf, vinegar \\u2192 pork\\u003cbr\\u003ebay leaf, vinegar \\u2192 soy sauce\",\"Connections:\\u003cbr\\u003evinegar, soy sauce \\u2192 bay leaf\",\"Connections:\\u003cbr\\u003ebean, cabbage \\u2192 fish sauce\",\"Connections:\\u003cbr\\u003ebean, eggplant \\u2192 fish sauce\\u003cbr\\u003ebean, eggplant \\u2192 okra\\u003cbr\\u003ebean, eggplant \\u2192 pork\\u003cbr\\u003ebean, eggplant \\u2192 tomato\\u003cbr\\u003ebean, eggplant \\u2192 okra, tomato\",\"Connections:\\u003cbr\\u003efish sauce, eggplant \\u2192 bean\\u003cbr\\u003efish sauce, eggplant \\u2192 pork\\u003cbr\\u003efish sauce, eggplant \\u2192 tomato\",\"Connections:\\u003cbr\\u003ebean, okra \\u2192 eggplant\\u003cbr\\u003ebean, okra \\u2192 fish sauce\\u003cbr\\u003ebean, okra \\u2192 spinach\\u003cbr\\u003ebean, okra \\u2192 tomato\\u003cbr\\u003ebean, okra \\u2192 fish sauce, tomato\\u003cbr\\u003ebean, okra \\u2192 tomato, spinach\",\"Connections:\\u003cbr\\u003eokra, eggplant \\u2192 bean\\u003cbr\\u003eokra, eggplant \\u2192 tomato\\u003cbr\\u003eokra, eggplant \\u2192 bean, tomato\",\"Connections:\\u003cbr\\u003epork, eggplant \\u2192 bean\\u003cbr\\u003epork, eggplant \\u2192 fish sauce\\u003cbr\\u003epork, eggplant \\u2192 tomato\",\"Connections:\\u003cbr\\u003etomato, eggplant \\u2192 bean\\u003cbr\\u003etomato, eggplant \\u2192 fish sauce\\u003cbr\\u003etomato, eggplant \\u2192 okra\\u003cbr\\u003etomato, eggplant \\u2192 pork\",\"Connections:\\u003cbr\\u003efish sauce, okra \\u2192 bean\\u003cbr\\u003efish sauce, okra \\u2192 tomato\\u003cbr\\u003efish sauce, okra \\u2192 bean, tomato\",\"Connections:\\u003cbr\\u003ebean, spinach \\u2192 fish sauce\\u003cbr\\u003ebean, spinach \\u2192 okra\\u003cbr\\u003ebean, spinach \\u2192 tomato\\u003cbr\\u003ebean, spinach \\u2192 fish sauce, tomato\\u003cbr\\u003ebean, spinach \\u2192 okra, tomato\",\"Connections:\\u003cbr\\u003efish sauce, spinach \\u2192 bean\\u003cbr\\u003efish sauce, spinach \\u2192 tomato\",\"Connections:\\u003cbr\\u003ebean, fish sauce \\u2192 tomato\",\"Connections:\\u003cbr\\u003ebean, tomato \\u2192 fish sauce\",\"Connections:\\u003cbr\\u003ebean, radish \\u2192 okra\\u003cbr\\u003ebean, radish \\u2192 tomato\\u003cbr\\u003ebean, radish \\u2192 okra, tomato\",\"Connections:\\u003cbr\\u003eradish, okra \\u2192 bean\\u003cbr\\u003eradish, okra \\u2192 tamarind\\u003cbr\\u003eradish, okra \\u2192 tomato\\u003cbr\\u003eradish, okra \\u2192 bean, tomato\\u003cbr\\u003eradish, okra \\u2192 tamarind, tomato\",\"Connections:\\u003cbr\\u003eokra, spinach \\u2192 bean\\u003cbr\\u003eokra, spinach \\u2192 tamarind\\u003cbr\\u003eokra, spinach \\u2192 tomato\\u003cbr\\u003eokra, spinach \\u2192 bean, tomato\\u003cbr\\u003eokra, spinach \\u2192 tamarind, tomato\",\"Connections:\\u003cbr\\u003ebean, tamarind \\u2192 okra\\u003cbr\\u003ebean, tamarind \\u2192 tomato\\u003cbr\\u003ebean, tamarind \\u2192 okra, tomato\",\"Connections:\\u003cbr\\u003etamarind, okra \\u2192 bean\\u003cbr\\u003etamarind, okra \\u2192 radish\\u003cbr\\u003etamarind, okra \\u2192 spinach\\u003cbr\\u003etamarind, okra \\u2192 tomato\\u003cbr\\u003etamarind, okra \\u2192 bean, tomato\\u003cbr\\u003etamarind, okra \\u2192 radish, tomato\\u003cbr\\u003etamarind, okra \\u2192 tomato, spinach\",\"Connections:\\u003cbr\\u003eokra, tomato \\u2192 bean\\u003cbr\\u003eokra, tomato \\u2192 fish sauce\\u003cbr\\u003eokra, tomato \\u2192 radish\\u003cbr\\u003eokra, tomato \\u2192 spinach\\u003cbr\\u003eokra, tomato \\u2192 tamarind\\u003cbr\\u003eokra, tomato \\u2192 bean, fish sauce\",\"Connections:\\u003cbr\\u003eradish, tomato \\u2192 bean\\u003cbr\\u003eradish, tomato \\u2192 fish sauce\\u003cbr\\u003eradish, tomato \\u2192 okra\\u003cbr\\u003eradish, tomato \\u2192 spinach\\u003cbr\\u003eradish, tomato \\u2192 tamarind\\u003cbr\\u003eradish, tomato \\u2192 bean, okra\\u003cbr\\u003eradish, tomato \\u2192 tamarind, okra\\u003cbr\\u003eradish, tomato \\u2192 tamarind, spinach\",\"Connections:\\u003cbr\\u003etomato, spinach \\u2192 bean\\u003cbr\\u003etomato, spinach \\u2192 fish sauce\\u003cbr\\u003etomato, spinach \\u2192 okra\\u003cbr\\u003etomato, spinach \\u2192 tamarind\",\"Connections:\\u003cbr\\u003etamarind, tomato \\u2192 bean\\u003cbr\\u003etamarind, tomato \\u2192 chili\\u003cbr\\u003etamarind, tomato \\u2192 fish sauce\\u003cbr\\u003etamarind, tomato \\u2192 okra\\u003cbr\\u003etamarind, tomato \\u2192 radish\\u003cbr\\u003etamarind, tomato \\u2192 spinach\\u003cbr\\u003etamarind, tomato \\u2192 radish, okra\",\"Connections:\\u003cbr\\u003ebell pepper, chicken \\u2192 carrot\",\"Connections:\\u003cbr\\u003ebell pepper, pork \\u2192 carrot\",\"Connections:\\u003cbr\\u003ebell pepper, potato \\u2192 carrot\\u003cbr\\u003ebell pepper, potato \\u2192 tomato\\u003cbr\\u003ebell pepper, potato \\u2192 carrot, tomato\",\"Connections:\\u003cbr\\u003ecarrot, potato \\u2192 bell pepper\\u003cbr\\u003ecarrot, potato \\u2192 tomato\",\"Connections:\\u003cbr\\u003e\",\"Connections:\\u003cbr\\u003ebell pepper, tomato \\u2192 carrot\\u003cbr\\u003ebell pepper, tomato \\u2192 potato\",\"Connections:\\u003cbr\\u003ecarrot, tomato \\u2192 bell pepper\\u003cbr\\u003ecarrot, tomato \\u2192 potato\",\"Connections:\\u003cbr\\u003epotato, tomato \\u2192 bell pepper\\u003cbr\\u003epotato, tomato \\u2192 carrot\",\"Connections:\\u003cbr\\u003ebutter, bread \\u2192 egg\",\"Connections:\\u003cbr\\u003echeese, bread \\u2192 egg\",\"Connections:\\u003cbr\\u003eflour, bread \\u2192 egg\",\"Connections:\\u003cbr\\u003emilk, bread \\u2192 egg\",\"Connections:\\u003cbr\\u003epork, bread \\u2192 egg\",\"Connections:\\u003cbr\\u003ebutter, cheese \\u2192 egg\\u003cbr\\u003ebutter, cheese \\u2192 milk\",\"Connections:\\u003cbr\\u003eflour, cheese \\u2192 butter\\u003cbr\\u003eflour, cheese \\u2192 egg\\u003cbr\\u003eflour, cheese \\u2192 milk\\u003cbr\\u003eflour, cheese \\u2192 butter, milk\",\"Connections:\\u003cbr\\u003emilk, cheese \\u2192 butter\\u003cbr\\u003emilk, cheese \\u2192 egg\\u003cbr\\u003emilk, cheese \\u2192 flour\",\"Connections:\\u003cbr\\u003ebutter, pasta \\u2192 cheese\",\"Connections:\\u003cbr\\u003e\",\"Connections:\\u003cbr\\u003ebutter, chocolate \\u2192 egg\\u003cbr\\u003ebutter, chocolate \\u2192 flour\\u003cbr\\u003ebutter, chocolate \\u2192 flour, egg\",\"Connections:\\u003cbr\\u003ebutter, coconut \\u2192 egg\\u003cbr\\u003ebutter, coconut \\u2192 milk\",\"Connections:\\u003cbr\\u003ecoconut, egg \\u2192 butter\",\"Connections:\\u003cbr\\u003ebutter, cream \\u2192 egg\",\"Connections:\\u003cbr\\u003ecream, egg \\u2192 butter\",\"Connections:\\u003cbr\\u003ebutter, flour \\u2192 egg\\u003cbr\\u003ebutter, flour \\u2192 milk\",\"Connections:\\u003cbr\\u003ebutter, egg \\u2192 flour\\u003cbr\\u003ebutter, egg \\u2192 milk\",\"Connections:\\u003cbr\\u003ebutter, milk \\u2192 egg\\u003cbr\\u003ebutter, milk \\u2192 flour\\u003cbr\\u003ebutter, milk \\u2192 flour, egg\",\"Connections:\\u003cbr\\u003emilk, egg \\u2192 butter\\u003cbr\\u003emilk, egg \\u2192 flour\",\"Connections:\\u003cbr\\u003emilk, flour \\u2192 butter\\u003cbr\\u003emilk, flour \\u2192 egg\",\"Connections:\\u003cbr\\u003emilk, vanilla \\u2192 butter\\u003cbr\\u003emilk, vanilla \\u2192 egg\\u003cbr\\u003emilk, vanilla \\u2192 flour\\u003cbr\\u003emilk, vanilla \\u2192 flour, egg\",\"Connections:\\u003cbr\\u003echicken, cabbage \\u2192 carrot\\u003cbr\\u003echicken, cabbage \\u2192 pasta\\u003cbr\\u003echicken, cabbage \\u2192 carrot, pasta\",\"Connections:\\u003cbr\\u003ecarrot, clam \\u2192 cabbage\",\"Connections:\\u003cbr\\u003e\",\"Connections:\\u003cbr\\u003ecabbage, clam \\u2192 carrot\\u003cbr\\u003ecabbage, clam \\u2192 pasta\\u003cbr\\u003ecabbage, clam \\u2192 pork\",\"Connections:\\u003cbr\\u003ecabbage, egg \\u2192 carrot\",\"Connections:\\u003cbr\\u003ecarrot, pasta \\u2192 cabbage\\u003cbr\\u003ecarrot, pasta \\u2192 chicken\",\"Connections:\\u003cbr\\u003ecarrot, cabbage \\u2192 pasta\",\"Connections:\\u003cbr\\u003e\",\"Connections:\\u003cbr\\u003epasta, cabbage \\u2192 carrot\\u003cbr\\u003epasta, cabbage \\u2192 chicken\\u003cbr\\u003epasta, cabbage \\u2192 carrot, chicken\",\"Connections:\\u003cbr\\u003ecabbage, pork \\u2192 carrot\",\"Connections:\\u003cbr\\u003ecabbage, soy sauce \\u2192 carrot\\u003cbr\\u003ecabbage, soy sauce \\u2192 pork\",\"Connections:\\u003cbr\\u003echicken, pasta \\u2192 cabbage\\u003cbr\\u003echicken, pasta \\u2192 carrot\",\"Connections:\\u003cbr\\u003epasta, clam \\u2192 cabbage\",\"Connections:\\u003cbr\\u003epasta, soy sauce \\u2192 cabbage\",\"Connections:\\u003cbr\\u003echicken, potato \\u2192 carrot\",\"Connections:\\u003cbr\\u003epotato, pork \\u2192 carrot\\u003cbr\\u003epotato, pork \\u2192 tomato\",\"Connections:\\u003cbr\\u003ecream, pasta \\u2192 cheese\",\"Connections:\\u003cbr\\u003epasta, tomato \\u2192 cheese\",\"Connections:\\u003cbr\\u003ecornstarch, chicken \\u2192 egg\\u003cbr\\u003ecornstarch, chicken \\u2192 soy sauce\",\"Connections:\\u003cbr\\u003ecoconut, fish sauce \\u2192 chili\",\"Connections:\\u003cbr\\u003echili, coconut \\u2192 ginger\",\"Connections:\\u003cbr\\u003e\",\"Connections:\\u003cbr\\u003ecoconut, ginger \\u2192 chili\\u003cbr\\u003ecoconut, ginger \\u2192 fish sauce\",\"Connections:\\u003cbr\\u003ecoconut, pork \\u2192 chili\",\"Connections:\\u003cbr\\u003ecoconut, shrimp \\u2192 chili\",\"Connections:\\u003cbr\\u003efish sauce, ginger \\u2192 chili\",\"Connections:\\u003cbr\\u003evinegar, ginger \\u2192 chili\",\"Connections:\\u003cbr\\u003echili, tamarind \\u2192 tomato\",\"Connections:\\u003cbr\\u003ecornstarch, clam \\u2192 soy sauce\",\"Connections:\\u003cbr\\u003ecornstarch, flour \\u2192 egg\",\"Connections:\\u003cbr\\u003ecornstarch, ginger \\u2192 soy sauce\",\"Connections:\\u003cbr\\u003ecornstarch, pork \\u2192 soy sauce\",\"Connections:\\u003cbr\\u003ecornstarch, vinegar \\u2192 soy sauce\",\"Connections:\\u003cbr\\u003eflour, cream \\u2192 egg\",\"Connections:\\u003cbr\\u003ecream, vanilla \\u2192 egg\",\"Connections:\\u003cbr\\u003eflour, pork \\u2192 egg\",\"Connections:\\u003cbr\\u003erice, pork \\u2192 egg\",\"Connections:\\u003cbr\\u003efish sauce, fish \\u2192 tomato\",\"Connections:\\u003cbr\\u003e\",\"Connections:\\u003cbr\\u003eradish, fish sauce \\u2192 tomato\",\"Connections:\\u003cbr\\u003etamarind, fish sauce \\u2192 spinach\\u003cbr\\u003etamarind, fish sauce \\u2192 tomato\\u003cbr\\u003etamarind, fish sauce \\u2192 tomato, spinach\",\"Connections:\\u003cbr\\u003etamarind, spinach \\u2192 fish sauce\\u003cbr\\u003etamarind, spinach \\u2192 okra\\u003cbr\\u003etamarind, spinach \\u2192 radish\\u003cbr\\u003etamarind, spinach \\u2192 tomato\\u003cbr\\u003etamarind, spinach \\u2192 fish sauce, tomato\\u003cbr\\u003etamarind, spinach \\u2192 okra, tomato\\u003cbr\\u003etamarind, spinach \\u2192 radish, tomato\",\"Connections:\\u003cbr\\u003elemon, pork \\u2192 soy sauce\",\"Connections:\\u003cbr\\u003eokra, pork \\u2192 tomato\",\"Connections:\\u003cbr\\u003etamarind, radish \\u2192 okra\\u003cbr\\u003etamarind, radish \\u2192 spinach\\u003cbr\\u003etamarind, radish \\u2192 tomato\\u003cbr\\u003etamarind, radish \\u2192 okra, tomato\\u003cbr\\u003etamarind, radish \\u2192 tomato, spinach\",\"Connections:\\u003cbr\\u003eradish, spinach \\u2192 tamarind\\u003cbr\\u003eradish, spinach \\u2192 tomato\\u003cbr\\u003eradish, spinach \\u2192 tamarind, tomato\",\"Connections:\\u003cbr\\u003ebutter, flour, baking soda \\u2192 egg\\u003cbr\\u003ebutter, flour, baking soda \\u2192 vanilla\\u003cbr\\u003ebutter, flour, baking soda \\u2192 vanilla, egg\",\"Connections:\\u003cbr\\u003ebutter, baking soda, egg \\u2192 flour\\u003cbr\\u003ebutter, baking soda, egg \\u2192 milk\\u003cbr\\u003ebutter, baking soda, egg \\u2192 vanilla\\u003cbr\\u003ebutter, baking soda, egg \\u2192 flour, vanilla\",\"Connections:\\u003cbr\\u003eflour, baking soda, egg \\u2192 butter\\u003cbr\\u003eflour, baking soda, egg \\u2192 vanilla\",\"Connections:\\u003cbr\\u003ebutter, milk, baking soda \\u2192 egg\\u003cbr\\u003ebutter, milk, baking soda \\u2192 flour\\u003cbr\\u003ebutter, milk, baking soda \\u2192 flour, egg\",\"Connections:\\u003cbr\\u003emilk, baking soda, egg \\u2192 butter\\u003cbr\\u003emilk, baking soda, egg \\u2192 flour\\u003cbr\\u003emilk, baking soda, egg \\u2192 vanilla\\u003cbr\\u003emilk, baking soda, egg \\u2192 flour, vanilla\",\"Connections:\\u003cbr\\u003ebutter, vanilla, baking soda \\u2192 egg\\u003cbr\\u003ebutter, vanilla, baking soda \\u2192 flour\\u003cbr\\u003ebutter, vanilla, baking soda \\u2192 flour, egg\",\"Connections:\\u003cbr\\u003ebutter, vanilla, egg \\u2192 baking soda\\u003cbr\\u003ebutter, vanilla, egg \\u2192 flour\\u003cbr\\u003ebutter, vanilla, egg \\u2192 milk\\u003cbr\\u003ebutter, vanilla, egg \\u2192 flour, baking soda\",\"Connections:\\u003cbr\\u003evanilla, baking soda, egg \\u2192 butter\\u003cbr\\u003evanilla, baking soda, egg \\u2192 flour\\u003cbr\\u003evanilla, baking soda, egg \\u2192 milk\\u003cbr\\u003evanilla, baking soda, egg \\u2192 butter, flour\",\"Connections:\\u003cbr\\u003emilk, flour, baking soda \\u2192 butter\\u003cbr\\u003emilk, flour, baking soda \\u2192 egg\\u003cbr\\u003emilk, flour, baking soda \\u2192 vanilla\\u003cbr\\u003emilk, flour, baking soda \\u2192 butter, egg\\u003cbr\\u003emilk, flour, baking soda \\u2192 vanilla, egg\",\"Connections:\\u003cbr\\u003ebutter, flour, vanilla \\u2192 baking soda\\u003cbr\\u003ebutter, flour, vanilla \\u2192 egg\\u003cbr\\u003ebutter, flour, vanilla \\u2192 baking soda, egg\",\"Connections:\\u003cbr\\u003eflour, vanilla, baking soda \\u2192 butter\\u003cbr\\u003eflour, vanilla, baking soda \\u2192 egg\\u003cbr\\u003eflour, vanilla, baking soda \\u2192 butter, egg\",\"Connections:\\u003cbr\\u003eflour, baking soda, chocolate \\u2192 egg\\u003cbr\\u003eflour, baking soda, chocolate \\u2192 vanilla\\u003cbr\\u003eflour, baking soda, chocolate \\u2192 vanilla, egg\",\"Connections:\\u003cbr\\u003eflour, chocolate, egg \\u2192 baking soda\\u003cbr\\u003eflour, chocolate, egg \\u2192 butter\\u003cbr\\u003eflour, chocolate, egg \\u2192 vanilla\\u003cbr\\u003eflour, chocolate, egg \\u2192 vanilla, baking soda\",\"Connections:\\u003cbr\\u003ebaking soda, chocolate, egg \\u2192 flour\\u003cbr\\u003ebaking soda, chocolate, egg \\u2192 vanilla\\u003cbr\\u003ebaking soda, chocolate, egg \\u2192 flour, vanilla\",\"Connections:\\u003cbr\\u003evanilla, chocolate, baking soda \\u2192 egg\\u003cbr\\u003evanilla, chocolate, baking soda \\u2192 flour\\u003cbr\\u003evanilla, chocolate, baking soda \\u2192 flour, egg\",\"Connections:\\u003cbr\\u003evanilla, chocolate, egg \\u2192 baking soda\\u003cbr\\u003evanilla, chocolate, egg \\u2192 flour\\u003cbr\\u003evanilla, chocolate, egg \\u2192 flour, baking soda\",\"Connections:\\u003cbr\\u003eflour, vanilla, chocolate \\u2192 baking soda\\u003cbr\\u003eflour, vanilla, chocolate \\u2192 egg\\u003cbr\\u003eflour, vanilla, chocolate \\u2192 baking soda, egg\",\"Connections:\\u003cbr\\u003emilk, flour, egg \\u2192 baking soda\\u003cbr\\u003emilk, flour, egg \\u2192 butter\",\"Connections:\\u003cbr\\u003eflour, vanilla, egg \\u2192 baking soda\\u003cbr\\u003eflour, vanilla, egg \\u2192 butter\",\"Connections:\\u003cbr\\u003emilk, vanilla, baking soda \\u2192 egg\\u003cbr\\u003emilk, vanilla, baking soda \\u2192 flour\\u003cbr\\u003emilk, vanilla, baking soda \\u2192 flour, egg\",\"Connections:\\u003cbr\\u003emilk, vanilla, egg \\u2192 baking soda\\u003cbr\\u003emilk, vanilla, egg \\u2192 butter\\u003cbr\\u003emilk, vanilla, egg \\u2192 flour\",\"Connections:\\u003cbr\\u003emilk, flour, vanilla \\u2192 baking soda\\u003cbr\\u003emilk, flour, vanilla \\u2192 butter\\u003cbr\\u003emilk, flour, vanilla \\u2192 egg\\u003cbr\\u003emilk, flour, vanilla \\u2192 baking soda, egg\\u003cbr\\u003emilk, flour, vanilla \\u2192 butter, egg\",\"Connections:\\u003cbr\\u003echicken, bay leaf, vinegar \\u2192 soy sauce\",\"Connections:\\u003cbr\\u003echicken, vinegar, soy sauce \\u2192 bay leaf\",\"Connections:\\u003cbr\\u003echicken, bay leaf, soy sauce \\u2192 vinegar\",\"Connections:\\u003cbr\\u003ebay leaf, vinegar, pork \\u2192 soy sauce\",\"Connections:\\u003cbr\\u003esoy sauce, vinegar, pork \\u2192 bay leaf\",\"Connections:\\u003cbr\\u003ebay leaf, vinegar, soy sauce \\u2192 pork\",\"Connections:\\u003cbr\\u003esoy sauce, bay leaf, pork \\u2192 vinegar\",\"Connections:\\u003cbr\\u003ebean, okra, tomato \\u2192 eggplant\\u003cbr\\u003ebean, okra, tomato \\u2192 fish sauce\\u003cbr\\u003ebean, okra, tomato \\u2192 radish\\u003cbr\\u003ebean, okra, tomato \\u2192 spinach\\u003cbr\\u003ebean, okra, tomato \\u2192 tamarind\",\"Connections:\\u003cbr\\u003ebean, okra, eggplant \\u2192 tomato\",\"Connections:\\u003cbr\\u003ebean, tomato, eggplant \\u2192 okra\",\"Connections:\\u003cbr\\u003eokra, tomato, eggplant \\u2192 bean\",\"Connections:\\u003cbr\\u003ebean, fish sauce, okra \\u2192 tomato\",\"Connections:\\u003cbr\\u003ebean, fish sauce, tomato \\u2192 okra\",\"Connections:\\u003cbr\\u003efish sauce, okra, tomato \\u2192 bean\",\"Connections:\\u003cbr\\u003ebean, fish sauce, pork \\u2192 tomato\",\"Connections:\\u003cbr\\u003ebean, tomato, pork \\u2192 fish sauce\",\"Connections:\\u003cbr\\u003ebean, fish sauce, spinach \\u2192 tomato\",\"Connections:\\u003cbr\\u003ebean, tomato, spinach \\u2192 fish sauce\\u003cbr\\u003ebean, tomato, spinach \\u2192 okra\",\"Connections:\\u003cbr\\u003efish sauce, tomato, spinach \\u2192 bean\\u003cbr\\u003efish sauce, tomato, spinach \\u2192 tamarind\",\"Connections:\\u003cbr\\u003ebean, radish, okra \\u2192 tomato\",\"Connections:\\u003cbr\\u003ebean, radish, tomato \\u2192 okra\",\"Connections:\\u003cbr\\u003eradish, okra, tomato \\u2192 bean\\u003cbr\\u003eradish, okra, tomato \\u2192 tamarind\",\"Connections:\\u003cbr\\u003ebean, okra, spinach \\u2192 tomato\",\"Connections:\\u003cbr\\u003eokra, tomato, spinach \\u2192 bean\\u003cbr\\u003eokra, tomato, spinach \\u2192 tamarind\",\"Connections:\\u003cbr\\u003ebean, tamarind, okra \\u2192 tomato\",\"Connections:\\u003cbr\\u003ebean, tamarind, tomato \\u2192 okra\",\"Connections:\\u003cbr\\u003etamarind, okra, tomato \\u2192 bean\\u003cbr\\u003etamarind, okra, tomato \\u2192 radish\\u003cbr\\u003etamarind, okra, tomato \\u2192 spinach\",\"Connections:\\u003cbr\\u003ebell pepper, carrot, potato \\u2192 tomato\",\"Connections:\\u003cbr\\u003ebell pepper, carrot, tomato \\u2192 potato\",\"Connections:\\u003cbr\\u003ebell pepper, potato, tomato \\u2192 carrot\",\"Connections:\\u003cbr\\u003ecarrot, potato, tomato \\u2192 bell pepper\",\"Connections:\\u003cbr\\u003ebutter, flour, cheese \\u2192 egg\\u003cbr\\u003ebutter, flour, cheese \\u2192 milk\",\"Connections:\\u003cbr\\u003ebutter, cheese, egg \\u2192 flour\\u003cbr\\u003ebutter, cheese, egg \\u2192 milk\",\"Connections:\\u003cbr\\u003eflour, cheese, egg \\u2192 butter\\u003cbr\\u003eflour, cheese, egg \\u2192 milk\",\"Connections:\\u003cbr\\u003ebutter, milk, cheese \\u2192 egg\\u003cbr\\u003ebutter, milk, cheese \\u2192 flour\",\"Connections:\\u003cbr\\u003emilk, cheese, egg \\u2192 butter\\u003cbr\\u003emilk, cheese, egg \\u2192 flour\",\"Connections:\\u003cbr\\u003emilk, flour, cheese \\u2192 butter\\u003cbr\\u003emilk, flour, cheese \\u2192 egg\",\"Connections:\\u003cbr\\u003ebutter, flour, chocolate \\u2192 egg\",\"Connections:\\u003cbr\\u003ebutter, chocolate, egg \\u2192 flour\",\"Connections:\\u003cbr\\u003ebutter, milk, flour \\u2192 egg\",\"Connections:\\u003cbr\\u003ebutter, milk, egg \\u2192 flour\",\"Connections:\\u003cbr\\u003ebutter, flour, egg \\u2192 milk\",\"Connections:\\u003cbr\\u003ebutter, milk, vanilla \\u2192 egg\\u003cbr\\u003ebutter, milk, vanilla \\u2192 flour\\u003cbr\\u003ebutter, milk, vanilla \\u2192 flour, egg\",\"Connections:\\u003cbr\\u003ecarrot, chicken, pasta \\u2192 cabbage\",\"Connections:\\u003cbr\\u003ecarrot, chicken, cabbage \\u2192 pasta\",\"Connections:\\u003cbr\\u003ecarrot, pasta, cabbage \\u2192 chicken\",\"Connections:\\u003cbr\\u003echicken, pasta, cabbage \\u2192 carrot\",\"Connections:\\u003cbr\\u003e\",\"Connections:\\u003cbr\\u003ecarrot, potato, pork \\u2192 tomato\",\"Connections:\\u003cbr\\u003ecarrot, tomato, pork \\u2192 potato\",\"Connections:\\u003cbr\\u003epotato, tomato, pork \\u2192 carrot\",\"Connections:\\u003cbr\\u003etamarind, fish sauce, tomato \\u2192 spinach\",\"Connections:\\u003cbr\\u003etamarind, fish sauce, spinach \\u2192 tomato\",\"Connections:\\u003cbr\\u003etamarind, tomato, spinach \\u2192 fish sauce\\u003cbr\\u003etamarind, tomato, spinach \\u2192 okra\\u003cbr\\u003etamarind, tomato, spinach \\u2192 radish\",\"Connections:\\u003cbr\\u003etamarind, radish, okra \\u2192 tomato\",\"Connections:\\u003cbr\\u003etamarind, radish, tomato \\u2192 okra\\u003cbr\\u003etamarind, radish, tomato \\u2192 spinach\",\"Connections:\\u003cbr\\u003etamarind, okra, spinach \\u2192 tomato\",\"Connections:\\u003cbr\\u003etamarind, radish, spinach \\u2192 tomato\",\"Connections:\\u003cbr\\u003eradish, tomato, spinach \\u2192 tamarind\",\"Connections:\\u003cbr\\u003ebutter, milk, flour, baking soda \\u2192 egg\",\"Connections:\\u003cbr\\u003emilk, flour, baking soda, egg \\u2192 butter\\u003cbr\\u003emilk, flour, baking soda, egg \\u2192 vanilla\",\"Connections:\\u003cbr\\u003ebutter, milk, baking soda, egg \\u2192 flour\",\"Connections:\\u003cbr\\u003ebutter, flour, vanilla, baking soda \\u2192 egg\",\"Connections:\\u003cbr\\u003eflour, vanilla, baking soda, egg \\u2192 butter\",\"Connections:\\u003cbr\\u003ebutter, flour, vanilla, egg \\u2192 baking soda\",\"Connections:\\u003cbr\\u003ebutter, flour, baking soda, egg \\u2192 vanilla\",\"Connections:\\u003cbr\\u003ebutter, vanilla, baking soda, egg \\u2192 flour\",\"Connections:\\u003cbr\\u003eflour, vanilla, chocolate, baking soda \\u2192 egg\",\"Connections:\\u003cbr\\u003eflour, vanilla, chocolate, egg \\u2192 baking soda\",\"Connections:\\u003cbr\\u003eflour, baking soda, chocolate, egg \\u2192 vanilla\",\"Connections:\\u003cbr\\u003evanilla, chocolate, baking soda, egg \\u2192 flour\",\"Connections:\\u003cbr\\u003emilk, flour, vanilla, baking soda \\u2192 egg\",\"Connections:\\u003cbr\\u003emilk, flour, vanilla, egg \\u2192 baking soda\\u003cbr\\u003emilk, flour, vanilla, egg \\u2192 butter\",\"Connections:\\u003cbr\\u003emilk, vanilla, baking soda, egg \\u2192 flour\",\"Connections:\\u003cbr\\u003ebutter, milk, flour, vanilla \\u2192 egg\",\"Connections:\\u003cbr\\u003ebutter, milk, vanilla, egg \\u2192 flour\"],\"x\":[0.3796953599227546,0.46260491847721974,-0.20625480871395707,-0.22829252746686846,0.24259069942288483,0.5377121499796187,0.6894461316624867,0.675340515411071,0.2345999715374293,-0.7830614856822045,-0.7734980659122155,-0.9500199048154276,-0.1546354804725221,0.2978772774764821,-0.15082703658539498,0.16808696818981675,0.4800333675042765,-0.8361577556569119,-1.0,-0.8266855107457469,-0.15477031744161024,-0.9183964655643587,-0.9821758093841874,-0.26935580606856896,-0.5383210490503638,0.2345262795501722,0.4929611483343495,0.6543817615255487,-0.259269486196296,-0.2905658462267346,-0.25978739451916294,0.4599118979982563,-0.70364104238861,-0.7890439723657455,0.4071769059031358,0.25103513467179916,0.4621814923983983,0.28004012332741257,0.273573238712103,0.2943374089894344,0.2510348964525768,0.4331194564084451,0.4279352382986387,0.2497794955133505,0.46231112897276033,-0.4437051165851095,0.46231316130272665,0.46886694966275905,0.6082431546052566,0.569468242406197,-0.5777290569061713,-0.8662327379492657,-0.6434807930732764,-0.8931015831245938,-0.2436207924583454,-0.16036409034137614,-0.24330377663082098,-0.8599416846685785,-0.15503541529715456,-0.6611911675030994,-0.25320836788738793,-0.3584353115842306,-0.2303150937242659,-0.22457648643359282,-0.08691156119865194,-0.0851256541487235,-0.21812598678964898,-0.08664829811224953,-0.23410044335327898,0.0033170628333701537,-0.25784957086193466,-0.24191159654832772,-0.19494195840241363,-0.10229544914095968,-0.10205134686613794,-0.19634696657926307,-0.10309485052009235,-0.10151422102700074,-0.10619725652227374,-0.0657138037759093,-0.18146830025525698,-0.8379079505302705,-0.877207526008521,-0.5306282978918547,0.03373615630989996,0.35915234013075814,-0.7930316671312323,-0.2539288446056971,-0.32034859617514666,0.5646028231666036,0.5132812113314411,0.6477039962748712,0.6230363569338521,0.5052371416157473,0.5693627444605052,0.45756048528055826,0.5198897030028716,-0.0063027952940479855,0.0045344934079472885,0.21439293452869237,0.47490722250212397,0.41298980874399494,0.4390084675603945,0.45672387637263906,0.5279381654663087,0.5207191947420047,0.21790228856354218,0.5034958338058323,0.5836831030008516,0.24268761506926717,-0.47658051637691845,0.23517036958480297,0.2439283265299101,-0.529235355039685,-0.9714772855897098,-0.3690343436919984,0.032279102496692996,0.03493369107017559,-0.7542804135921748,-0.9820581849911485,-0.7876993548406509,-0.37820020570274065,0.1443209217130978,0.1968312903606489,-0.9542825066295597,-0.6458434563255581,-0.0037153709996396397,-0.017478799013537976,0.4432535223318768,-0.44659651823744906,-0.06312468911220352,-0.06805859279965185,-0.3833976497573753,-0.4169266961733457,-0.4883040020935632,-0.4359827285504821,-0.47247817700664035,-0.2496310304411388,0.3272435887995347,0.5857433097315582,0.38818900713215737,0.4363848884813203,0.3487030048724149,0.4463987627690439,0.5801182689409976,0.4403657719482205,0.5922541219219175,-0.313403435524122,-0.1981542064957657,-0.24516378278705067,-0.1899225597305853,-0.22260215400561545,0.27045570194218616,-0.2732893565893083,-0.17658054749030344,-0.2497128024662342,0.46100038189841247,0.45200792331769896,0.3796295368264688,0.21437285678960402,0.45923777787103703,0.21778686693136437,0.4166014436000494,0.5045022228735316,0.46984292388547155,0.45534484213059173,0.5656224984345601,0.46617950212085946,0.3558705235814424,0.44501096356552866,0.21456207557911386,0.46068533713488574,0.4654648340181214,0.38507370479523695,0.392282962818985,0.21545834907417397,0.468011517329686,0.4740751917069317,0.37030193128930877,-0.7821994247982469,-0.7631604439696904,0.38820213110379176,-0.6668956110495615,-0.7610837891266298,-0.7995873074532088,-0.23433808980505597,-0.2690044988818383,-0.17951512197623462,0.18775312537730768,-0.26713913561358166,-0.1832311963912911,0.18876361233741193,-0.25408201563501187,-0.21687877684595533,-0.25014125696242495,-0.19208545428638374,0.01191890915383227,-0.2706779649000562,-0.16479584417763923,0.01405123730379531,-0.2980962496892413,0.016088704438844068,-0.2958839694834415,-0.14982593104665223,-0.000530113763661801,-0.28155168447055196,-0.7567070360237496,-0.8079424644644698,0.3242629414245815,0.44869309693204085,0.5021316929131568,0.4300542956457836,0.5194939790044946,0.5842315762251357,0.5047314245929561,0.6607094157323934,0.6432390631441303,0.5499809529606602,0.4279618155224625,0.3779623797962185,0.21547639547354872,0.2106171913679043,0.020507315323744044,-0.888001134897063,-0.8756501812551154,-0.7073690984045204,-0.28780877124913823,-0.6505457878176845,-0.9285016572678307,-0.29319895499373466,-0.2634041557287847,-0.18544177756978877,-0.252765808947779,-0.20937941665860016,-0.26310971762609703,-0.29131047220504724,-0.30757347804129875,0.6753318139836879,0.3827009952314916,0.4471446725425049,0.5394101886518465,0.405091047961925,0.19337537376352026,0.1991035306314346,0.5171531032884992,0.7060825024765337,0.19969639058666275,0.18748128994021576,0.5869872823362606,0.5032524063504604,0.3897668157474237,0.4253999921061489,0.49682752667093233,0.44109919072949727],\"y\":[-0.39737895949798285,-0.506946982267532,0.6722981377961484,0.8427287995570388,-0.21868448159567028,0.02736473870255328,0.04066802623281522,0.07657299402229978,-0.21321672800368033,0.1454988577940124,0.6450768565586493,-0.3310783724665273,0.2575896099598767,0.8414784714732756,0.3429105482554068,0.5787757743398381,0.03431898132869517,0.05750171824865973,0.056127957683152485,0.06582212655147397,0.048158430587783234,0.2841036789718385,0.31288655385385844,0.14988339966638928,-0.6855825611678814,-0.21315327349605248,0.05025455769244097,0.03471923739924645,-0.5703417899989304,-0.6525230512396379,0.09445202507587361,-0.47871029485976063,-0.4257851595828651,-0.4856349780966466,-0.415244317931833,-0.2125881539029211,-0.05846360771248639,-0.17438352475575186,-0.1775536564712114,-0.13496061234000775,-0.2125894341236971,-0.0633541724513401,-0.06054557339857361,-0.21824885662359694,-0.08589755211020757,-0.6792496638146256,-0.046191971819454836,-0.04374083125960913,0.05010332270105573,0.10179126317442996,-0.5066950802444455,-0.36392018188403863,-0.29639008654742216,-0.14242738577621453,-0.4195089931812603,-0.18042418227092336,-0.4168577742321573,0.1569878555926525,0.0688995785396364,0.13397366475690134,0.8481894747134938,0.19725345420001333,0.22884375768350024,0.15801918773577414,0.22963155029720397,0.23718069039634201,0.6420340927639412,0.2298387087081729,0.2456966290749839,0.09359938462431101,-0.6169818602842645,0.8192341174182265,-0.121981564527273,0.2280741771052642,0.2280451192362652,-0.12193368441277663,0.252005806318163,0.2449526175749778,0.4334850517249821,0.5350232822100358,0.21851033930794814,0.07020520604342864,0.057124021829004994,-0.17315981905607916,0.0033249615561064417,0.6601515729868292,-0.11386959472699631,0.14775447841036318,0.35836286258576133,0.05953770822906667,0.05557201044562612,0.05888274989589451,0.030450649306317197,0.05688128598009623,0.044556884525249835,-0.06947555235076348,0.05519080406852226,-0.6679698667895715,-0.7381794045063104,-0.24479042010223365,0.04427174268146413,0.02379612039971638,0.05509873771585175,0.023529645486966778,0.04117479079347178,0.08951412735930063,-0.25014339024113863,0.07600563555291792,0.02144969033506875,-0.2188717901308359,0.4422408361254782,0.7727185010383851,0.8064557632239384,0.47869063576345783,0.04818592887041659,0.5590660881487156,0.7661702881617531,0.8117730899282347,-0.0600909691472265,0.07817006541510253,0.31811099462926384,0.4310879273646675,0.5689515735650579,0.6615128596006935,0.06391352350554041,-0.2987443540697145,-0.6537372313466475,-0.5797627482306884,-0.17230007984186302,-0.5461331760804016,0.7210314190376386,0.9049120207254826,0.07876029940890766,-0.491428913964832,-0.6173468357399954,-0.5421369995794777,-0.5916409554321221,-0.5333165487312598,-0.3344115828994651,0.04283135758480144,-0.4060972803350838,-0.4704292136799417,-0.3487251759062905,0.04440508402892823,0.030485160144115855,0.03289934095874859,0.03068252520957899,-0.6680566107433422,0.9169534586963144,-0.48330471206169107,-0.04823644640090536,0.2557369758085436,-0.27492719201189814,-0.6041296925791615,0.0003953258586022309,-0.16021381099617812,-0.09033606744879497,-0.04980864349963314,-0.08965657128291217,-0.2447673041104246,-0.05543654712042737,-0.2480281437900567,-0.03412335177487054,0.06664615085177722,-0.047380470282877174,-0.0842147234524703,0.053750673158404545,-0.09312627128970755,-0.11551643612633307,-0.06202740649353532,-0.24479516521543615,-0.07428392671995128,-0.08894838289838738,-0.09085333026174855,-0.10125789895455194,-0.24832434384339788,-0.06167749164407179,-0.04920265682701007,-0.3812165641148253,0.1715954807402165,-0.25599114734587414,-0.3896202267257437,0.12610930541506185,0.6637968204716768,-0.2653804585386077,0.14872244785363511,-0.5622236384589039,0.2913955379513904,0.6208521950148775,-0.5313479417407182,0.27595827759623537,0.6044509666345869,-0.590375089776873,0.7459497787808291,-0.565317316624261,0.5492018169999822,0.49603094804139763,-0.5818649197946324,0.29637267628373104,0.49664480274324463,-0.6019544868396172,0.49354502855959836,-0.6172261137623162,0.29147589598164075,0.45994673112946544,-0.5634782471404745,-0.30910605904700184,0.06963429548959403,0.6076460601618814,0.05237300752080559,0.0897072346865345,0.04199122143854287,0.06513946457125969,0.06859431899575139,0.03683022686368765,0.013941222987697791,0.11347475540956888,0.0502913464659683,0.09720330911344816,0.06782781271457433,-0.2483178905056719,0.7016203350828091,0.671899721198333,0.2716827425682224,0.06702145993200483,-0.5272526999186475,-0.5823521348086326,-0.24875250103953397,0.05911745141459906,0.08501004792752363,-0.6603530626056501,0.5228276959641504,-0.5237481013007678,0.177848104193011,-0.522583992270821,-0.6850952113066787,0.15488840565318956,0.061369411837637874,-0.09606218126690987,0.09118493486018193,0.03988120904711166,0.03101925293252868,-0.24588881095320322,-0.19452850595790272,0.0942145011816089,0.02182010313107538,-0.22225446104614863,-0.2109601117224934,0.10157098140544804,0.028818321731412737,-0.0968849310656933,0.0810364362991105,0.039470949789293455,0.09575844737127447],\"type\":\"scatter\"}],                        {\"hovermode\":\"closest\",\"margin\":{\"b\":20,\"l\":20,\"r\":20,\"t\":20},\"showlegend\":false,\"xaxis\":{\"showgrid\":false,\"showticklabels\":false,\"zeroline\":false},\"yaxis\":{\"showgrid\":false,\"showticklabels\":false,\"zeroline\":false},\"template\":{\"data\":{\"histogram2dcontour\":[{\"type\":\"histogram2dcontour\",\"colorbar\":{\"outlinewidth\":0,\"ticks\":\"\"},\"colorscale\":[[0.0,\"#0d0887\"],[0.1111111111111111,\"#46039f\"],[0.2222222222222222,\"#7201a8\"],[0.3333333333333333,\"#9c179e\"],[0.4444444444444444,\"#bd3786\"],[0.5555555555555556,\"#d8576b\"],[0.6666666666666666,\"#ed7953\"],[0.7777777777777778,\"#fb9f3a\"],[0.8888888888888888,\"#fdca26\"],[1.0,\"#f0f921\"]]}],\"choropleth\":[{\"type\":\"choropleth\",\"colorbar\":{\"outlinewidth\":0,\"ticks\":\"\"}}],\"histogram2d\":[{\"type\":\"histogram2d\",\"colorbar\":{\"outlinewidth\":0,\"ticks\":\"\"},\"colorscale\":[[0.0,\"#0d0887\"],[0.1111111111111111,\"#46039f\"],[0.2222222222222222,\"#7201a8\"],[0.3333333333333333,\"#9c179e\"],[0.4444444444444444,\"#bd3786\"],[0.5555555555555556,\"#d8576b\"],[0.6666666666666666,\"#ed7953\"],[0.7777777777777778,\"#fb9f3a\"],[0.8888888888888888,\"#fdca26\"],[1.0,\"#f0f921\"]]}],\"heatmap\":[{\"type\":\"heatmap\",\"colorbar\":{\"outlinewidth\":0,\"ticks\":\"\"},\"colorscale\":[[0.0,\"#0d0887\"],[0.1111111111111111,\"#46039f\"],[0.2222222222222222,\"#7201a8\"],[0.3333333333333333,\"#9c179e\"],[0.4444444444444444,\"#bd3786\"],[0.5555555555555556,\"#d8576b\"],[0.6666666666666666,\"#ed7953\"],[0.7777777777777778,\"#fb9f3a\"],[0.8888888888888888,\"#fdca26\"],[1.0,\"#f0f921\"]]}],\"heatmapgl\":[{\"type\":\"heatmapgl\",\"colorbar\":{\"outlinewidth\":0,\"ticks\":\"\"},\"colorscale\":[[0.0,\"#0d0887\"],[0.1111111111111111,\"#46039f\"],[0.2222222222222222,\"#7201a8\"],[0.3333333333333333,\"#9c179e\"],[0.4444444444444444,\"#bd3786\"],[0.5555555555555556,\"#d8576b\"],[0.6666666666666666,\"#ed7953\"],[0.7777777777777778,\"#fb9f3a\"],[0.8888888888888888,\"#fdca26\"],[1.0,\"#f0f921\"]]}],\"contourcarpet\":[{\"type\":\"contourcarpet\",\"colorbar\":{\"outlinewidth\":0,\"ticks\":\"\"}}],\"contour\":[{\"type\":\"contour\",\"colorbar\":{\"outlinewidth\":0,\"ticks\":\"\"},\"colorscale\":[[0.0,\"#0d0887\"],[0.1111111111111111,\"#46039f\"],[0.2222222222222222,\"#7201a8\"],[0.3333333333333333,\"#9c179e\"],[0.4444444444444444,\"#bd3786\"],[0.5555555555555556,\"#d8576b\"],[0.6666666666666666,\"#ed7953\"],[0.7777777777777778,\"#fb9f3a\"],[0.8888888888888888,\"#fdca26\"],[1.0,\"#f0f921\"]]}],\"surface\":[{\"type\":\"surface\",\"colorbar\":{\"outlinewidth\":0,\"ticks\":\"\"},\"colorscale\":[[0.0,\"#0d0887\"],[0.1111111111111111,\"#46039f\"],[0.2222222222222222,\"#7201a8\"],[0.3333333333333333,\"#9c179e\"],[0.4444444444444444,\"#bd3786\"],[0.5555555555555556,\"#d8576b\"],[0.6666666666666666,\"#ed7953\"],[0.7777777777777778,\"#fb9f3a\"],[0.8888888888888888,\"#fdca26\"],[1.0,\"#f0f921\"]]}],\"mesh3d\":[{\"type\":\"mesh3d\",\"colorbar\":{\"outlinewidth\":0,\"ticks\":\"\"}}],\"scatter\":[{\"fillpattern\":{\"fillmode\":\"overlay\",\"size\":10,\"solidity\":0.2},\"type\":\"scatter\"}],\"parcoords\":[{\"type\":\"parcoords\",\"line\":{\"colorbar\":{\"outlinewidth\":0,\"ticks\":\"\"}}}],\"scatterpolargl\":[{\"type\":\"scatterpolargl\",\"marker\":{\"colorbar\":{\"outlinewidth\":0,\"ticks\":\"\"}}}],\"bar\":[{\"error_x\":{\"color\":\"#2a3f5f\"},\"error_y\":{\"color\":\"#2a3f5f\"},\"marker\":{\"line\":{\"color\":\"#E5ECF6\",\"width\":0.5},\"pattern\":{\"fillmode\":\"overlay\",\"size\":10,\"solidity\":0.2}},\"type\":\"bar\"}],\"scattergeo\":[{\"type\":\"scattergeo\",\"marker\":{\"colorbar\":{\"outlinewidth\":0,\"ticks\":\"\"}}}],\"scatterpolar\":[{\"type\":\"scatterpolar\",\"marker\":{\"colorbar\":{\"outlinewidth\":0,\"ticks\":\"\"}}}],\"histogram\":[{\"marker\":{\"pattern\":{\"fillmode\":\"overlay\",\"size\":10,\"solidity\":0.2}},\"type\":\"histogram\"}],\"scattergl\":[{\"type\":\"scattergl\",\"marker\":{\"colorbar\":{\"outlinewidth\":0,\"ticks\":\"\"}}}],\"scatter3d\":[{\"type\":\"scatter3d\",\"line\":{\"colorbar\":{\"outlinewidth\":0,\"ticks\":\"\"}},\"marker\":{\"colorbar\":{\"outlinewidth\":0,\"ticks\":\"\"}}}],\"scattermapbox\":[{\"type\":\"scattermapbox\",\"marker\":{\"colorbar\":{\"outlinewidth\":0,\"ticks\":\"\"}}}],\"scatterternary\":[{\"type\":\"scatterternary\",\"marker\":{\"colorbar\":{\"outlinewidth\":0,\"ticks\":\"\"}}}],\"scattercarpet\":[{\"type\":\"scattercarpet\",\"marker\":{\"colorbar\":{\"outlinewidth\":0,\"ticks\":\"\"}}}],\"carpet\":[{\"aaxis\":{\"endlinecolor\":\"#2a3f5f\",\"gridcolor\":\"white\",\"linecolor\":\"white\",\"minorgridcolor\":\"white\",\"startlinecolor\":\"#2a3f5f\"},\"baxis\":{\"endlinecolor\":\"#2a3f5f\",\"gridcolor\":\"white\",\"linecolor\":\"white\",\"minorgridcolor\":\"white\",\"startlinecolor\":\"#2a3f5f\"},\"type\":\"carpet\"}],\"table\":[{\"cells\":{\"fill\":{\"color\":\"#EBF0F8\"},\"line\":{\"color\":\"white\"}},\"header\":{\"fill\":{\"color\":\"#C8D4E3\"},\"line\":{\"color\":\"white\"}},\"type\":\"table\"}],\"barpolar\":[{\"marker\":{\"line\":{\"color\":\"#E5ECF6\",\"width\":0.5},\"pattern\":{\"fillmode\":\"overlay\",\"size\":10,\"solidity\":0.2}},\"type\":\"barpolar\"}],\"pie\":[{\"automargin\":true,\"type\":\"pie\"}]},\"layout\":{\"autotypenumbers\":\"strict\",\"colorway\":[\"#636efa\",\"#EF553B\",\"#00cc96\",\"#ab63fa\",\"#FFA15A\",\"#19d3f3\",\"#FF6692\",\"#B6E880\",\"#FF97FF\",\"#FECB52\"],\"font\":{\"color\":\"#2a3f5f\"},\"hovermode\":\"closest\",\"hoverlabel\":{\"align\":\"left\"},\"paper_bgcolor\":\"white\",\"plot_bgcolor\":\"#E5ECF6\",\"polar\":{\"bgcolor\":\"#E5ECF6\",\"angularaxis\":{\"gridcolor\":\"white\",\"linecolor\":\"white\",\"ticks\":\"\"},\"radialaxis\":{\"gridcolor\":\"white\",\"linecolor\":\"white\",\"ticks\":\"\"}},\"ternary\":{\"bgcolor\":\"#E5ECF6\",\"aaxis\":{\"gridcolor\":\"white\",\"linecolor\":\"white\",\"ticks\":\"\"},\"baxis\":{\"gridcolor\":\"white\",\"linecolor\":\"white\",\"ticks\":\"\"},\"caxis\":{\"gridcolor\":\"white\",\"linecolor\":\"white\",\"ticks\":\"\"}},\"coloraxis\":{\"colorbar\":{\"outlinewidth\":0,\"ticks\":\"\"}},\"colorscale\":{\"sequential\":[[0.0,\"#0d0887\"],[0.1111111111111111,\"#46039f\"],[0.2222222222222222,\"#7201a8\"],[0.3333333333333333,\"#9c179e\"],[0.4444444444444444,\"#bd3786\"],[0.5555555555555556,\"#d8576b\"],[0.6666666666666666,\"#ed7953\"],[0.7777777777777778,\"#fb9f3a\"],[0.8888888888888888,\"#fdca26\"],[1.0,\"#f0f921\"]],\"sequentialminus\":[[0.0,\"#0d0887\"],[0.1111111111111111,\"#46039f\"],[0.2222222222222222,\"#7201a8\"],[0.3333333333333333,\"#9c179e\"],[0.4444444444444444,\"#bd3786\"],[0.5555555555555556,\"#d8576b\"],[0.6666666666666666,\"#ed7953\"],[0.7777777777777778,\"#fb9f3a\"],[0.8888888888888888,\"#fdca26\"],[1.0,\"#f0f921\"]],\"diverging\":[[0,\"#8e0152\"],[0.1,\"#c51b7d\"],[0.2,\"#de77ae\"],[0.3,\"#f1b6da\"],[0.4,\"#fde0ef\"],[0.5,\"#f7f7f7\"],[0.6,\"#e6f5d0\"],[0.7,\"#b8e186\"],[0.8,\"#7fbc41\"],[0.9,\"#4d9221\"],[1,\"#276419\"]]},\"xaxis\":{\"gridcolor\":\"white\",\"linecolor\":\"white\",\"ticks\":\"\",\"title\":{\"standoff\":15},\"zerolinecolor\":\"white\",\"automargin\":true,\"zerolinewidth\":2},\"yaxis\":{\"gridcolor\":\"white\",\"linecolor\":\"white\",\"ticks\":\"\",\"title\":{\"standoff\":15},\"zerolinecolor\":\"white\",\"automargin\":true,\"zerolinewidth\":2},\"scene\":{\"xaxis\":{\"backgroundcolor\":\"#E5ECF6\",\"gridcolor\":\"white\",\"linecolor\":\"white\",\"showbackground\":true,\"ticks\":\"\",\"zerolinecolor\":\"white\",\"gridwidth\":2},\"yaxis\":{\"backgroundcolor\":\"#E5ECF6\",\"gridcolor\":\"white\",\"linecolor\":\"white\",\"showbackground\":true,\"ticks\":\"\",\"zerolinecolor\":\"white\",\"gridwidth\":2},\"zaxis\":{\"backgroundcolor\":\"#E5ECF6\",\"gridcolor\":\"white\",\"linecolor\":\"white\",\"showbackground\":true,\"ticks\":\"\",\"zerolinecolor\":\"white\",\"gridwidth\":2}},\"shapedefaults\":{\"line\":{\"color\":\"#2a3f5f\"}},\"annotationdefaults\":{\"arrowcolor\":\"#2a3f5f\",\"arrowhead\":0,\"arrowwidth\":1},\"geo\":{\"bgcolor\":\"white\",\"landcolor\":\"#E5ECF6\",\"subunitcolor\":\"white\",\"showland\":true,\"showlakes\":true,\"lakecolor\":\"white\"},\"title\":{\"x\":0.05},\"mapbox\":{\"style\":\"light\"},\"margin\":{\"b\":0,\"l\":0,\"r\":0,\"t\":30}}}},                        {\"responsive\": true}                    ).then(function(){\n",
       "                            \n",
       "var gd = document.getElementById('5bfba630-16f2-441e-a876-0eb2a3f84312');\n",
       "var x = new MutationObserver(function (mutations, observer) {{\n",
       "        var display = window.getComputedStyle(gd).display;\n",
       "        if (!display || display === 'none') {{\n",
       "            console.log([gd, 'removed!']);\n",
       "            Plotly.purge(gd);\n",
       "            observer.disconnect();\n",
       "        }}\n",
       "}});\n",
       "\n",
       "// Listen for the removal of the full notebook cells\n",
       "var notebookContainer = gd.closest('#notebook-container');\n",
       "if (notebookContainer) {{\n",
       "    x.observe(notebookContainer, {childList: true});\n",
       "}}\n",
       "\n",
       "// Listen for the clearing of the current output cell\n",
       "var outputEl = gd.closest('.output');\n",
       "if (outputEl) {{\n",
       "    x.observe(outputEl, {childList: true});\n",
       "}}\n",
       "\n",
       "                        })                };                });            </script>        </div>"
      ]
     },
     "metadata": {},
     "output_type": "display_data"
    }
   ],
   "source": [
    "fig = go.Figure(\n",
    "    data=[edge_trace, node_trace],\n",
    "    layout=go.Layout(\n",
    "        showlegend=False,\n",
    "        hovermode=\"closest\",\n",
    "        margin=dict(b=20, l=20, r=20, t=20),\n",
    "        xaxis=dict(showgrid=False, zeroline=False, showticklabels=False),\n",
    "        yaxis=dict(showgrid=False, zeroline=False, showticklabels=False),\n",
    "    ),\n",
    ")\n",
    "fig.show()"
   ]
  }
 ],
 "metadata": {
  "kernelspec": {
   "display_name": "venv",
   "language": "python",
   "name": "python3"
  },
  "language_info": {
   "codemirror_mode": {
    "name": "ipython",
    "version": 3
   },
   "file_extension": ".py",
   "mimetype": "text/x-python",
   "name": "python",
   "nbconvert_exporter": "python",
   "pygments_lexer": "ipython3",
   "version": "3.12.3"
  }
 },
 "nbformat": 4,
 "nbformat_minor": 2
}
